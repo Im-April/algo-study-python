{
  "nbformat": 4,
  "nbformat_minor": 0,
  "metadata": {
    "colab": {
      "provenance": []
    },
    "kernelspec": {
      "name": "python3",
      "display_name": "Python 3"
    },
    "language_info": {
      "name": "python"
    }
  },
  "cells": [
    {
      "cell_type": "code",
      "execution_count": 1,
      "metadata": {
        "colab": {
          "base_uri": "https://localhost:8080/"
        },
        "id": "wawV6h-SaWFf",
        "outputId": "c2cdd265-0a32-485e-8916-84d061951f82"
      },
      "outputs": [
        {
          "output_type": "stream",
          "name": "stdout",
          "text": [
            "1000\n",
            "-7\n",
            "0\n"
          ]
        }
      ],
      "source": [
        "# 정수\n",
        "\n",
        "a = 1000\n",
        "print(a)\n",
        "\n",
        "a = -7\n",
        "print(a)\n",
        "\n",
        "a = 0\n",
        "print(a)"
      ]
    },
    {
      "cell_type": "code",
      "source": [
        "# 실수\n",
        "\n",
        "# 양의 실수\n",
        "a = 157.12\n",
        "print(a)\n",
        "\n",
        "\n",
        "# 음의 실수\n",
        "a = -157.12\n",
        "print(a)\n",
        "\n",
        "# 정수부가 0일 때 0을 생략\n",
        "a = -.7\n",
        "print(a) # -0.7"
      ],
      "metadata": {
        "colab": {
          "base_uri": "https://localhost:8080/"
        },
        "id": "Wq8dzOSpb4Cg",
        "outputId": "69ea1233-0383-46d8-c31f-1cea6cb96381"
      },
      "execution_count": 2,
      "outputs": [
        {
          "output_type": "stream",
          "name": "stdout",
          "text": [
            "157.12\n",
            "-157.12\n",
            "-0.7\n"
          ]
        }
      ]
    },
    {
      "cell_type": "code",
      "source": [
        "# 10억의 지수 표현 방식\n",
        "\n",
        "a = 1e9\n",
        "print(a)\n",
        "\n",
        "# 752.5\n",
        "a = 75.25e1\n",
        "print(a)\n",
        "\n",
        "# 3.954\n",
        "a = 3954e-3\n",
        "print(a)"
      ],
      "metadata": {
        "colab": {
          "base_uri": "https://localhost:8080/"
        },
        "id": "wXxFKRlycSMg",
        "outputId": "28eb5a92-17a1-4eea-e903-97c4f0a11ba1"
      },
      "execution_count": 3,
      "outputs": [
        {
          "output_type": "stream",
          "name": "stdout",
          "text": [
            "1000000000.0\n",
            "752.5\n",
            "3.954\n"
          ]
        }
      ]
    },
    {
      "cell_type": "code",
      "source": [
        "# 실수 표현에 대한 한계\n",
        "\n",
        "a = 0.3 + 0.6\n",
        "print(a)\n",
        "\n",
        "if a == 0.9:\n",
        "  print(True)\n",
        "else :\n",
        "  print(False)\n",
        "\n",
        "# round 함수 사용해보기\n",
        "# round(실수형, 소수점 이하 몇 자리까지 남길지(반올림 위치))\n",
        "print(round(123.456, 2))\n",
        "\n",
        "a = 0.3 + 0.6\n",
        "print(round(a, 4))\n",
        "\n",
        "if round(a, 4) == 0.9:\n",
        "  print(True)\n",
        "else :\n",
        "  print(False)"
      ],
      "metadata": {
        "colab": {
          "base_uri": "https://localhost:8080/"
        },
        "id": "IqboiMZScwEe",
        "outputId": "f7a71ced-6023-4f50-8d95-be3271002d3b"
      },
      "execution_count": 6,
      "outputs": [
        {
          "output_type": "stream",
          "name": "stdout",
          "text": [
            "0.8999999999999999\n",
            "False\n",
            "123.46\n",
            "0.9\n",
            "True\n"
          ]
        }
      ]
    },
    {
      "cell_type": "markdown",
      "source": [
        "`print(round(a, 4))`\n",
        "- a = 0.8999999999999999\n",
        "- round(a, 4) → 소수점 넷째 자리까지 반올림 → \"0.9\" 출력됨"
      ],
      "metadata": {
        "id": "Q-bF5gI4erkS"
      }
    },
    {
      "cell_type": "code",
      "source": [
        "a = 7\n",
        "b = 3\n",
        "\n",
        "# 자료형 연산\n",
        "\n",
        "print(a+b)\n",
        "print(a-b)\n",
        "print(a*b)\n",
        "\n",
        "# / 나눗셈은 실수형으로 나온다\n",
        "print(a/b)\n",
        "\n",
        "# 나머지\n",
        "print(a%b)\n",
        "\n",
        "# 몫\n",
        "print(a//b)\n",
        "\n",
        "# 거듭제곱\n",
        "print(a**2)"
      ],
      "metadata": {
        "colab": {
          "base_uri": "https://localhost:8080/"
        },
        "id": "WhxaVGRzfDrw",
        "outputId": "52598908-4580-4df9-8820-383c8e0a2eaf"
      },
      "execution_count": 9,
      "outputs": [
        {
          "output_type": "stream",
          "name": "stdout",
          "text": [
            "10\n",
            "4\n",
            "21\n",
            "2.3333333333333335\n",
            "1\n",
            "2\n",
            "49\n"
          ]
        }
      ]
    },
    {
      "cell_type": "code",
      "source": [
        "# 리스트 자료형\n",
        "\n",
        "a = [1,2,3,4,5,6,7,8,9]\n",
        "print(a)\n",
        "\n",
        "# 인덱싱 (4번째 인덱스 즉, 다섯 번째 원소에 접근)\n",
        "print(a[4]) # 5\n",
        "\n",
        "# 빈 리스트 선언 방법_1\n",
        "a_list = list()\n",
        "print(a_list)\n",
        "\n",
        "# 빈 리스트 선언 방법_2\n",
        "a_list2 = []\n",
        "print(a_list2)"
      ],
      "metadata": {
        "colab": {
          "base_uri": "https://localhost:8080/"
        },
        "id": "nttSjGh9fqKP",
        "outputId": "3c1d5b7e-eb21-4f3b-95f0-f0ae240e7079"
      },
      "execution_count": 13,
      "outputs": [
        {
          "output_type": "stream",
          "name": "stdout",
          "text": [
            "[1, 2, 3, 4, 5, 6, 7, 8, 9]\n",
            "5\n",
            "[]\n",
            "[]\n"
          ]
        }
      ]
    },
    {
      "cell_type": "code",
      "source": [
        "# 크기가 n이고, 모든 값이 0인 1차원 리스트 초기화\n",
        "\n",
        "n = 10\n",
        "a = [0] * n\n",
        "print(a)"
      ],
      "metadata": {
        "colab": {
          "base_uri": "https://localhost:8080/"
        },
        "id": "lZthhtevgr8B",
        "outputId": "f3efb8d6-0f8b-469d-9558-28b0b018d3d3"
      },
      "execution_count": 14,
      "outputs": [
        {
          "output_type": "stream",
          "name": "stdout",
          "text": [
            "[0, 0, 0, 0, 0, 0, 0, 0, 0, 0]\n"
          ]
        }
      ]
    },
    {
      "cell_type": "markdown",
      "source": [
        "`a = [0] * n`\n",
        "- a = [0] : [0]은 원소 하나(0)만 있는 리스트\n",
        "- `* n`은 리스트 반복 연산자\n",
        "- 즉, 길이가 10이고 모든 원소가 0인 리스트를 생성."
      ],
      "metadata": {
        "id": "cYBPwUzZhCFL"
      }
    },
    {
      "cell_type": "code",
      "source": [
        "# 리스트 인덱싱\n",
        "\n",
        "a = [1,2,3,4,5,6,7,8,9]\n",
        "print(a[-1])\n",
        "\n",
        "print(a[-3])\n",
        "\n",
        "a[3] = 7\n",
        "print(a)\n",
        "\n",
        "# 슬라이싱\n",
        "print(a[1:4]) # 2,3,7\n",
        "print(a[::2]) # 1,3,5,7,9"
      ],
      "metadata": {
        "colab": {
          "base_uri": "https://localhost:8080/"
        },
        "id": "oO4OXPwfhVKN",
        "outputId": "2abba796-070f-4c3f-ae69-95742e9384da"
      },
      "execution_count": 18,
      "outputs": [
        {
          "output_type": "stream",
          "name": "stdout",
          "text": [
            "9\n",
            "7\n",
            "[1, 2, 3, 7, 5, 6, 7, 8, 9]\n",
            "[2, 3, 7]\n",
            "[1, 3, 5, 7, 9]\n"
          ]
        }
      ]
    },
    {
      "cell_type": "code",
      "source": [
        "# 리스트 컴프리헨션\n",
        "\n",
        "# 0부터 19까지의 수 중에서 홀수만 포함하는 리스트\n",
        "\n",
        "array = [i for i in range(20) if i % 2 == 1]\n",
        "\n",
        "print(array)\n",
        "\n",
        "'''\n",
        "같은 코드\n",
        "\n",
        "array = []\n",
        "\n",
        "for i in range(20):\n",
        "  if i % 2 == 1:\n",
        "    array.append(i)\n",
        "\n",
        "print(array)\n",
        "'''"
      ],
      "metadata": {
        "colab": {
          "base_uri": "https://localhost:8080/"
        },
        "id": "w3h07OsQh90D",
        "outputId": "1f44812b-eea4-49ad-ed92-112e59d90b8b"
      },
      "execution_count": 19,
      "outputs": [
        {
          "output_type": "stream",
          "name": "stdout",
          "text": [
            "[1, 3, 5, 7, 9, 11, 13, 15, 17, 19]\n"
          ]
        }
      ]
    },
    {
      "cell_type": "markdown",
      "source": [
        "`array = [i for i in range(20) if i % 2 == 1]`\n",
        "- `range(20)` : 0부터 19까지 정수 생성 → [0, 1, 2, ..., 19]\n",
        "\n",
        "- `for i in range(20)` : 0부터 19까지 하나씩 i에 대입하며 반복.\n",
        "\n",
        "- `if i % 2 == 1` : i % 2는 i를 2로 나눈 나머지.== 1 → 홀수만 선택.\n",
        "\n",
        "- `[i for i in range(20) if i % 2 == 1]` :\n",
        "\n",
        "  - 리스트 내포(list comprehension) 문법.\n",
        "\n",
        "  - range(20) 안의 홀수만 뽑아 리스트로 만듦.\n",
        "\n",
        "  ---"
      ],
      "metadata": {
        "id": "qh3es_o4jTpY"
      }
    },
    {
      "cell_type": "markdown",
      "source": [
        "## 컴프리헨션(comprehension)\n",
        "- 파이썬에서 리스트, 집합, 딕셔너리를 간단하고 직관적으로 만드는 문법\n",
        "\n",
        "### 📌 리스트 컴프리헨션 기본 구조\n",
        "```python\n",
        "[표현식 for 변수 in 반복가능객체 if 조건식]\n",
        "```\n",
        "- 표현식 → 리스트에 넣고 싶은 값\n",
        "- for 변수 in 반복가능객체 → 반복문\n",
        "- if 조건식 → (선택사항) 조건이 맞을 때만 추가\n",
        "\n",
        "#### 예시\n",
        "- 0에서 4까지 제곱수를 리스트에 넣고 싶을 때 ...\n",
        "\n",
        "**원래 반복문**\n",
        "```python\n",
        "squares = []\n",
        "for i in range(5):\n",
        "    squares.append(i * i)\n",
        "\n",
        "print(squares)  # [0, 1, 4, 9, 16]\n",
        "```\n",
        "\n",
        "**컴프리헨션**\n",
        "```python\n",
        "squares = [i * i for i in range(5)]\n",
        "print(squares)  # [0, 1, 4, 9, 16]\n",
        "```"
      ],
      "metadata": {
        "id": "s3STJIz7kfAy"
      }
    },
    {
      "cell_type": "code",
      "source": [
        "# 1부터 9까지의 수의 제곱 값을 포함하는 리스트\n",
        "\n",
        "array = [i * i for i in range(1,10)]\n",
        "\n",
        "print(array)"
      ],
      "metadata": {
        "colab": {
          "base_uri": "https://localhost:8080/"
        },
        "id": "abniemJ0jwn2",
        "outputId": "73e5139b-a5ed-4aae-a0c8-02dc5b247b9d"
      },
      "execution_count": 20,
      "outputs": [
        {
          "output_type": "stream",
          "name": "stdout",
          "text": [
            "[1, 4, 9, 16, 25, 36, 49, 64, 81]\n"
          ]
        }
      ]
    },
    {
      "cell_type": "code",
      "source": [
        "# N X M 크기의 2차원 리스트 초기화\n",
        "\n",
        "n = 3\n",
        "m = 3\n",
        "\n",
        "array = [[0] * m for _ in range(n)]\n",
        "print(array)"
      ],
      "metadata": {
        "colab": {
          "base_uri": "https://localhost:8080/"
        },
        "id": "TFr4Q_2Jvr9O",
        "outputId": "f1fd3fd0-5c5a-42fd-ec98-cabf090ba084"
      },
      "execution_count": 22,
      "outputs": [
        {
          "output_type": "stream",
          "name": "stdout",
          "text": [
            "[[0, 0, 0], [0, 0, 0], [0, 0, 0]]\n"
          ]
        }
      ]
    },
    {
      "cell_type": "markdown",
      "source": [
        "`[[0] * m for _ in range(n)]`\n",
        "\n",
        "- `[0] * m → [0, 0, 0]` :  (길이 m인 리스트)\n",
        "\n",
        "- `for _ in range(n)` → 위 리스트를 n번 반복해서 새로 생성\n",
        "\n",
        "- 즉, 3×3 크기의 2차원 리스트가 만들어짐."
      ],
      "metadata": {
        "id": "BcZrsnpbwkOp"
      }
    },
    {
      "cell_type": "code",
      "source": [
        "# 잘못된 초기화 방법\n",
        "\n",
        "n = 3\n",
        "m = 3\n",
        "array = [[0] * m for _ in range(n)]\n",
        "print(array)\n",
        "\n",
        "array[1][1] = 5\n",
        "print(array)\n",
        "\n",
        "\n",
        "# 내부적으로 포함된 4개의 리스트 모두가 동일한 객체에 대한 3개의 레퍼런스로 인식하기 때문에\n",
        "# 특정한 크기를 가지는 2차원 리스트를 초기화할 때는 컴프리헨션을 이용하면 좋다"
      ],
      "metadata": {
        "colab": {
          "base_uri": "https://localhost:8080/"
        },
        "id": "niTj2qGEwqj7",
        "outputId": "d4dfb771-9986-400e-e37f-3021224821e9"
      },
      "execution_count": 25,
      "outputs": [
        {
          "output_type": "stream",
          "name": "stdout",
          "text": [
            "[[0, 0, 0], [0, 0, 0], [0, 0, 0]]\n",
            "[[0, 0, 0], [0, 5, 0], [0, 0, 0]]\n"
          ]
        }
      ]
    },
    {
      "cell_type": "code",
      "source": [
        "# 리스트 관련 메소드\n",
        "\n",
        "# 기본 리스트\n",
        "a = [1,4,3]\n",
        "print(f'기본 리스트 : {a}')\n",
        "\n",
        "# 리스트에 맨 뒤에 원소 삽입\n",
        "a.append(2)\n",
        "print(f'사입 : {a}')\n",
        "\n",
        "# 오름차순 정렬\n",
        "a.sort()\n",
        "print(f'오름차순 정렬 : {a}')\n",
        "\n",
        "# 내림차순 정렬\n",
        "a.sort(reverse=True)\n",
        "print(f'내림차순 정렬 : {a}')\n",
        "\n",
        "# 리스트 원소 뒤집기\n",
        "a.reverse()\n",
        "print(f'원소 뒤집기 : {a}')\n",
        "\n",
        "# 특정 인덱스에 데이터 추가하기\n",
        "a.insert(2,3)\n",
        "print(f'인덱스 2에 3 추가 : {a}') # [1,2,3,3,4]\n",
        "\n",
        "# 특정 값인 데이터 개수 세기\n",
        "print(f'값이 3인 데이터 개수 : {a.count(3)} 개')\n",
        "\n",
        "# 특정 값 데이터 삭제\n",
        "a.remove(1)\n",
        "print(f'값이 1인 데이터 삭제 : {a}')"
      ],
      "metadata": {
        "colab": {
          "base_uri": "https://localhost:8080/"
        },
        "id": "ay8vwTMIx56Z",
        "outputId": "f9315a16-f5c1-4525-fa5d-ddda67e77f4d"
      },
      "execution_count": 34,
      "outputs": [
        {
          "output_type": "stream",
          "name": "stdout",
          "text": [
            "기본 리스트 : [1, 4, 3]\n",
            "사입 : [1, 4, 3, 2]\n",
            "오름차순 정렬 : [1, 2, 3, 4]\n",
            "내림차순 정렬 : [4, 3, 2, 1]\n",
            "원소 뒤집기 : [1, 2, 3, 4]\n",
            "인덱스 2에 3 추가 : [1, 2, 3, 3, 4]\n",
            "값이 3인 데이터 개수 : 2 개\n",
            "값이 1인 데이터 삭제 : [2, 3, 3, 4]\n"
          ]
        }
      ]
    },
    {
      "cell_type": "markdown",
      "source": [
        "## 🕓 각 리스트 함수별 시간 복잡도\n",
        "\n",
        "1. **append()**\n",
        "- 시간 복잡도: *O(1)* (상수 시간)\n",
        "- 리스트 맨 끝에 추가하므로 매우 빠릅니다\n",
        "```python\n",
        "pythonmy_list.append(x)  # O(1)\n",
        "```\n",
        "2. **insert()**\n",
        "- 시간 복잡도: *O(n)* (선형 시간)\n",
        "- 중간에 삽입하면 뒤의 모든 원소를 한 칸씩 이동해야 합니다\n",
        "```python\n",
        "pythonmy_list.insert(0, x)     # O(n) - 맨 앞 삽입이 최악\n",
        "my_list.insert(len(my_list), x)  # O(1) - 맨 뒤는 append와 동일\n",
        "```\n",
        "3. **remove()**\n",
        "- 시간 복잡도: *O(n)* (선형 시간)\n",
        "- 값을 찾기 위해 리스트를 순회하고, 삭제 후 뒤의 원소들을 이동해야 합니다\n",
        "```python\n",
        "pythonmy_list.remove(x)  # O(n) - 값 찾기 + 원소 이동\n",
        "```"
      ],
      "metadata": {
        "id": "iD9RqRBv01nl"
      }
    },
    {
      "cell_type": "code",
      "source": [
        "a = [1,2,3,4,5,5,5,]\n",
        "remove_set = {3,5}\n",
        "\n",
        "# remove_set에 포함되지 않은 값만 저장\n",
        "result = [i for i in a if i not in remove_set]\n",
        "print(result)"
      ],
      "metadata": {
        "colab": {
          "base_uri": "https://localhost:8080/"
        },
        "id": "TsEpiZmc0IiI",
        "outputId": "e21ce461-538d-4fd4-8e15-73e759df49a8"
      },
      "execution_count": 35,
      "outputs": [
        {
          "output_type": "stream",
          "name": "stdout",
          "text": [
            "[1, 2, 4]\n"
          ]
        }
      ]
    },
    {
      "cell_type": "code",
      "source": [
        "# 문자열\n",
        "data = 'Hello world'\n",
        "print(data)\n",
        "\n",
        "data = \"Don't you know \\\"Python\\\"?\"\n",
        "print(data)"
      ],
      "metadata": {
        "colab": {
          "base_uri": "https://localhost:8080/"
        },
        "id": "ED4Y7KkU2adQ",
        "outputId": "1f16b895-6af6-45a7-da74-c02d0f52168e"
      },
      "execution_count": 38,
      "outputs": [
        {
          "output_type": "stream",
          "name": "stdout",
          "text": [
            "Hello world\n",
            "Don't you know \"Python\"?\n"
          ]
        }
      ]
    },
    {
      "cell_type": "code",
      "source": [
        "# 문자열 연산\n",
        "a = \"Hello\"\n",
        "b = 'World'\n",
        "print(a+b)\n",
        "\n",
        "a = 'String'\n",
        "print(a * 3)\n",
        "\n",
        "a = 'ABCDEF'\n",
        "print(a[2:4]) # CD"
      ],
      "metadata": {
        "colab": {
          "base_uri": "https://localhost:8080/"
        },
        "id": "nW4vHpUS2wal",
        "outputId": "ab580455-95de-4ba7-a96f-891cb0290545"
      },
      "execution_count": 42,
      "outputs": [
        {
          "output_type": "stream",
          "name": "stdout",
          "text": [
            "HelloWorld\n",
            "StringStringString\n",
            "CD\n"
          ]
        }
      ]
    },
    {
      "cell_type": "code",
      "source": [
        "# 튜플 자료형\n",
        "# 한 번 선언된 값은 변경할 수 없다\n",
        "# 소괄호 사용\n",
        "\n",
        "a = (1,2,3,4)\n",
        "print(a)\n",
        "\n",
        "# a[2] = 7\n",
        "# print(a)"
      ],
      "metadata": {
        "colab": {
          "base_uri": "https://localhost:8080/"
        },
        "id": "T9TiCVi83Njv",
        "outputId": "21c4364e-ccd4-485a-f13a-52971347c3a3"
      },
      "execution_count": 44,
      "outputs": [
        {
          "output_type": "stream",
          "name": "stdout",
          "text": [
            "(1, 2, 3, 4)\n"
          ]
        }
      ]
    },
    {
      "cell_type": "code",
      "source": [
        "# 딕셔너리 자료형\n",
        "# 키-값\n",
        "# 순서 없음 : 인덱싱, 슬라이싱 못함\n",
        "\n",
        "data = dict()\n",
        "\n",
        "data['사과'] = 'apple'\n",
        "data['바나나'] = 'banana'\n",
        "data['코코넛'] = 'coconut'\n",
        "\n",
        "print(data)\n",
        "\n",
        "if '사과' in data:\n",
        "  print('\\'사과\\'를 키로 가지는 데이터가 존재합니다.')"
      ],
      "metadata": {
        "colab": {
          "base_uri": "https://localhost:8080/"
        },
        "id": "Bu3cV9_-3h9r",
        "outputId": "4035fd42-3791-426e-bd20-a7738634eeba"
      },
      "execution_count": 46,
      "outputs": [
        {
          "output_type": "stream",
          "name": "stdout",
          "text": [
            "{'사과': 'apple', '바나나': 'banana', '코코넛': 'coconut'}\n",
            "'사과'를 키로 가지는 데이터가 존재합니다.\n"
          ]
        }
      ]
    },
    {
      "cell_type": "code",
      "source": [
        "# 딕셔너리 자료형 관련 함수\n",
        "\n",
        "data = dict()\n",
        "data['사과'] = 'apple'\n",
        "data['바나나'] = 'banana'\n",
        "data['코코넛'] = 'coconut'\n",
        "\n",
        "# 키 데이터만 담은 리스트\n",
        "key_list = data.keys()\n",
        "print(key_list)\n",
        "print()\n",
        "\n",
        "# 값 데이터만 담은 리스트\n",
        "value_list = data.values()\n",
        "print(value_list)\n",
        "print()\n",
        "\n",
        "# 각 키에 따른 값을 하니씩 출력\n",
        "for key in key_list:\n",
        "  print(data[key])"
      ],
      "metadata": {
        "colab": {
          "base_uri": "https://localhost:8080/"
        },
        "id": "ekCcrJfI5smG",
        "outputId": "611a56bb-0846-4567-9244-29df14e7fa90"
      },
      "execution_count": 48,
      "outputs": [
        {
          "output_type": "stream",
          "name": "stdout",
          "text": [
            "dict_keys(['사과', '바나나', '코코넛'])\n",
            "\n",
            "dict_values(['apple', 'banana', 'coconut'])\n",
            "\n",
            "apple\n",
            "banana\n",
            "coconut\n"
          ]
        }
      ]
    },
    {
      "cell_type": "code",
      "source": [
        "# 집합 자료형\n",
        "# 중복을 허용하지 않는다\n",
        "# 순서 없음 : 인덱싱, 슬라이싱 못함\n",
        "# 값 데이터만 가지게 된다.\n",
        "# 중괄호 사용\n",
        "\n",
        "data = set([1,1,2,3,4,4,4])\n",
        "print(data)\n",
        "\n",
        "data = {1,1,2,3,4,4,4}\n",
        "print(data)"
      ],
      "metadata": {
        "colab": {
          "base_uri": "https://localhost:8080/"
        },
        "id": "Sr_CldZ16koJ",
        "outputId": "2adc2bfe-72eb-46b2-fc68-16e5dc0fcc92"
      },
      "execution_count": 50,
      "outputs": [
        {
          "output_type": "stream",
          "name": "stdout",
          "text": [
            "{1, 2, 3, 4}\n",
            "{1, 2, 3, 4}\n"
          ]
        }
      ]
    },
    {
      "cell_type": "code",
      "source": [
        "a = set([1,2,3,4,5])\n",
        "b = set([3,4,5,6,7])\n",
        "\n",
        "print(f'합집합 : {a|b}')\n",
        "print(f'교집합 : {a&b}')\n",
        "print(f'차집합 : {a-b}')"
      ],
      "metadata": {
        "colab": {
          "base_uri": "https://localhost:8080/"
        },
        "id": "qwxLwxUP717V",
        "outputId": "b2565412-3df5-4631-855c-ac9d730b0d70"
      },
      "execution_count": 52,
      "outputs": [
        {
          "output_type": "stream",
          "name": "stdout",
          "text": [
            "합집합 : {1, 2, 3, 4, 5, 6, 7}\n",
            "교집합 : {3, 4, 5}\n",
            "차집합 : {1, 2}\n"
          ]
        }
      ]
    },
    {
      "cell_type": "code",
      "source": [
        "# 집합 자료형 관련 함수\n",
        "\n",
        "data = set([1,2,3])\n",
        "print(data)\n",
        "\n",
        "# 새로운 원소 추가\n",
        "data.add(4)\n",
        "print(data)\n",
        "\n",
        "# 새로운 원소 여러 개 추가\n",
        "data.update([5,6])\n",
        "print(data)\n",
        "\n",
        "# 특정한 값을 갖는 원소 삭제\n",
        "data.remove(3)\n",
        "print(data)"
      ],
      "metadata": {
        "colab": {
          "base_uri": "https://localhost:8080/"
        },
        "id": "ftQh5xG-8H1-",
        "outputId": "9bbad508-f494-4a41-d890-e4f2eb2d8b7a"
      },
      "execution_count": 53,
      "outputs": [
        {
          "output_type": "stream",
          "name": "stdout",
          "text": [
            "{1, 2, 3}\n",
            "{1, 2, 3, 4}\n",
            "{1, 2, 3, 4, 5, 6}\n",
            "{1, 2, 4, 5, 6}\n"
          ]
        }
      ]
    }
  ]
}
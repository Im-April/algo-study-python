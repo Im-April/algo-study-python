{
  "nbformat": 4,
  "nbformat_minor": 0,
  "metadata": {
    "colab": {
      "provenance": []
    },
    "kernelspec": {
      "name": "python3",
      "display_name": "Python 3"
    },
    "language_info": {
      "name": "python"
    }
  },
  "cells": [
    {
      "cell_type": "code",
      "execution_count": 1,
      "metadata": {
        "colab": {
          "base_uri": "https://localhost:8080/"
        },
        "id": "wawV6h-SaWFf",
        "outputId": "c2cdd265-0a32-485e-8916-84d061951f82"
      },
      "outputs": [
        {
          "output_type": "stream",
          "name": "stdout",
          "text": [
            "1000\n",
            "-7\n",
            "0\n"
          ]
        }
      ],
      "source": [
        "# 정수\n",
        "\n",
        "a = 1000\n",
        "print(a)\n",
        "\n",
        "a = -7\n",
        "print(a)\n",
        "\n",
        "a = 0\n",
        "print(a)"
      ]
    },
    {
      "cell_type": "code",
      "source": [
        "# 실수\n",
        "\n",
        "# 양의 실수\n",
        "a = 157.12\n",
        "print(a)\n",
        "\n",
        "\n",
        "# 음의 실수\n",
        "a = -157.12\n",
        "print(a)\n",
        "\n",
        "# 정수부가 0일 때 0을 생략\n",
        "a = -.7\n",
        "print(a) # -0.7"
      ],
      "metadata": {
        "colab": {
          "base_uri": "https://localhost:8080/"
        },
        "id": "Wq8dzOSpb4Cg",
        "outputId": "69ea1233-0383-46d8-c31f-1cea6cb96381"
      },
      "execution_count": 2,
      "outputs": [
        {
          "output_type": "stream",
          "name": "stdout",
          "text": [
            "157.12\n",
            "-157.12\n",
            "-0.7\n"
          ]
        }
      ]
    },
    {
      "cell_type": "code",
      "source": [
        "# 10억의 지수 표현 방식\n",
        "\n",
        "a = 1e9\n",
        "print(a)\n",
        "\n",
        "# 752.5\n",
        "a = 75.25e1\n",
        "print(a)\n",
        "\n",
        "# 3.954\n",
        "a = 3954e-3\n",
        "print(a)"
      ],
      "metadata": {
        "colab": {
          "base_uri": "https://localhost:8080/"
        },
        "id": "wXxFKRlycSMg",
        "outputId": "28eb5a92-17a1-4eea-e903-97c4f0a11ba1"
      },
      "execution_count": 3,
      "outputs": [
        {
          "output_type": "stream",
          "name": "stdout",
          "text": [
            "1000000000.0\n",
            "752.5\n",
            "3.954\n"
          ]
        }
      ]
    },
    {
      "cell_type": "code",
      "source": [
        "# 실수 표현에 대한 한계\n",
        "\n",
        "a = 0.3 + 0.6\n",
        "print(a)\n",
        "\n",
        "if a == 0.9:\n",
        "  print(True)\n",
        "else :\n",
        "  print(False)\n",
        "\n",
        "# round 함수 사용해보기\n",
        "# round(실수형, 소수점 이하 몇 자리까지 남길지(반올림 위치))\n",
        "print(round(123.456, 2))\n",
        "\n",
        "a = 0.3 + 0.6\n",
        "print(round(a, 4))\n",
        "\n",
        "if round(a, 4) == 0.9:\n",
        "  print(True)\n",
        "else :\n",
        "  print(False)"
      ],
      "metadata": {
        "colab": {
          "base_uri": "https://localhost:8080/"
        },
        "id": "IqboiMZScwEe",
        "outputId": "f7a71ced-6023-4f50-8d95-be3271002d3b"
      },
      "execution_count": 6,
      "outputs": [
        {
          "output_type": "stream",
          "name": "stdout",
          "text": [
            "0.8999999999999999\n",
            "False\n",
            "123.46\n",
            "0.9\n",
            "True\n"
          ]
        }
      ]
    },
    {
      "cell_type": "markdown",
      "source": [
        "`print(round(a, 4))`\n",
        "- a = 0.8999999999999999\n",
        "- round(a, 4) → 소수점 넷째 자리까지 반올림 → \"0.9\" 출력됨"
      ],
      "metadata": {
        "id": "Q-bF5gI4erkS"
      }
    },
    {
      "cell_type": "code",
      "source": [
        "a = 7\n",
        "b = 3\n",
        "\n",
        "# 자료형 연산\n",
        "\n",
        "print(a+b)\n",
        "print(a-b)\n",
        "print(a*b)\n",
        "\n",
        "# / 나눗셈은 실수형으로 나온다\n",
        "print(a/b)\n",
        "\n",
        "# 나머지\n",
        "print(a%b)\n",
        "\n",
        "# 몫\n",
        "print(a//b)\n",
        "\n",
        "# 거듭제곱\n",
        "print(a**2)"
      ],
      "metadata": {
        "colab": {
          "base_uri": "https://localhost:8080/"
        },
        "id": "WhxaVGRzfDrw",
        "outputId": "52598908-4580-4df9-8820-383c8e0a2eaf"
      },
      "execution_count": 9,
      "outputs": [
        {
          "output_type": "stream",
          "name": "stdout",
          "text": [
            "10\n",
            "4\n",
            "21\n",
            "2.3333333333333335\n",
            "1\n",
            "2\n",
            "49\n"
          ]
        }
      ]
    },
    {
      "cell_type": "code",
      "source": [
        "# 리스트 자료형\n",
        "\n",
        "a = [1,2,3,4,5,6,7,8,9]\n",
        "print(a)\n",
        "\n",
        "# 인덱싱 (4번째 인덱스 즉, 다섯 번째 원소에 접근)\n",
        "print(a[4]) # 5\n",
        "\n",
        "# 빈 리스트 선언 방법_1\n",
        "a_list = list()\n",
        "print(a_list)\n",
        "\n",
        "# 빈 리스트 선언 방법_2\n",
        "a_list2 = []\n",
        "print(a_list2)"
      ],
      "metadata": {
        "colab": {
          "base_uri": "https://localhost:8080/"
        },
        "id": "nttSjGh9fqKP",
        "outputId": "3c1d5b7e-eb21-4f3b-95f0-f0ae240e7079"
      },
      "execution_count": 13,
      "outputs": [
        {
          "output_type": "stream",
          "name": "stdout",
          "text": [
            "[1, 2, 3, 4, 5, 6, 7, 8, 9]\n",
            "5\n",
            "[]\n",
            "[]\n"
          ]
        }
      ]
    },
    {
      "cell_type": "code",
      "source": [
        "# 크기가 n이고, 모든 값이 0인 1차원 리스트 초기화\n",
        "\n",
        "n = 10\n",
        "a = [0] * n\n",
        "print(a)"
      ],
      "metadata": {
        "colab": {
          "base_uri": "https://localhost:8080/"
        },
        "id": "lZthhtevgr8B",
        "outputId": "f3efb8d6-0f8b-469d-9558-28b0b018d3d3"
      },
      "execution_count": 14,
      "outputs": [
        {
          "output_type": "stream",
          "name": "stdout",
          "text": [
            "[0, 0, 0, 0, 0, 0, 0, 0, 0, 0]\n"
          ]
        }
      ]
    },
    {
      "cell_type": "markdown",
      "source": [
        "`a = [0] * n`\n",
        "- a = [0] : [0]은 원소 하나(0)만 있는 리스트\n",
        "- `* n`은 리스트 반복 연산자\n",
        "- 즉, 길이가 10이고 모든 원소가 0인 리스트를 생성."
      ],
      "metadata": {
        "id": "cYBPwUzZhCFL"
      }
    },
    {
      "cell_type": "code",
      "source": [
        "# 리스트 인덱싱\n",
        "\n",
        "a = [1,2,3,4,5,6,7,8,9]\n",
        "print(a[-1])\n",
        "\n",
        "print(a[-3])\n",
        "\n",
        "a[3] = 7\n",
        "print(a)\n",
        "\n",
        "# 슬라이싱\n",
        "print(a[1:4]) # 2,3,7\n",
        "print(a[::2]) # 1,3,5,7,9"
      ],
      "metadata": {
        "colab": {
          "base_uri": "https://localhost:8080/"
        },
        "id": "oO4OXPwfhVKN",
        "outputId": "2abba796-070f-4c3f-ae69-95742e9384da"
      },
      "execution_count": 18,
      "outputs": [
        {
          "output_type": "stream",
          "name": "stdout",
          "text": [
            "9\n",
            "7\n",
            "[1, 2, 3, 7, 5, 6, 7, 8, 9]\n",
            "[2, 3, 7]\n",
            "[1, 3, 5, 7, 9]\n"
          ]
        }
      ]
    },
    {
      "cell_type": "code",
      "source": [
        "# 리스트 컴프리헨션\n",
        "\n",
        "# 0부터 19까지의 수 중에서 홀수만 포함하는 리스트\n",
        "\n",
        "array = [i for i in range(20) if i % 2 == 1]\n",
        "\n",
        "print(array)\n",
        "\n",
        "'''\n",
        "같은 코드\n",
        "\n",
        "array = []\n",
        "\n",
        "for i in range(20):\n",
        "  if i % 2 == 1:\n",
        "    array.append(i)\n",
        "\n",
        "print(array)\n",
        "'''"
      ],
      "metadata": {
        "colab": {
          "base_uri": "https://localhost:8080/"
        },
        "id": "w3h07OsQh90D",
        "outputId": "1f44812b-eea4-49ad-ed92-112e59d90b8b"
      },
      "execution_count": 19,
      "outputs": [
        {
          "output_type": "stream",
          "name": "stdout",
          "text": [
            "[1, 3, 5, 7, 9, 11, 13, 15, 17, 19]\n"
          ]
        }
      ]
    },
    {
      "cell_type": "markdown",
      "source": [
        "`array = [i for i in range(20) if i % 2 == 1]`\n",
        "- `range(20)` : 0부터 19까지 정수 생성 → [0, 1, 2, ..., 19]\n",
        "\n",
        "- `for i in range(20)` : 0부터 19까지 하나씩 i에 대입하며 반복.\n",
        "\n",
        "- `if i % 2 == 1` : i % 2는 i를 2로 나눈 나머지.== 1 → 홀수만 선택.\n",
        "\n",
        "- `[i for i in range(20) if i % 2 == 1]` :\n",
        "\n",
        "  - 리스트 내포(list comprehension) 문법.\n",
        "\n",
        "  - range(20) 안의 홀수만 뽑아 리스트로 만듦.\n",
        "\n",
        "  ---"
      ],
      "metadata": {
        "id": "qh3es_o4jTpY"
      }
    },
    {
      "cell_type": "markdown",
      "source": [
        "## 컴프리헨션(comprehension)\n",
        "- 파이썬에서 리스트, 집합, 딕셔너리를 간단하고 직관적으로 만드는 문법\n",
        "\n",
        "### 📌 리스트 컴프리헨션 기본 구조\n",
        "```python\n",
        "[표현식 for 변수 in 반복가능객체 if 조건식]\n",
        "```\n",
        "- 표현식 → 리스트에 넣고 싶은 값\n",
        "- for 변수 in 반복가능객체 → 반복문\n",
        "- if 조건식 → (선택사항) 조건이 맞을 때만 추가\n",
        "\n",
        "#### 예시\n",
        "- 0에서 4까지 제곱수를 리스트에 넣고 싶을 때 ...\n",
        "\n",
        "**원래 반복문**\n",
        "```python\n",
        "squares = []\n",
        "for i in range(5):\n",
        "    squares.append(i * i)\n",
        "\n",
        "print(squares)  # [0, 1, 4, 9, 16]\n",
        "```\n",
        "\n",
        "**컴프리헨션**\n",
        "```python\n",
        "squares = [i * i for i in range(5)]\n",
        "print(squares)  # [0, 1, 4, 9, 16]\n",
        "```"
      ],
      "metadata": {
        "id": "s3STJIz7kfAy"
      }
    },
    {
      "cell_type": "code",
      "source": [
        "# 1부터 9까지의 수의 제곱 값을 포함하는 리스트\n",
        "\n",
        "array = [i * i for i in range(1,10)]\n",
        "\n",
        "print(array)"
      ],
      "metadata": {
        "colab": {
          "base_uri": "https://localhost:8080/"
        },
        "id": "abniemJ0jwn2",
        "outputId": "73e5139b-a5ed-4aae-a0c8-02dc5b247b9d"
      },
      "execution_count": 20,
      "outputs": [
        {
          "output_type": "stream",
          "name": "stdout",
          "text": [
            "[1, 4, 9, 16, 25, 36, 49, 64, 81]\n"
          ]
        }
      ]
    },
    {
      "cell_type": "code",
      "source": [
        "# N X M 크기의 2차원 리스트 초기화\n",
        "\n",
        "n = 3\n",
        "m = 3\n",
        "\n",
        "array = [[0] * m for _ in range(n)]\n",
        "print(array)"
      ],
      "metadata": {
        "colab": {
          "base_uri": "https://localhost:8080/"
        },
        "id": "TFr4Q_2Jvr9O",
        "outputId": "f1fd3fd0-5c5a-42fd-ec98-cabf090ba084"
      },
      "execution_count": 22,
      "outputs": [
        {
          "output_type": "stream",
          "name": "stdout",
          "text": [
            "[[0, 0, 0], [0, 0, 0], [0, 0, 0]]\n"
          ]
        }
      ]
    },
    {
      "cell_type": "markdown",
      "source": [
        "`[[0] * m for _ in range(n)]`\n",
        "\n",
        "- `[0] * m → [0, 0, 0]` :  (길이 m인 리스트)\n",
        "\n",
        "- `for _ in range(n)` → 위 리스트를 n번 반복해서 새로 생성\n",
        "\n",
        "- 즉, 3×3 크기의 2차원 리스트가 만들어짐."
      ],
      "metadata": {
        "id": "BcZrsnpbwkOp"
      }
    },
    {
      "cell_type": "code",
      "source": [
        "# 잘못된 초기화 방법\n",
        "\n",
        "n = 3\n",
        "m = 3\n",
        "array = [[0] * m for _ in range(n)]\n",
        "print(array)\n",
        "\n",
        "array[1][1] = 5\n",
        "print(array)\n",
        "\n",
        "\n",
        "# 내부적으로 포함된 4개의 리스트 모두가 동일한 객체에 대한 3개의 레퍼런스로 인식하기 때문에\n",
        "# 특정한 크기를 가지는 2차원 리스트를 초기화할 때는 컴프리헨션을 이용하면 좋다"
      ],
      "metadata": {
        "colab": {
          "base_uri": "https://localhost:8080/"
        },
        "id": "niTj2qGEwqj7",
        "outputId": "d4dfb771-9986-400e-e37f-3021224821e9"
      },
      "execution_count": 25,
      "outputs": [
        {
          "output_type": "stream",
          "name": "stdout",
          "text": [
            "[[0, 0, 0], [0, 0, 0], [0, 0, 0]]\n",
            "[[0, 0, 0], [0, 5, 0], [0, 0, 0]]\n"
          ]
        }
      ]
    },
    {
      "cell_type": "code",
      "source": [
        "# 리스트 관련 메소드\n",
        "\n",
        "# 기본 리스트\n",
        "a = [1,4,3]\n",
        "print(f'기본 리스트 : {a}')\n",
        "\n",
        "# 리스트에 맨 뒤에 원소 삽입\n",
        "a.append(2)\n",
        "print(f'사입 : {a}')\n",
        "\n",
        "# 오름차순 정렬\n",
        "a.sort()\n",
        "print(f'오름차순 정렬 : {a}')\n",
        "\n",
        "# 내림차순 정렬\n",
        "a.sort(reverse=True)\n",
        "print(f'내림차순 정렬 : {a}')\n",
        "\n",
        "# 리스트 원소 뒤집기\n",
        "a.reverse()\n",
        "print(f'원소 뒤집기 : {a}')\n",
        "\n",
        "# 특정 인덱스에 데이터 추가하기\n",
        "a.insert(2,3)\n",
        "print(f'인덱스 2에 3 추가 : {a}') # [1,2,3,3,4]\n",
        "\n",
        "# 특정 값인 데이터 개수 세기\n",
        "print(f'값이 3인 데이터 개수 : {a.count(3)} 개')\n",
        "\n",
        "# 특정 값 데이터 삭제\n",
        "a.remove(1)\n",
        "print(f'값이 1인 데이터 삭제 : {a}')"
      ],
      "metadata": {
        "colab": {
          "base_uri": "https://localhost:8080/"
        },
        "id": "ay8vwTMIx56Z",
        "outputId": "f9315a16-f5c1-4525-fa5d-ddda67e77f4d"
      },
      "execution_count": 34,
      "outputs": [
        {
          "output_type": "stream",
          "name": "stdout",
          "text": [
            "기본 리스트 : [1, 4, 3]\n",
            "사입 : [1, 4, 3, 2]\n",
            "오름차순 정렬 : [1, 2, 3, 4]\n",
            "내림차순 정렬 : [4, 3, 2, 1]\n",
            "원소 뒤집기 : [1, 2, 3, 4]\n",
            "인덱스 2에 3 추가 : [1, 2, 3, 3, 4]\n",
            "값이 3인 데이터 개수 : 2 개\n",
            "값이 1인 데이터 삭제 : [2, 3, 3, 4]\n"
          ]
        }
      ]
    },
    {
      "cell_type": "markdown",
      "source": [
        "## 🕓 각 리스트 함수별 시간 복잡도\n",
        "\n",
        "1. **append()**\n",
        "- 시간 복잡도: *O(1)* (상수 시간)\n",
        "- 리스트 맨 끝에 추가하므로 매우 빠릅니다\n",
        "```python\n",
        "pythonmy_list.append(x)  # O(1)\n",
        "```\n",
        "2. **insert()**\n",
        "- 시간 복잡도: *O(n)* (선형 시간)\n",
        "- 중간에 삽입하면 뒤의 모든 원소를 한 칸씩 이동해야 합니다\n",
        "```python\n",
        "pythonmy_list.insert(0, x)     # O(n) - 맨 앞 삽입이 최악\n",
        "my_list.insert(len(my_list), x)  # O(1) - 맨 뒤는 append와 동일\n",
        "```\n",
        "3. **remove()**\n",
        "- 시간 복잡도: *O(n)* (선형 시간)\n",
        "- 값을 찾기 위해 리스트를 순회하고, 삭제 후 뒤의 원소들을 이동해야 합니다\n",
        "```python\n",
        "pythonmy_list.remove(x)  # O(n) - 값 찾기 + 원소 이동\n",
        "```"
      ],
      "metadata": {
        "id": "iD9RqRBv01nl"
      }
    },
    {
      "cell_type": "code",
      "source": [
        "a = [1,2,3,4,5,5,5,]\n",
        "remove_set = {3,5}\n",
        "\n",
        "# remove_set에 포함되지 않은 값만 저장\n",
        "result = [i for i in a if i not in remove_set]\n",
        "print(result)"
      ],
      "metadata": {
        "colab": {
          "base_uri": "https://localhost:8080/"
        },
        "id": "TsEpiZmc0IiI",
        "outputId": "e21ce461-538d-4fd4-8e15-73e759df49a8"
      },
      "execution_count": 35,
      "outputs": [
        {
          "output_type": "stream",
          "name": "stdout",
          "text": [
            "[1, 2, 4]\n"
          ]
        }
      ]
    },
    {
      "cell_type": "code",
      "source": [
        "# 문자열\n",
        "data = 'Hello world'\n",
        "print(data)\n",
        "\n",
        "data = \"Don't you know \\\"Python\\\"?\"\n",
        "print(data)"
      ],
      "metadata": {
        "colab": {
          "base_uri": "https://localhost:8080/"
        },
        "id": "ED4Y7KkU2adQ",
        "outputId": "1f16b895-6af6-45a7-da74-c02d0f52168e"
      },
      "execution_count": 38,
      "outputs": [
        {
          "output_type": "stream",
          "name": "stdout",
          "text": [
            "Hello world\n",
            "Don't you know \"Python\"?\n"
          ]
        }
      ]
    },
    {
      "cell_type": "code",
      "source": [
        "# 문자열 연산\n",
        "a = \"Hello\"\n",
        "b = 'World'\n",
        "print(a+b)\n",
        "\n",
        "a = 'String'\n",
        "print(a * 3)\n",
        "\n",
        "a = 'ABCDEF'\n",
        "print(a[2:4]) # CD"
      ],
      "metadata": {
        "colab": {
          "base_uri": "https://localhost:8080/"
        },
        "id": "nW4vHpUS2wal",
        "outputId": "ab580455-95de-4ba7-a96f-891cb0290545"
      },
      "execution_count": 42,
      "outputs": [
        {
          "output_type": "stream",
          "name": "stdout",
          "text": [
            "HelloWorld\n",
            "StringStringString\n",
            "CD\n"
          ]
        }
      ]
    },
    {
      "cell_type": "code",
      "source": [
        "# 튜플 자료형\n",
        "# 한 번 선언된 값은 변경할 수 없다\n",
        "# 소괄호 사용\n",
        "\n",
        "a = (1,2,3,4)\n",
        "print(a)\n",
        "\n",
        "# a[2] = 7\n",
        "# print(a)"
      ],
      "metadata": {
        "colab": {
          "base_uri": "https://localhost:8080/"
        },
        "id": "T9TiCVi83Njv",
        "outputId": "21c4364e-ccd4-485a-f13a-52971347c3a3"
      },
      "execution_count": 44,
      "outputs": [
        {
          "output_type": "stream",
          "name": "stdout",
          "text": [
            "(1, 2, 3, 4)\n"
          ]
        }
      ]
    },
    {
      "cell_type": "code",
      "source": [
        "# 딕셔너리 자료형\n",
        "# 키-값\n",
        "# 순서 없음 : 인덱싱, 슬라이싱 못함\n",
        "\n",
        "data = dict()\n",
        "\n",
        "data['사과'] = 'apple'\n",
        "data['바나나'] = 'banana'\n",
        "data['코코넛'] = 'coconut'\n",
        "\n",
        "print(data)\n",
        "\n",
        "if '사과' in data:\n",
        "  print('\\'사과\\'를 키로 가지는 데이터가 존재합니다.')"
      ],
      "metadata": {
        "colab": {
          "base_uri": "https://localhost:8080/"
        },
        "id": "Bu3cV9_-3h9r",
        "outputId": "4035fd42-3791-426e-bd20-a7738634eeba"
      },
      "execution_count": 46,
      "outputs": [
        {
          "output_type": "stream",
          "name": "stdout",
          "text": [
            "{'사과': 'apple', '바나나': 'banana', '코코넛': 'coconut'}\n",
            "'사과'를 키로 가지는 데이터가 존재합니다.\n"
          ]
        }
      ]
    },
    {
      "cell_type": "code",
      "source": [
        "# 딕셔너리 자료형 관련 함수\n",
        "\n",
        "data = dict()\n",
        "data['사과'] = 'apple'\n",
        "data['바나나'] = 'banana'\n",
        "data['코코넛'] = 'coconut'\n",
        "\n",
        "# 키 데이터만 담은 리스트\n",
        "key_list = data.keys()\n",
        "print(key_list)\n",
        "print()\n",
        "\n",
        "# 값 데이터만 담은 리스트\n",
        "value_list = data.values()\n",
        "print(value_list)\n",
        "print()\n",
        "\n",
        "# 각 키에 따른 값을 하니씩 출력\n",
        "for key in key_list:\n",
        "  print(data[key])"
      ],
      "metadata": {
        "colab": {
          "base_uri": "https://localhost:8080/"
        },
        "id": "ekCcrJfI5smG",
        "outputId": "611a56bb-0846-4567-9244-29df14e7fa90"
      },
      "execution_count": 48,
      "outputs": [
        {
          "output_type": "stream",
          "name": "stdout",
          "text": [
            "dict_keys(['사과', '바나나', '코코넛'])\n",
            "\n",
            "dict_values(['apple', 'banana', 'coconut'])\n",
            "\n",
            "apple\n",
            "banana\n",
            "coconut\n"
          ]
        }
      ]
    },
    {
      "cell_type": "code",
      "source": [
        "# 집합 자료형\n",
        "# 중복을 허용하지 않는다\n",
        "# 순서 없음 : 인덱싱, 슬라이싱 못함\n",
        "# 값 데이터만 가지게 된다.\n",
        "# 중괄호 사용\n",
        "\n",
        "data = set([1,1,2,3,4,4,4])\n",
        "print(data)\n",
        "\n",
        "data = {1,1,2,3,4,4,4}\n",
        "print(data)"
      ],
      "metadata": {
        "colab": {
          "base_uri": "https://localhost:8080/"
        },
        "id": "Sr_CldZ16koJ",
        "outputId": "2adc2bfe-72eb-46b2-fc68-16e5dc0fcc92"
      },
      "execution_count": 50,
      "outputs": [
        {
          "output_type": "stream",
          "name": "stdout",
          "text": [
            "{1, 2, 3, 4}\n",
            "{1, 2, 3, 4}\n"
          ]
        }
      ]
    },
    {
      "cell_type": "code",
      "source": [
        "a = set([1,2,3,4,5])\n",
        "b = set([3,4,5,6,7])\n",
        "\n",
        "print(f'합집합 : {a|b}')\n",
        "print(f'교집합 : {a&b}')\n",
        "print(f'차집합 : {a-b}')"
      ],
      "metadata": {
        "colab": {
          "base_uri": "https://localhost:8080/"
        },
        "id": "qwxLwxUP717V",
        "outputId": "b2565412-3df5-4631-855c-ac9d730b0d70"
      },
      "execution_count": 52,
      "outputs": [
        {
          "output_type": "stream",
          "name": "stdout",
          "text": [
            "합집합 : {1, 2, 3, 4, 5, 6, 7}\n",
            "교집합 : {3, 4, 5}\n",
            "차집합 : {1, 2}\n"
          ]
        }
      ]
    },
    {
      "cell_type": "code",
      "source": [
        "# 집합 자료형 관련 함수\n",
        "\n",
        "data = set([1,2,3])\n",
        "print(data)\n",
        "\n",
        "# 새로운 원소 추가\n",
        "data.add(4)\n",
        "print(data)\n",
        "\n",
        "# 새로운 원소 여러 개 추가\n",
        "data.update([5,6])\n",
        "print(data)\n",
        "\n",
        "# 특정한 값을 갖는 원소 삭제\n",
        "data.remove(3)\n",
        "print(data)"
      ],
      "metadata": {
        "colab": {
          "base_uri": "https://localhost:8080/"
        },
        "id": "ftQh5xG-8H1-",
        "outputId": "9bbad508-f494-4a41-d890-e4f2eb2d8b7a"
      },
      "execution_count": 53,
      "outputs": [
        {
          "output_type": "stream",
          "name": "stdout",
          "text": [
            "{1, 2, 3}\n",
            "{1, 2, 3, 4}\n",
            "{1, 2, 3, 4, 5, 6}\n",
            "{1, 2, 4, 5, 6}\n"
          ]
        }
      ]
    },
    {
      "cell_type": "code",
      "source": [
        "x = 15\n",
        "\n",
        "\n",
        "if x >= 10:\n",
        "  print(x)"
      ],
      "metadata": {
        "colab": {
          "base_uri": "https://localhost:8080/"
        },
        "id": "_OJiHJ-bEkFE",
        "outputId": "d3387e61-3b94-442d-8cfa-c14b7cdd389d"
      },
      "execution_count": 1,
      "outputs": [
        {
          "output_type": "stream",
          "name": "stdout",
          "text": [
            "15\n"
          ]
        }
      ]
    },
    {
      "cell_type": "code",
      "source": [
        "score = 80\n",
        "\n",
        "if score >= 90:\n",
        "  print('A')\n",
        "elif score >= 80:\n",
        "  print('B')\n",
        "elif score >= 70:\n",
        "  print('C')\n",
        "else:\n",
        "  print('F')\n",
        "\n"
      ],
      "metadata": {
        "colab": {
          "base_uri": "https://localhost:8080/"
        },
        "id": "sd2-HWkOEqxn",
        "outputId": "a1f71b85-1266-41cd-a5bc-d898821addc3"
      },
      "execution_count": 2,
      "outputs": [
        {
          "output_type": "stream",
          "name": "stdout",
          "text": [
            "B\n"
          ]
        }
      ]
    },
    {
      "cell_type": "code",
      "source": [
        "score = 90\n",
        "\n",
        "if score >= 70:\n",
        "  print('성적이 70점 이상입니다.')\n",
        "  if score >= 90:\n",
        "    print('성적이 우수합니다')\n",
        "else :\n",
        "  print('성적이 70점 미만입니다')\n",
        "  print('조금 더 분발하세요')\n",
        "\n",
        "print('프로그램을 종료합니다')"
      ],
      "metadata": {
        "colab": {
          "base_uri": "https://localhost:8080/"
        },
        "id": "ikVgEFunE9_u",
        "outputId": "49388360-db41-432d-9106-e256582b075d"
      },
      "execution_count": 4,
      "outputs": [
        {
          "output_type": "stream",
          "name": "stdout",
          "text": [
            "성적이 70점 이상입니다.\n",
            "성적이 우수합니다\n",
            "프로그램을 종료합니다\n"
          ]
        }
      ]
    },
    {
      "cell_type": "code",
      "source": [
        "# 비교 연산자\n",
        "a = 10\n",
        "b = 20\n",
        "\n",
        "print(a == b)\n",
        "print(a == 10)\n",
        "print(a != b)\n",
        "print(a > b)\n",
        "print(a < b)\n",
        "print(a >= b)\n",
        "print(a <= b)"
      ],
      "metadata": {
        "colab": {
          "base_uri": "https://localhost:8080/"
        },
        "id": "gneq7uXEFjM9",
        "outputId": "e34dced6-6c60-43e9-c4cb-927310672b58"
      },
      "execution_count": 5,
      "outputs": [
        {
          "output_type": "stream",
          "name": "stdout",
          "text": [
            "False\n",
            "True\n",
            "True\n",
            "False\n",
            "True\n",
            "False\n",
            "True\n"
          ]
        }
      ]
    },
    {
      "cell_type": "code",
      "source": [
        "print(True and True)\n",
        "print(False and True)\n",
        "print(True or False)\n",
        "print(False or False)\n",
        "print(not(True))\n",
        "print(not(False))"
      ],
      "metadata": {
        "colab": {
          "base_uri": "https://localhost:8080/"
        },
        "id": "gHVA-RyjF9HC",
        "outputId": "ef7787fc-bddd-4388-b877-446cc18834ce"
      },
      "execution_count": 7,
      "outputs": [
        {
          "output_type": "stream",
          "name": "stdout",
          "text": [
            "True\n",
            "False\n",
            "True\n",
            "False\n",
            "False\n",
            "True\n"
          ]
        }
      ]
    },
    {
      "cell_type": "code",
      "source": [
        "# in 연산자\n",
        "\n",
        "list_a = [1,2,3,4]\n",
        "print(1 in list_a)\n",
        "print(0 in list_a)\n",
        "\n",
        "# not in 연산자\n",
        "print(0 not in list_a)\n",
        "print(1 not in list_a)"
      ],
      "metadata": {
        "colab": {
          "base_uri": "https://localhost:8080/"
        },
        "id": "1dn2GwQsGS-v",
        "outputId": "1c037018-3d28-45d3-b48c-b201b45578ee"
      },
      "execution_count": 10,
      "outputs": [
        {
          "output_type": "stream",
          "name": "stdout",
          "text": [
            "True\n",
            "False\n",
            "True\n",
            "False\n"
          ]
        }
      ]
    },
    {
      "cell_type": "code",
      "source": [
        "socre = 85\n",
        "\n",
        "if score >= 80:\n",
        "  pass\n",
        "else :\n",
        "  print('성적이 80점 미만입니다.')\n",
        "\n",
        "print('프로그램을 종료합니다.')"
      ],
      "metadata": {
        "colab": {
          "base_uri": "https://localhost:8080/"
        },
        "id": "9nyj1CD-HHZw",
        "outputId": "5042fcee-2c6c-4469-f87f-fddc3014cbb2"
      },
      "execution_count": 11,
      "outputs": [
        {
          "output_type": "stream",
          "name": "stdout",
          "text": [
            "프로그램을 종료합니다.\n"
          ]
        }
      ]
    },
    {
      "cell_type": "code",
      "source": [
        "socre = 85\n",
        "\n",
        "if score >= 80: result = 'Success'\n",
        "else: result = 'Fail'\n",
        "\n",
        "print(result)"
      ],
      "metadata": {
        "colab": {
          "base_uri": "https://localhost:8080/"
        },
        "id": "FNqRSA5OHWRy",
        "outputId": "5f2c44f1-f065-4301-baf6-27053e54dcba"
      },
      "execution_count": 13,
      "outputs": [
        {
          "output_type": "stream",
          "name": "stdout",
          "text": [
            "Success\n"
          ]
        }
      ]
    },
    {
      "cell_type": "code",
      "source": [
        "score = 85\n",
        "\n",
        "result = 'Success' if score > 80 else 'Fail'\n",
        "\n",
        "print(result)"
      ],
      "metadata": {
        "colab": {
          "base_uri": "https://localhost:8080/"
        },
        "id": "rLBGulRgHj0W",
        "outputId": "37e129d1-1b8b-4abc-f9f5-a25caf68a919"
      },
      "execution_count": 14,
      "outputs": [
        {
          "output_type": "stream",
          "name": "stdout",
          "text": [
            "Success\n"
          ]
        }
      ]
    },
    {
      "cell_type": "code",
      "source": [
        "a = [1,2,3,4,5,5,5]\n",
        "remove_set = {3,4}\n",
        "\n",
        "result = []\n",
        "for i in a:\n",
        "  if i not in remove_set:\n",
        "    result.append(i)\n",
        "\n",
        "print(result)"
      ],
      "metadata": {
        "colab": {
          "base_uri": "https://localhost:8080/"
        },
        "id": "3R5RfeLIH2nM",
        "outputId": "34719724-144f-497d-be1b-44b464b3d127"
      },
      "execution_count": 15,
      "outputs": [
        {
          "output_type": "stream",
          "name": "stdout",
          "text": [
            "[1, 2, 5, 5, 5]\n"
          ]
        }
      ]
    },
    {
      "cell_type": "code",
      "source": [
        "a = [1,2,3,4,5,5,5]\n",
        "remove_set = {3,4}\n",
        "\n",
        "result = [i for i in a if i not in remove_set]\n",
        "print(result)"
      ],
      "metadata": {
        "colab": {
          "base_uri": "https://localhost:8080/"
        },
        "id": "0JV8RTYJIiC_",
        "outputId": "2384e270-98a4-4f9f-9dbc-a83e0fb6468a"
      },
      "execution_count": 16,
      "outputs": [
        {
          "output_type": "stream",
          "name": "stdout",
          "text": [
            "[1, 2, 5, 5, 5]\n"
          ]
        }
      ]
    },
    {
      "cell_type": "code",
      "source": [
        "i = 1\n",
        "result = 0\n",
        "\n",
        "# i가 9보다 작거나 같을 때 아래 코드를 반복적으로 실행\n",
        "while i <= 9:\n",
        "  result += i\n",
        "  i += 1\n",
        "\n",
        "print(result)"
      ],
      "metadata": {
        "colab": {
          "base_uri": "https://localhost:8080/"
        },
        "id": "FhRXd3qqIxGB",
        "outputId": "e99c722e-4ccb-4998-9089-5999f134e275"
      },
      "execution_count": 18,
      "outputs": [
        {
          "output_type": "stream",
          "name": "stdout",
          "text": [
            "45\n"
          ]
        }
      ]
    },
    {
      "cell_type": "code",
      "source": [
        "i = 1\n",
        "result = 0\n",
        "\n",
        "# i가 9보다 작거나 같을 때 아래 코드를 반복적으로 실행\n",
        "while i <= 9:\n",
        "  if i % 2 == 1:\n",
        "    result += i\n",
        "  i += 1\n",
        "\n",
        "print(result)"
      ],
      "metadata": {
        "colab": {
          "base_uri": "https://localhost:8080/"
        },
        "id": "AXVt9qyIJVvT",
        "outputId": "17dc360b-77b9-4d1c-80e3-9c565072f453"
      },
      "execution_count": 20,
      "outputs": [
        {
          "output_type": "stream",
          "name": "stdout",
          "text": [
            "25\n"
          ]
        }
      ]
    },
    {
      "cell_type": "code",
      "source": [
        "result = 0\n",
        "\n",
        "# i는 1부터 9까지의 모든 값을 순회\n",
        "for i in range(1,10):\n",
        "  result += i\n",
        "\n",
        "print(result)"
      ],
      "metadata": {
        "colab": {
          "base_uri": "https://localhost:8080/"
        },
        "id": "lsz55t1mJlhE",
        "outputId": "bd74d9af-37bb-4144-d9a0-b85180d8fb31"
      },
      "execution_count": 21,
      "outputs": [
        {
          "output_type": "stream",
          "name": "stdout",
          "text": [
            "45\n"
          ]
        }
      ]
    },
    {
      "cell_type": "code",
      "source": [
        "score = [90,85,77,65,97]\n",
        "\n",
        "for i in range(5): # 0부터 4까지\n",
        "  if score[i] >= 80:\n",
        "    print(i + 1, '번 학생은 합격입니다.')"
      ],
      "metadata": {
        "colab": {
          "base_uri": "https://localhost:8080/"
        },
        "id": "_UHhA3STJyPM",
        "outputId": "4d9b8eb8-a743-457b-b8ec-40a648a16c7c"
      },
      "execution_count": 23,
      "outputs": [
        {
          "output_type": "stream",
          "name": "stdout",
          "text": [
            "1 번 학생은 합격입니다.\n",
            "2 번 학생은 합격입니다.\n",
            "5 번 학생은 합격입니다.\n"
          ]
        }
      ]
    },
    {
      "cell_type": "code",
      "source": [
        "score = [90,85,77,65,97]\n",
        "black_list = {2,4}\n",
        "\n",
        "for i in range(5):\n",
        "  if i + 1 in black_list:\n",
        "    continue\n",
        "  if score[i] >= 80:\n",
        "    print(i+1, '번 학생은 합격입니다')"
      ],
      "metadata": {
        "colab": {
          "base_uri": "https://localhost:8080/"
        },
        "id": "HAB1CqdiKL-e",
        "outputId": "aac42c7a-f577-4bc3-f0f4-c82f411166c6"
      },
      "execution_count": 24,
      "outputs": [
        {
          "output_type": "stream",
          "name": "stdout",
          "text": [
            "1 번 학생은 합격입니다\n",
            "5 번 학생은 합격입니다\n"
          ]
        }
      ]
    },
    {
      "cell_type": "code",
      "source": [
        "for i in range(2, 10):\n",
        "  for j in range(1,10):\n",
        "    print(i, \"X\", j, \"=\", i*j)\n",
        "  print()"
      ],
      "metadata": {
        "colab": {
          "base_uri": "https://localhost:8080/"
        },
        "id": "zbs-yHiPK5VC",
        "outputId": "4f4fbe9c-799d-415a-9b53-e501bdb033a0"
      },
      "execution_count": 25,
      "outputs": [
        {
          "output_type": "stream",
          "name": "stdout",
          "text": [
            "2 X 1 = 2\n",
            "2 X 2 = 4\n",
            "2 X 3 = 6\n",
            "2 X 4 = 8\n",
            "2 X 5 = 10\n",
            "2 X 6 = 12\n",
            "2 X 7 = 14\n",
            "2 X 8 = 16\n",
            "2 X 9 = 18\n",
            "\n",
            "3 X 1 = 3\n",
            "3 X 2 = 6\n",
            "3 X 3 = 9\n",
            "3 X 4 = 12\n",
            "3 X 5 = 15\n",
            "3 X 6 = 18\n",
            "3 X 7 = 21\n",
            "3 X 8 = 24\n",
            "3 X 9 = 27\n",
            "\n",
            "4 X 1 = 4\n",
            "4 X 2 = 8\n",
            "4 X 3 = 12\n",
            "4 X 4 = 16\n",
            "4 X 5 = 20\n",
            "4 X 6 = 24\n",
            "4 X 7 = 28\n",
            "4 X 8 = 32\n",
            "4 X 9 = 36\n",
            "\n",
            "5 X 1 = 5\n",
            "5 X 2 = 10\n",
            "5 X 3 = 15\n",
            "5 X 4 = 20\n",
            "5 X 5 = 25\n",
            "5 X 6 = 30\n",
            "5 X 7 = 35\n",
            "5 X 8 = 40\n",
            "5 X 9 = 45\n",
            "\n",
            "6 X 1 = 6\n",
            "6 X 2 = 12\n",
            "6 X 3 = 18\n",
            "6 X 4 = 24\n",
            "6 X 5 = 30\n",
            "6 X 6 = 36\n",
            "6 X 7 = 42\n",
            "6 X 8 = 48\n",
            "6 X 9 = 54\n",
            "\n",
            "7 X 1 = 7\n",
            "7 X 2 = 14\n",
            "7 X 3 = 21\n",
            "7 X 4 = 28\n",
            "7 X 5 = 35\n",
            "7 X 6 = 42\n",
            "7 X 7 = 49\n",
            "7 X 8 = 56\n",
            "7 X 9 = 63\n",
            "\n",
            "8 X 1 = 8\n",
            "8 X 2 = 16\n",
            "8 X 3 = 24\n",
            "8 X 4 = 32\n",
            "8 X 5 = 40\n",
            "8 X 6 = 48\n",
            "8 X 7 = 56\n",
            "8 X 8 = 64\n",
            "8 X 9 = 72\n",
            "\n",
            "9 X 1 = 9\n",
            "9 X 2 = 18\n",
            "9 X 3 = 27\n",
            "9 X 4 = 36\n",
            "9 X 5 = 45\n",
            "9 X 6 = 54\n",
            "9 X 7 = 63\n",
            "9 X 8 = 72\n",
            "9 X 9 = 81\n",
            "\n"
          ]
        }
      ]
    },
    {
      "cell_type": "code",
      "source": [
        "# 더하기 함수\n",
        "\n",
        "def add(a,b):\n",
        "  return  a+b\n",
        "\n",
        "print(add(3,7))"
      ],
      "metadata": {
        "colab": {
          "base_uri": "https://localhost:8080/"
        },
        "id": "5M4lUdwRMEiz",
        "outputId": "77d595a5-b8b7-4812-b1a6-6b4dfd2369ed"
      },
      "execution_count": 26,
      "outputs": [
        {
          "output_type": "stream",
          "name": "stdout",
          "text": [
            "10\n"
          ]
        }
      ]
    },
    {
      "cell_type": "code",
      "source": [
        "def add(a,b):\n",
        "  print(a+b)\n",
        "\n",
        "add(3,7)"
      ],
      "metadata": {
        "colab": {
          "base_uri": "https://localhost:8080/"
        },
        "id": "Rt6oSbsnMt29",
        "outputId": "558a0efe-5b02-4b62-cb17-30eac2ce0df2"
      },
      "execution_count": 28,
      "outputs": [
        {
          "output_type": "stream",
          "name": "stdout",
          "text": [
            "10\n"
          ]
        }
      ]
    },
    {
      "cell_type": "code",
      "source": [
        "def add(a,b):\n",
        "  print(a+b)\n",
        "\n",
        "add(b=8, a=4)"
      ],
      "metadata": {
        "colab": {
          "base_uri": "https://localhost:8080/"
        },
        "id": "7I5DxZwoM20X",
        "outputId": "bd61814e-6457-49f0-9b11-3db3dec27676"
      },
      "execution_count": 29,
      "outputs": [
        {
          "output_type": "stream",
          "name": "stdout",
          "text": [
            "12\n"
          ]
        }
      ]
    },
    {
      "cell_type": "code",
      "source": [
        "a = 0\n",
        "\n",
        "def func():\n",
        "  global a\n",
        "  a += 1\n",
        "\n",
        "for i in range(10):\n",
        "  func()\n",
        "\n",
        "print(a)"
      ],
      "metadata": {
        "colab": {
          "base_uri": "https://localhost:8080/"
        },
        "id": "Z_4l_IikNIOp",
        "outputId": "3cb66d23-c8ca-4860-b31c-a56bcaf057fc"
      },
      "execution_count": 30,
      "outputs": [
        {
          "output_type": "stream",
          "name": "stdout",
          "text": [
            "10\n"
          ]
        }
      ]
    },
    {
      "cell_type": "code",
      "source": [
        "\n",
        "# 람다 표현식 사용\n",
        "print((lambda a, b:a + b)(3,7))"
      ],
      "metadata": {
        "colab": {
          "base_uri": "https://localhost:8080/"
        },
        "id": "4vMM5A5kNurb",
        "outputId": "edea4bde-61f1-4d4c-9207-de1ac933900a"
      },
      "execution_count": 32,
      "outputs": [
        {
          "output_type": "stream",
          "name": "stdout",
          "text": [
            "10\n"
          ]
        }
      ]
    },
    {
      "cell_type": "markdown",
      "source": [
        "## 람다 표현식 사용\n",
        "- `lambda a, b: a + b` 는 이름 없는 함수(익명 함수)\n",
        "\n",
        "- 즉, a와 b를 받아 a + b를 리턴하는 함수 하나를 즉석에서 만든 것\n",
        "\n",
        "- 뒤에 (3, 7)을 붙이면 → 바로 실행됨\n",
        "\n",
        "- 결과는 **10**"
      ],
      "metadata": {
        "id": "27I4_UrwOvtZ"
      }
    },
    {
      "cell_type": "code",
      "source": [
        "# 데이터의 개수 입력\n",
        "n = int(input())\n",
        "\n",
        "# 각 데이터를 공백으로 구분하여 입력\n",
        "data = list(map(int, input().split()))\n",
        "\n",
        "data.sort(reverse=True)\n",
        "print(data)"
      ],
      "metadata": {
        "colab": {
          "base_uri": "https://localhost:8080/"
        },
        "id": "1iinLFBwO5Zk",
        "outputId": "24af8330-7502-4875-b831-315cea469051"
      },
      "execution_count": 33,
      "outputs": [
        {
          "output_type": "stream",
          "name": "stdout",
          "text": [
            "3\n",
            "1 2 3\n",
            "[3, 2, 1]\n"
          ]
        }
      ]
    },
    {
      "cell_type": "code",
      "source": [
        "# n,m,k 공백으로 구분하여 입력\n",
        "\n",
        "n,m,k = map(int, input().split())\n",
        "\n",
        "print(f'n : {n}\\nm : {m}\\nk : {k}')"
      ],
      "metadata": {
        "colab": {
          "base_uri": "https://localhost:8080/"
        },
        "id": "6X89ME4SQRfy",
        "outputId": "6f588dce-3ba6-4eec-fc52-2b6d3acf2ed6"
      },
      "execution_count": 35,
      "outputs": [
        {
          "output_type": "stream",
          "name": "stdout",
          "text": [
            "1 2 3\n",
            "n : 1\n",
            "m : 2\n",
            "k : 3\n"
          ]
        }
      ]
    },
    {
      "cell_type": "code",
      "source": [
        "import sys\n",
        "\n",
        "sys.stdin.readline().rstrip()"
      ],
      "metadata": {
        "colab": {
          "base_uri": "https://localhost:8080/",
          "height": 35
        },
        "id": "62iD6xPaQi5G",
        "outputId": "4d0ea6de-4fbf-47f8-9f1c-6d2b2b8cd315"
      },
      "execution_count": 36,
      "outputs": [
        {
          "output_type": "execute_result",
          "data": {
            "text/plain": [
              "''"
            ],
            "application/vnd.google.colaboratory.intrinsic+json": {
              "type": "string"
            }
          },
          "metadata": {},
          "execution_count": 36
        }
      ]
    },
    {
      "cell_type": "markdown",
      "source": [
        "`sys.stdin.readline()`\n",
        "- 표준 입력(stdin)에서 한 줄을 입력받는 함수.\n",
        "- input()과 비슷하지만, sys.stdin.readline()이 훨씬 빠름 → 특히 백준 같은 알고리즘 문제에서 많이 씀.\n",
        "- 입력의 끝에는 보통 \\n(줄바꿈)이 같이 들어옴.\n",
        "\n",
        "`.rstrip()`\n",
        "- rstrip()은 문자열 오른쪽 끝의 공백 문자(스페이스, 탭, 줄바꿈 등)를 제거.\n",
        "\n",
        "*정리*\n",
        "- `sys.stdin.readline().rstrip()` 은\n",
        "빠른 입력 + 개행 문자 제거 용도로 많이 쓰는 패턴"
      ],
      "metadata": {
        "id": "ydg6hDO5RkHM"
      }
    },
    {
      "cell_type": "code",
      "source": [
        "import sys\n",
        "\n",
        "# 문자열 입력 받기\n",
        "data = sys.stdin.readline().rsplit()\n",
        "print(data)"
      ],
      "metadata": {
        "colab": {
          "base_uri": "https://localhost:8080/"
        },
        "id": "98AaKjNxSXEh",
        "outputId": "2beea43c-9d85-4b2d-a8b3-bf83fe9af4e5"
      },
      "execution_count": 37,
      "outputs": [
        {
          "output_type": "stream",
          "name": "stdout",
          "text": [
            "[]\n"
          ]
        }
      ]
    },
    {
      "cell_type": "code",
      "source": [
        "# 출력할 변수\n",
        "\n",
        "a = 1\n",
        "b = 2\n",
        "\n",
        "print(f'a : {a}\\nb : {b}')"
      ],
      "metadata": {
        "colab": {
          "base_uri": "https://localhost:8080/"
        },
        "id": "2TDKjgFWSw-L",
        "outputId": "d7e6f715-1026-4f19-85cf-960fd7588a91"
      },
      "execution_count": 38,
      "outputs": [
        {
          "output_type": "stream",
          "name": "stdout",
          "text": [
            "a : 1\n",
            "b : 2\n"
          ]
        }
      ]
    },
    {
      "cell_type": "code",
      "source": [
        "answer = 9\n",
        "\n",
        "print(f'정답은 {answer} 입니다')"
      ],
      "metadata": {
        "colab": {
          "base_uri": "https://localhost:8080/"
        },
        "id": "Z0_uS3hiTDBX",
        "outputId": "1e10cb2c-b5e3-48cb-dfcd-9b5237e8795a"
      },
      "execution_count": 39,
      "outputs": [
        {
          "output_type": "stream",
          "name": "stdout",
          "text": [
            "정답은 9 입니다\n"
          ]
        }
      ]
    },
    {
      "cell_type": "code",
      "source": [
        "# 출력할 변수\n",
        "\n",
        "answer = 7\n",
        "\n",
        "print('정답은 ' + str(answer) +  ' 입니다')\n",
        "print('정답은',str(answer),'입니다.')"
      ],
      "metadata": {
        "colab": {
          "base_uri": "https://localhost:8080/"
        },
        "id": "7idPoKjjTOD2",
        "outputId": "cad7a394-ee76-4a5a-be21-9559ca71ffde"
      },
      "execution_count": 43,
      "outputs": [
        {
          "output_type": "stream",
          "name": "stdout",
          "text": [
            "정답은 7 입니다\n",
            "정답은 7 입니다.\n"
          ]
        }
      ]
    },
    {
      "cell_type": "code",
      "source": [
        "result = sum([1,2,3,4,5])\n",
        "print(result)"
      ],
      "metadata": {
        "colab": {
          "base_uri": "https://localhost:8080/"
        },
        "id": "wfUF8dDpTZAH",
        "outputId": "88e7256b-1cf7-450d-ca25-191e8e02b19d"
      },
      "execution_count": 44,
      "outputs": [
        {
          "output_type": "stream",
          "name": "stdout",
          "text": [
            "15\n"
          ]
        }
      ]
    },
    {
      "cell_type": "code",
      "source": [
        "result = min(7,3,5,2)\n",
        "print(result)"
      ],
      "metadata": {
        "colab": {
          "base_uri": "https://localhost:8080/"
        },
        "id": "nZOJBu-aUTpE",
        "outputId": "6063f95d-151b-4912-8074-7ecc2e6e92db"
      },
      "execution_count": 45,
      "outputs": [
        {
          "output_type": "stream",
          "name": "stdout",
          "text": [
            "2\n"
          ]
        }
      ]
    },
    {
      "cell_type": "code",
      "source": [
        "result = max(7,3,5,2)\n",
        "print(result)"
      ],
      "metadata": {
        "colab": {
          "base_uri": "https://localhost:8080/"
        },
        "id": "ud4upHmVUawn",
        "outputId": "66f1afef-ecdd-4d43-e864-bab3d5112b57"
      },
      "execution_count": 46,
      "outputs": [
        {
          "output_type": "stream",
          "name": "stdout",
          "text": [
            "7\n"
          ]
        }
      ]
    },
    {
      "cell_type": "code",
      "source": [
        "result = eval(\"(3+5)*7\")\n",
        "print(result)"
      ],
      "metadata": {
        "colab": {
          "base_uri": "https://localhost:8080/"
        },
        "id": "jnjyyspWUoh_",
        "outputId": "af510f74-fbbe-4921-9f38-811d680dac14"
      },
      "execution_count": 48,
      "outputs": [
        {
          "output_type": "stream",
          "name": "stdout",
          "text": [
            "56\n"
          ]
        }
      ]
    },
    {
      "cell_type": "code",
      "source": [
        "result = sorted([9,1,8,5,4]) # 오름차순\n",
        "print(result)\n",
        "\n",
        "result = sorted([9,1,8,5,4], reverse=True) # 내림차순\n",
        "print(result)"
      ],
      "metadata": {
        "colab": {
          "base_uri": "https://localhost:8080/"
        },
        "id": "JySYG3hbUz0Y",
        "outputId": "c16db2cc-a5ad-48f4-b500-bc2fc2ab347c"
      },
      "execution_count": 49,
      "outputs": [
        {
          "output_type": "stream",
          "name": "stdout",
          "text": [
            "[1, 4, 5, 8, 9]\n",
            "[9, 8, 5, 4, 1]\n"
          ]
        }
      ]
    },
    {
      "cell_type": "code",
      "source": [
        "result = sorted([('홍길동', 35), ('이순신',75), ('아무개', 50),], key=lambda x:x[1], reverse=True)\n",
        "print(result)"
      ],
      "metadata": {
        "colab": {
          "base_uri": "https://localhost:8080/"
        },
        "id": "RNTrTJHnVNjD",
        "outputId": "c935d918-c890-4a95-ea09-324647ae69b9"
      },
      "execution_count": 50,
      "outputs": [
        {
          "output_type": "stream",
          "name": "stdout",
          "text": [
            "[('이순신', 75), ('아무개', 50), ('홍길동', 35)]\n"
          ]
        }
      ]
    },
    {
      "cell_type": "markdown",
      "source": [
        "```python\n",
        "result = sorted(\n",
        "    [('홍길동', 35), ('이순신', 75), ('아무개', 50)],\n",
        "    key=lambda x: x[1],  # 튜플에서 두 번째 값(점수)으로 정렬\n",
        "    reverse=True         # 내림차순\n",
        ")\n",
        "```\n",
        "---\n",
        "1.  sorted 함수\n",
        "```text\n",
        "sorted(리스트, key=기준함수, reverse=True/False)\n",
        "```\n",
        "- 리스트를 정렬해서 새로운 리스트 반환\n",
        "- key → 정렬할 때 기준을 정하는 함수\n",
        "- reverse=True → 내림차순 정렬 (기본은 오름차순)\n",
        "\n",
        "2. lambda x: x[1]\n",
        "- 람다(lambda) 표현식 = 이름 없는 함수(익명 함수)\n",
        "- lambda 매개변수: 반환값\n",
        "- 예시\n",
        "```python\n",
        "f = lambda x: x[1]\n",
        "print(f(('홍길동', 35)))  # 35\n",
        "```"
      ],
      "metadata": {
        "id": "d7gOkYYrXBA7"
      }
    },
    {
      "cell_type": "code",
      "source": [
        "data = [9,1,8,5,4]\n",
        "data.sort()\n",
        "print(data)"
      ],
      "metadata": {
        "colab": {
          "base_uri": "https://localhost:8080/"
        },
        "id": "cxlXFFREajfp",
        "outputId": "b78f29ef-dacd-407b-db4b-12c9fc58be8e"
      },
      "execution_count": 51,
      "outputs": [
        {
          "output_type": "stream",
          "name": "stdout",
          "text": [
            "[1, 4, 5, 8, 9]\n"
          ]
        }
      ]
    },
    {
      "cell_type": "code",
      "source": [
        "from itertools import permutations\n",
        "\n",
        "data = ['A','B','C'] # 데이터 준비\n",
        "\n",
        "result = list(permutations(data, 3))\n",
        "\n",
        "print(result)"
      ],
      "metadata": {
        "colab": {
          "base_uri": "https://localhost:8080/"
        },
        "id": "g1cr2RA-aqzW",
        "outputId": "64c3750f-1a2d-4fd8-8da0-14b720295daf"
      },
      "execution_count": 52,
      "outputs": [
        {
          "output_type": "stream",
          "name": "stdout",
          "text": [
            "[('A', 'B', 'C'), ('A', 'C', 'B'), ('B', 'A', 'C'), ('B', 'C', 'A'), ('C', 'A', 'B'), ('C', 'B', 'A')]\n"
          ]
        }
      ]
    },
    {
      "cell_type": "code",
      "source": [
        "from itertools import combinations\n",
        "\n",
        "data = ['A','B','C'] # 데이터 준비\n",
        "result = list(combinations(data,2))\n",
        "\n",
        "print(result)"
      ],
      "metadata": {
        "colab": {
          "base_uri": "https://localhost:8080/"
        },
        "id": "cR_OZ94abG9y",
        "outputId": "ececf362-10e9-4a67-bae9-5ccef3df10cc"
      },
      "execution_count": 53,
      "outputs": [
        {
          "output_type": "stream",
          "name": "stdout",
          "text": [
            "[('A', 'B'), ('A', 'C'), ('B', 'C')]\n"
          ]
        }
      ]
    },
    {
      "cell_type": "code",
      "source": [
        "from itertools import product\n",
        "\n",
        "data = ['A','B','C'] # 데이터 준비\n",
        "result = list(product(data, repeat=2)) # 2개를 뽑는 모든 순열 구하기 (중복 허용)\n",
        "\n",
        "print(result)"
      ],
      "metadata": {
        "colab": {
          "base_uri": "https://localhost:8080/"
        },
        "id": "K9VeG0AlcN6T",
        "outputId": "b35fd74c-3b7e-4bc7-ae3d-89e51302061b"
      },
      "execution_count": 54,
      "outputs": [
        {
          "output_type": "stream",
          "name": "stdout",
          "text": [
            "[('A', 'A'), ('A', 'B'), ('A', 'C'), ('B', 'A'), ('B', 'B'), ('B', 'C'), ('C', 'A'), ('C', 'B'), ('C', 'C')]\n"
          ]
        }
      ]
    },
    {
      "cell_type": "code",
      "source": [
        "from itertools import combinations_with_replacement\n",
        "\n",
        "data = ['A','B','C']\n",
        "result = list(combinations_with_replacement(data, 2))\n",
        "print(result)"
      ],
      "metadata": {
        "colab": {
          "base_uri": "https://localhost:8080/"
        },
        "id": "yEI081EHcbuo",
        "outputId": "96c8411a-4d14-4b51-a949-139b79bb8efb"
      },
      "execution_count": 55,
      "outputs": [
        {
          "output_type": "stream",
          "name": "stdout",
          "text": [
            "[('A', 'A'), ('A', 'B'), ('A', 'C'), ('B', 'B'), ('B', 'C'), ('C', 'C')]\n"
          ]
        }
      ]
    },
    {
      "cell_type": "code",
      "source": [
        "import heapq\n",
        "\n",
        "def heapsort(iterable) :\n",
        "  h = []\n",
        "  result = []\n",
        "  # 모든 원소를 차례대로 힙에 삽입\n",
        "  for value in iterable :\n",
        "    heapq.heappush(h, value)\n",
        "  # 힙에 삽입된 모든 원소를 차례대로 꺼내어 담기\n",
        "  for i in range(len(h)):\n",
        "    result.append(heapq.heappop(h))\n",
        "  return result\n",
        "\n",
        "result = heapsort([1,3,5,7,9,2,4,6,8,0])\n",
        "print(result)"
      ],
      "metadata": {
        "colab": {
          "base_uri": "https://localhost:8080/"
        },
        "id": "Y3e6zGincyjT",
        "outputId": "fe869569-8f0b-40ea-c9da-c729cc8283c5"
      },
      "execution_count": 56,
      "outputs": [
        {
          "output_type": "stream",
          "name": "stdout",
          "text": [
            "[0, 1, 2, 3, 4, 5, 6, 7, 8, 9]\n"
          ]
        }
      ]
    },
    {
      "cell_type": "markdown",
      "source": [
        "`heapq.heappush(h, value)`  \n",
        "→ 리스트 h를 **힙으로 취급**하면서, 원소 value를 넣습니다.\n",
        "\n",
        "- 반복문을 통해 iterable의 모든 값이 최소 힙 h에 저장됩니다.\n",
        "- 이 과정이 끝나면 h는 힙 구조를 유지하며, 가장 작은 값이 맨 앞(h[0])에 위치합니다.\n",
        "- 예: [1,3,5,7,...] 넣으면 내부적으로는 정렬과 비슷하게 보이지만 사실은 힙 구조임.\n",
        "\n",
        "---"
      ],
      "metadata": {
        "id": "CIlycgMSo9Yt"
      }
    },
    {
      "cell_type": "markdown",
      "source": [
        "## 힙(heap)이란?\n",
        "- 힙은 **트리(Tree) 구조**의 일종이에요.\n",
        "그중에서도 **완전 이진 트리(Complete Binary Tree) 형태**를 가집니다.\n",
        "- **완전 이진 트리**: 위에서부터, 왼쪽부터 차례대로 채워지는 트리.\n",
        "\n",
        "힙에는 두 가지 규칙이 있어요:\n",
        "- 1️⃣ 부모 노드 ≤ 자식 노드 (최소 힙, min-heap)\n",
        "  - “부모가 항상 자식보다 작거나 같다.”\n",
        "  - 그래서 맨 꼭대기(루트)에는 가장 작은 값이 옵니다.\n",
        "- 2️⃣ 부모 노드 ≥ 자식 노드 (최대 힙, max-heap)\n",
        "  - “부모가 항상 자식보다 크거나 같다.”\n",
        "  - 그래서 맨 꼭대기(루트)에는 가장 큰 값이 옵니다.\n",
        "- 즉, 최소 힙에서는 **항상 가장 작은 값이 루트(맨 위)**에 존재합니다.\n",
        "\n",
        "### 그림 예시\n",
        "예를 들어, 값 [5, 3, 8, 1, 4]가 있다면:\n",
        "\n",
        "#### 1️⃣ 최소 힙\n",
        "```markdown\n",
        "       1\n",
        "     /   \\\n",
        "    3     8\n",
        "   / \\\n",
        "  5   4\n",
        "\n",
        "```\n",
        "\n",
        "#### 2️⃣ 최대 힙\n",
        "```markdown\n",
        "       8\n",
        "     /   \\\n",
        "    5     3\n",
        "   / \\\n",
        "  1   4\n",
        "\n",
        "```"
      ],
      "metadata": {
        "id": "wfT-ZLuzqNR-"
      }
    },
    {
      "cell_type": "code",
      "source": [
        "# 파이썬에서는 최대 힙을 제공하지 않음\n",
        "# 원소의 부호를 임시로 변경하는 방식을 사용해야 함\n",
        "# 힙에 원소를 삽입하기 전에 잠시 부호를 바꿨다가 힙에서 원소를 꺼낸 뒤에 다시 원소의 부호를 바꾸면 된다.\n",
        "\n",
        "\n",
        "import heapq\n",
        "\n",
        "def heapsort(iterable) :\n",
        "  h = []\n",
        "  result = []\n",
        "  # 모든 원소를 차례대로 힙에 삽입\n",
        "  for value in iterable :\n",
        "    heapq.heappush(h, -value)\n",
        "  # 힙에 삽입된 모든 원소를 차례대로 꺼내어 담기\n",
        "  for i in range(len(h)):\n",
        "    result.append(-heapq.heappop(h))\n",
        "  return result\n",
        "\n",
        "result = heapsort([1,3,5,7,9,2,4,6,8,0])\n",
        "print(result)"
      ],
      "metadata": {
        "colab": {
          "base_uri": "https://localhost:8080/"
        },
        "id": "ZRcrIcJ3s1-9",
        "outputId": "9b419c19-091e-4672-965a-3aa42ade5be8"
      },
      "execution_count": 2,
      "outputs": [
        {
          "output_type": "stream",
          "name": "stdout",
          "text": [
            "[9, 8, 7, 6, 5, 4, 3, 2, 1, 0]\n"
          ]
        }
      ]
    },
    {
      "cell_type": "code",
      "source": [
        "# 이진탐색 bisect\n",
        "# '정렬된 배열'에서 특정한 원소를 찾아야 할 때 매우 효과적\n",
        "\n",
        "from bisect import bisect_left, bisect_right\n",
        "\n",
        "a = [1,2,4,4,8]\n",
        "x = 4\n",
        "\n",
        "print(bisect_left(a,x))\n",
        "print(bisect_right(a,x))"
      ],
      "metadata": {
        "colab": {
          "base_uri": "https://localhost:8080/"
        },
        "id": "xgJeiTD1zPl8",
        "outputId": "7a14e720-f6b3-4e30-aacc-23c22558c33f"
      },
      "execution_count": 3,
      "outputs": [
        {
          "output_type": "stream",
          "name": "stdout",
          "text": [
            "2\n",
            "4\n"
          ]
        }
      ]
    },
    {
      "cell_type": "markdown",
      "source": [
        "1. bisect 모듈이란?\n",
        "\n",
        "- 정렬된 배열에서 원하는 값을 빠르게 찾거나, 끼워 넣을 위치를 알려주는 모듈입니다.\n",
        "- 내부적으로 이진 탐색(이분 탐색, binary search) 알고리즘을 사용합니다.\n",
        "- 시간 복잡도는 **O(log n)** → 매우 빠름.\n",
        "\n",
        "```python\n",
        "print(bisect_left(a, x))\n",
        "```\n",
        "- `bisect_left(a, x)`는 **x가 들어갈 \"가장 왼쪽 인덱스\"** 를 반환합니다.\n",
        "- 즉, a에서 x와 같은 값이 여러 개 있다면, 그 중 제일 왼쪽 위치를 알려줍니다.\n",
        "- 👉 결과: 2  \n",
        "(리스트 a = [1,2,4,4,8]에서 첫 번째 4는 인덱스 2에 있음)\n",
        "\n",
        "```python\n",
        "print(bisect_right(a, x))\n",
        "```\n",
        "- `bisect_right(a, x)`는 **x가 들어갈 \"가장 오른쪽 인덱스\"** 를 반환합니다.\n",
        "- 즉, a에서 x와 같은 값이 여러 개 있다면, 그 중 제일 오른쪽 위치 + 1을 알려줍니다.\n",
        "- 👉 결과: 4  \n",
        "(마지막 4는 인덱스 3에 있고, 그 뒤인 4번째 인덱스 위치를 반환)"
      ],
      "metadata": {
        "id": "YSTLCqS62F-q"
      }
    },
    {
      "cell_type": "code",
      "source": [
        "from bisect import bisect_left, bisect_right\n",
        "\n",
        "# 값이 [left_value, right_value]인 데이터의 개수를 반화하는 함수\n",
        "\n",
        "def country_by_range(a, left_value, right_value) :\n",
        "  right_index = bisect_right(a, right_value)\n",
        "  left_index = bisect_left(a, left_value)\n",
        "  return right_index - left_index\n",
        "\n",
        "a = [1,2,3,3,3,3,4,4,8]\n",
        "\n",
        "# 값이 4인 데이터 개수 출력\n",
        "print(country_by_range(a, 4, 4))\n",
        "\n",
        "# 값이 [-1,3] 범위에 있는 데이터 개수 출력\n",
        "print(country_by_range(a, -1, 3))"
      ],
      "metadata": {
        "colab": {
          "base_uri": "https://localhost:8080/"
        },
        "id": "9jxFit2x4PAs",
        "outputId": "8c05ef0c-0689-4c21-b6c5-819e94d860b3"
      },
      "execution_count": 4,
      "outputs": [
        {
          "output_type": "stream",
          "name": "stdout",
          "text": [
            "2\n",
            "6\n"
          ]
        }
      ]
    },
    {
      "cell_type": "markdown",
      "source": [
        "## collections\n",
        "- 자료구조를 제공하는 표준 라이브러리\n",
        "- 자주 사용되는 클래스 : **deque** , **Counter**\n",
        "  - **deque** : 큐를 구현\n",
        "    - 인덱싱, 슬라이싱 등 기능 사용 못함\n",
        "    - 연속적으로 나열된 데이터의 시작이나 끝부분의 데이터를 삽입하거나 삭제할 때 유용\n",
        "    - 스택이나 큐의 기능을 모두 포함\n",
        "    - 첫번째 원소를 제거할 때 : popleft()\n",
        "    - 마지막 원소를 제거할 때 : pop()\n",
        "    - 첫번째 인덱스에 원소 x를 삽입할 때 : appendleft(x)\n",
        "    - 마지막 인덱스에 원소를 삽입할 때 : append(x)"
      ],
      "metadata": {
        "id": "38JXfhbx52Yo"
      }
    },
    {
      "cell_type": "code",
      "source": [
        "from collections import deque\n",
        "\n",
        "data = deque([2,3,4])\n",
        "data.appendleft(1)\n",
        "data.append(5)\n",
        "\n",
        "print(data)\n",
        "print(list(data))"
      ],
      "metadata": {
        "colab": {
          "base_uri": "https://localhost:8080/"
        },
        "id": "7pVtBiKq50rE",
        "outputId": "1a8ffa25-afae-4d5f-99a4-3bc562cdde0f"
      },
      "execution_count": 5,
      "outputs": [
        {
          "output_type": "stream",
          "name": "stdout",
          "text": [
            "deque([1, 2, 3, 4, 5])\n",
            "[1, 2, 3, 4, 5]\n"
          ]
        }
      ]
    },
    {
      "cell_type": "code",
      "source": [
        "from collections import Counter\n",
        "# Counter는 등장 횟수를 세는 기능\n",
        "# iterable 객체가 주어졌을 때, 해당 객체 내부의 원소가 몇 번씩 등장했는지 알려준다\n",
        "\n",
        "\n",
        "counter = Counter(['red','blue','red','green','blue','blue'])\n",
        "\n",
        "print(counter['blue'])\n",
        "print(counter['green'])\n",
        "print(dict(counter)) # 딕셔너리 자료형으로 변환"
      ],
      "metadata": {
        "colab": {
          "base_uri": "https://localhost:8080/"
        },
        "id": "Z2korELC7LxY",
        "outputId": "e8d5337d-52ec-4241-db5f-c2efb3c6ecab"
      },
      "execution_count": 7,
      "outputs": [
        {
          "output_type": "stream",
          "name": "stdout",
          "text": [
            "3\n",
            "1\n",
            "{'red': 2, 'blue': 3, 'green': 1}\n"
          ]
        }
      ]
    },
    {
      "cell_type": "code",
      "source": [
        "import math\n",
        "\n",
        "print(math.factorial(5)) # 5 팩토리얼\n",
        "print(math.sqrt(7)) # 7의 제곱근 출력\n",
        "print(math.gcd(21,14)) # 최대 공약수\n",
        "print(math.pi) # 파이 출력\n",
        "print(math.e) # 자연상수 e 출력"
      ],
      "metadata": {
        "colab": {
          "base_uri": "https://localhost:8080/"
        },
        "id": "mWgodswa8Y5W",
        "outputId": "02f9b7af-f263-4b5d-d8da-06de3b0628ad"
      },
      "execution_count": 9,
      "outputs": [
        {
          "output_type": "stream",
          "name": "stdout",
          "text": [
            "120\n",
            "2.6457513110645907\n",
            "7\n",
            "3.141592653589793\n",
            "2.718281828459045\n"
          ]
        }
      ]
    },
    {
      "cell_type": "code",
      "source": [],
      "metadata": {
        "id": "4RvOBbYW87Tc"
      },
      "execution_count": null,
      "outputs": []
    }
  ]
}
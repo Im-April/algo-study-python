{
  "nbformat": 4,
  "nbformat_minor": 0,
  "metadata": {
    "colab": {
      "provenance": []
    },
    "kernelspec": {
      "name": "python3",
      "display_name": "Python 3"
    },
    "language_info": {
      "name": "python"
    }
  },
  "cells": [
    {
      "cell_type": "code",
      "execution_count": null,
      "metadata": {
        "colab": {
          "base_uri": "https://localhost:8080/"
        },
        "id": "Gy49dw7BSkTV",
        "outputId": "591c91fa-58fa-4c8a-ef02-60f5afd2e6c6"
      },
      "outputs": [
        {
          "output_type": "stream",
          "name": "stdout",
          "text": [
            "5\n",
            "15\n"
          ]
        }
      ],
      "source": [
        "n = int(input())\n",
        "\n",
        "result = 0\n",
        "\n",
        "for i in range(1,n+1) :\n",
        "  result += i\n",
        "\n",
        "print(result)"
      ]
    },
    {
      "cell_type": "code",
      "source": [
        "s = input()\n",
        "print(s[::-1])"
      ],
      "metadata": {
        "colab": {
          "base_uri": "https://localhost:8080/"
        },
        "id": "Ea2tZIabTS-S",
        "outputId": "001d4940-95df-4851-ac8c-35d2427e37ab"
      },
      "execution_count": null,
      "outputs": [
        {
          "output_type": "stream",
          "name": "stdout",
          "text": [
            "hello\n",
            "olleh\n"
          ]
        }
      ]
    },
    {
      "cell_type": "code",
      "source": [
        "n = int(input())\n",
        "nums = list(map(int,input().split()))\n",
        "nums.sort()\n",
        "print(nums)\n",
        "\n",
        "# 리스트를 공백으로 풀서 출력\n",
        "print(*nums)\n",
        "\n",
        "# 정렬 역순\n",
        "nums.sort(reverse=True)\n",
        "print(nums)"
      ],
      "metadata": {
        "colab": {
          "base_uri": "https://localhost:8080/"
        },
        "id": "1oWXIGjLUDDM",
        "outputId": "561edb13-787e-498d-cefe-73e58238533b"
      },
      "execution_count": null,
      "outputs": [
        {
          "output_type": "stream",
          "name": "stdout",
          "text": [
            "5\n",
            "1 5 3 2 4 \n",
            "[1, 2, 3, 4, 5]\n",
            "1 2 3 4 5\n",
            "[5, 4, 3, 2, 1]\n"
          ]
        }
      ]
    },
    {
      "cell_type": "code",
      "source": [
        "n = int(input())\n",
        "nums = list(map(int, input().split()))\n",
        "\n",
        "# 컴프리헨션\n",
        "result = [x**2 for x in nums if x %2 == 0]\n",
        "print(*result)"
      ],
      "metadata": {
        "colab": {
          "base_uri": "https://localhost:8080/"
        },
        "id": "NQzBIaw0W2YC",
        "outputId": "9cc250bd-0618-40e2-ea04-3263630f17f9"
      },
      "execution_count": null,
      "outputs": [
        {
          "output_type": "stream",
          "name": "stdout",
          "text": [
            "5\n",
            "1 2 3 4 5\n",
            "4 16\n"
          ]
        }
      ]
    },
    {
      "cell_type": "code",
      "source": [
        "print(\"=== 문제 1: 1부터 10까지의 제곱수 리스트 만들기 ===\")\n",
        "# 정답: [1, 4, 9, 16, 25, 36, 49, 64, 81, 100]\n",
        "\n",
        "# 여기에 코드를 작성하세요:\n",
        "squares = [x**2 for x in range(1,11)]\n",
        "\n",
        "print(f\"결과: {squares}\")\n",
        "print()"
      ],
      "metadata": {
        "colab": {
          "base_uri": "https://localhost:8080/"
        },
        "id": "MFj1DdyRXbV1",
        "outputId": "be412a09-683e-4a3a-d009-9fbedac4279e"
      },
      "execution_count": null,
      "outputs": [
        {
          "output_type": "stream",
          "name": "stdout",
          "text": [
            "=== 문제 1: 1부터 10까지의 제곱수 리스트 만들기 ===\n",
            "결과: [1, 4, 9, 16, 25, 36, 49, 64, 81, 100]\n",
            "\n"
          ]
        }
      ]
    },
    {
      "cell_type": "code",
      "source": [
        "print(\"=== 문제 2: 1부터 20까지 중 짝수만 리스트로 만들기 ===\")\n",
        "# 정답: [2, 4, 6, 8, 10, 12, 14, 16, 18, 20]\n",
        "\n",
        "# 여기에 코드를 작성하세요:\n",
        "evens = [x for x in range(1,21) if x % 2 == 0]\n",
        "\n",
        "print(f\"결과: {evens}\")\n",
        "print()"
      ],
      "metadata": {
        "colab": {
          "base_uri": "https://localhost:8080/"
        },
        "id": "A5qOenjHYrK8",
        "outputId": "822f8bc2-525c-443f-d62c-a2e3fb030bb3"
      },
      "execution_count": null,
      "outputs": [
        {
          "output_type": "stream",
          "name": "stdout",
          "text": [
            "=== 문제 2: 1부터 20까지 중 짝수만 리스트로 만들기 ===\n",
            "결과: [2, 4, 6, 8, 10, 12, 14, 16, 18, 20]\n",
            "\n"
          ]
        }
      ]
    },
    {
      "cell_type": "code",
      "source": [
        "print(\"=== 문제 3: 문자열 리스트를 대문자로 변환 ===\")\n",
        "words = [\"hello\", \"world\", \"python\", \"comprehension\"]\n",
        "# 정답: ['HELLO', 'WORLD', 'PYTHON', 'COMPREHENSION']\n",
        "\n",
        "# 여기에 코드를 작성하세요:\n",
        "upper_words = [words[x].upper() for x in range(len(words))]\n",
        "\n",
        "print(f\"결과: {upper_words}\")\n",
        "print()"
      ],
      "metadata": {
        "colab": {
          "base_uri": "https://localhost:8080/"
        },
        "id": "35cuaBA4Y8Hr",
        "outputId": "216dc98e-816a-483c-95bd-e2ada43e738f"
      },
      "execution_count": null,
      "outputs": [
        {
          "output_type": "stream",
          "name": "stdout",
          "text": [
            "=== 문제 3: 문자열 리스트를 대문자로 변환 ===\n",
            "결과: ['HELLO', 'WORLD', 'PYTHON', 'COMPREHENSION']\n",
            "\n"
          ]
        }
      ]
    },
    {
      "cell_type": "code",
      "source": [
        "print(\"=== 문제 4: 2차원 리스트를 1차원으로 평탄화 ===\")\n",
        "matrix = [[1, 2, 3], [4, 5, 6], [7, 8, 9]]\n",
        "# 정답: [1, 2, 3, 4, 5, 6, 7, 8, 9]\n",
        "\n",
        "# 여기에 코드를 작성하세요:\n",
        "flat = [num for row in matrix for num in row]\n",
        "\n",
        "print(f\"결과: {flat}\")\n",
        "print()"
      ],
      "metadata": {
        "colab": {
          "base_uri": "https://localhost:8080/"
        },
        "id": "vLh2rq1FatRJ",
        "outputId": "9106b434-6ddb-4d7c-da22-7d3d17561df6"
      },
      "execution_count": null,
      "outputs": [
        {
          "output_type": "stream",
          "name": "stdout",
          "text": [
            "=== 문제 4: 2차원 리스트를 1차원으로 평탄화 ===\n",
            "결과: [1, 2, 3, 4, 5, 6, 7, 8, 9]\n",
            "\n"
          ]
        }
      ]
    },
    {
      "cell_type": "code",
      "source": [
        "print(\"=== 문제 5: 1부터 30까지 중 3의 배수이지만 5의 배수가 아닌 수 ===\")\n",
        "# 정답: [3, 6, 9, 12, 18, 21, 24, 27]\n",
        "\n",
        "# 여기에 코드를 작성하세요:\n",
        "result = [x for x in range(1,31) if x % 3 == 0 and x % 5 != 0]\n",
        "\n",
        "print(f\"결과: {result}\")\n",
        "print()"
      ],
      "metadata": {
        "colab": {
          "base_uri": "https://localhost:8080/"
        },
        "id": "uyKPlk5RcTul",
        "outputId": "148de746-7b2b-43bb-cb7d-73d7bfc14beb"
      },
      "execution_count": null,
      "outputs": [
        {
          "output_type": "stream",
          "name": "stdout",
          "text": [
            "=== 문제 5: 1부터 30까지 중 3의 배수이지만 5의 배수가 아닌 수 ===\n",
            "결과: [3, 6, 9, 12, 18, 21, 24, 27]\n",
            "\n"
          ]
        }
      ]
    },
    {
      "cell_type": "code",
      "source": [
        "print(\"=== 문제 6: 문자열 리스트에서 길이가 5 이상인 것만 선택 ===\")\n",
        "fruits = [\"apple\", \"kiwi\", \"banana\", \"pear\", \"grape\", \"watermelon\"]\n",
        "# 정답: ['apple', 'banana', 'grape', 'watermelon']\n",
        "\n",
        "# 여기에 코드를 작성하세요:\n",
        "long_fruits = [fruits[x] for x in range(len(fruits)) if len(fruits[x]) >= 5]\n",
        "\n",
        "print(f\"결과: {long_fruits}\")\n",
        "print()"
      ],
      "metadata": {
        "colab": {
          "base_uri": "https://localhost:8080/"
        },
        "id": "8DHlC93Lc_Vk",
        "outputId": "4543fe1b-39bc-4bd9-9210-77f246bcd764"
      },
      "execution_count": null,
      "outputs": [
        {
          "output_type": "stream",
          "name": "stdout",
          "text": [
            "=== 문제 6: 문자열 리스트에서 길이가 5 이상인 것만 선택 ===\n",
            "결과: ['apple', 'banana', 'grape', 'watermelon']\n",
            "\n"
          ]
        }
      ]
    },
    {
      "cell_type": "code",
      "source": [
        "print(\"=== 문제 7: 1부터 5까지 숫자와 그 제곱을 딕셔너리로 ===\")\n",
        "# 정답: {1: 1, 2: 4, 3: 9, 4: 16, 5: 25}\n",
        "\n",
        "# 여기에 코드를 작성하세요:\n",
        "num_squares = {x: x**2 for x in range(1,6)}\n",
        "\n",
        "print(f\"결과: {num_squares}\")\n",
        "print()"
      ],
      "metadata": {
        "colab": {
          "base_uri": "https://localhost:8080/"
        },
        "id": "CYcxLdt2eIA0",
        "outputId": "20d0ef39-0cbb-4d5f-97a0-63404006b96a"
      },
      "execution_count": null,
      "outputs": [
        {
          "output_type": "stream",
          "name": "stdout",
          "text": [
            "=== 문제 7: 1부터 5까지 숫자와 그 제곱을 딕셔너리로 ===\n",
            "결과: {1: 1, 2: 4, 3: 9, 4: 16, 5: 25}\n",
            "\n"
          ]
        }
      ]
    },
    {
      "cell_type": "code",
      "source": [
        "print(\"=== 문제 9: 딕셔너리의 키와 값을 바꾸기 ===\")\n",
        "original = {'a': 1, 'b': 2, 'c': 3}\n",
        "# 정답: {1: 'a', 2: 'b', 3: 'c'}\n",
        "\n",
        "# 여기에 코드를 작성하세요:\n",
        "# .items() 는 (key, value) 쌍을 하나씩 반환해요.\n",
        "swapped = {v:k for k,v in original.items()}\n",
        "\n",
        "print(f\"결과: {swapped}\")\n",
        "print()"
      ],
      "metadata": {
        "colab": {
          "base_uri": "https://localhost:8080/"
        },
        "id": "z0h-Ku2he3tO",
        "outputId": "ae9484fa-8bb6-40be-e16f-a593824d04c9"
      },
      "execution_count": null,
      "outputs": [
        {
          "output_type": "stream",
          "name": "stdout",
          "text": [
            "=== 문제 9: 딕셔너리의 키와 값을 바꾸기 ===\n",
            "결과: {1: 'a', 2: 'b', 3: 'c'}\n",
            "\n"
          ]
        }
      ]
    },
    {
      "cell_type": "code",
      "source": [
        "print(\"=== 문제 10: 1부터 10까지 숫자의 제곱을 셋으로 ===\")\n",
        "# 정답: {1, 4, 9, 16, 25, 36, 49, 64, 81, 100}\n",
        "\n",
        "# 여기에 코드를 작성하세요:\n",
        "square_set = set(x**2 for x in range(1,11) )\n",
        "\n",
        "print(f\"결과: {square_set}\")\n",
        "print()"
      ],
      "metadata": {
        "colab": {
          "base_uri": "https://localhost:8080/"
        },
        "id": "rMl_pkPif9dD",
        "outputId": "319f093c-bfa8-4c02-f026-46ee05143de5"
      },
      "execution_count": null,
      "outputs": [
        {
          "output_type": "stream",
          "name": "stdout",
          "text": [
            "=== 문제 10: 1부터 10까지 숫자의 제곱을 셋으로 ===\n",
            "결과: {64, 1, 4, 36, 100, 9, 16, 49, 81, 25}\n",
            "\n"
          ]
        }
      ]
    },
    {
      "cell_type": "code",
      "source": [
        "print(\"=== 문제 11: 구구단 2단부터 9단까지 딕셔너리로 만들기 ===\")\n",
        "# 정답: {2: [2, 4, 6, ..., 18], 3: [3, 6, 9, ..., 27], ...}\n",
        "\n",
        "# 여기에 코드를 작성하세요:\n",
        "gugudan = {i : [i*j for j in range(1,10)] for i in range(2,10)}\n",
        "\n",
        "print(f\"결과: {gugudan}\")\n",
        "print()"
      ],
      "metadata": {
        "colab": {
          "base_uri": "https://localhost:8080/"
        },
        "id": "L3gXc0V3gyjp",
        "outputId": "f800b073-7725-4265-bd45-d1a5d7ee1488"
      },
      "execution_count": null,
      "outputs": [
        {
          "output_type": "stream",
          "name": "stdout",
          "text": [
            "=== 문제 11: 구구단 2단부터 9단까지 딕셔너리로 만들기 ===\n",
            "결과: {2: [2, 4, 6, 8, 10, 12, 14, 16, 18], 3: [3, 6, 9, 12, 15, 18, 21, 24, 27], 4: [4, 8, 12, 16, 20, 24, 28, 32, 36], 5: [5, 10, 15, 20, 25, 30, 35, 40, 45], 6: [6, 12, 18, 24, 30, 36, 42, 48, 54], 7: [7, 14, 21, 28, 35, 42, 49, 56, 63], 8: [8, 16, 24, 32, 40, 48, 56, 64, 72], 9: [9, 18, 27, 36, 45, 54, 63, 72, 81]}\n",
            "\n"
          ]
        }
      ]
    },
    {
      "cell_type": "code",
      "source": [
        "print(\"=== 문제 12: 좌표 평면에서 (x, y) 튜플 생성 (x, y는 0~2) ===\")\n",
        "# 정답: [(0, 0), (0, 1), (0, 2), (1, 0), (1, 1), (1, 2), (2, 0), (2, 1), (2, 2)]\n",
        "\n",
        "# 여기에 코드를 작성하세요:\n",
        "coordinates = [(x,y) for x in range(3) for y in range(3)]\n",
        "\n",
        "print(f\"결과: {coordinates}\")\n",
        "print()"
      ],
      "metadata": {
        "colab": {
          "base_uri": "https://localhost:8080/"
        },
        "id": "rOmLpTERhI3m",
        "outputId": "ed7967bb-9283-49cb-bd17-ac80d73c96e3"
      },
      "execution_count": null,
      "outputs": [
        {
          "output_type": "stream",
          "name": "stdout",
          "text": [
            "=== 문제 12: 좌표 평면에서 (x, y) 튜플 생성 (x, y는 0~2) ===\n",
            "결과: [(0, 0), (0, 1), (0, 2), (1, 0), (1, 1), (1, 2), (2, 0), (2, 1), (2, 2)]\n",
            "\n"
          ]
        }
      ]
    },
    {
      "cell_type": "code",
      "source": [
        "n = int(input())\n",
        "\n",
        "for i in range(1,n+1) :\n",
        "  if i % 2 == 0 :\n",
        "    print(f'{i} Even')\n",
        "  else :\n",
        "    print(f'{i} Odd')"
      ],
      "metadata": {
        "colab": {
          "base_uri": "https://localhost:8080/"
        },
        "id": "eOCjAH58hyra",
        "outputId": "f2cda327-7bea-4439-92c7-00ad3ef10162"
      },
      "execution_count": null,
      "outputs": [
        {
          "output_type": "stream",
          "name": "stdout",
          "text": [
            "5\n",
            "1 Odd\n",
            "2 Even\n",
            "3 Odd\n",
            "4 Even\n",
            "5 Odd\n"
          ]
        }
      ]
    },
    {
      "cell_type": "code",
      "source": [
        "n,m = map(int, input().split())\n",
        "matrix = [list(map(int,input().split())) for _ in range(n)]\n",
        "print(sum(sum(row) for row in matrix))"
      ],
      "metadata": {
        "colab": {
          "base_uri": "https://localhost:8080/"
        },
        "id": "dMkC89q0irRM",
        "outputId": "fab8d7d5-3bf9-4815-c5fd-d8c97fd68e69"
      },
      "execution_count": null,
      "outputs": [
        {
          "output_type": "stream",
          "name": "stdout",
          "text": [
            "2 2\n",
            "1 2\n",
            "3 4\n",
            "10\n"
          ]
        }
      ]
    },
    {
      "cell_type": "code",
      "source": [
        "# enumerate\n",
        "# 리스트를 순회할 때 인덱스(위치)와 값을 동시에 가져오는 파이썬 내장 함수\n",
        "\n",
        "fruits = ['apple', 'banana', 'cherry']\n",
        "\n",
        "# enumerate 없이 - 인덱스를 직접 관리\n",
        "for i in range(len(fruits)) :\n",
        "  print(f'{i} : {fruits[i]}')\n",
        "\n",
        "print('='*50)\n",
        "# enumerate 사용 - 훨씬 간단!\n",
        "for i, fruit in enumerate(fruits) :\n",
        "  print(f'{i} : {fruit}')"
      ],
      "metadata": {
        "colab": {
          "base_uri": "https://localhost:8080/"
        },
        "id": "RZlx4KgGjzOs",
        "outputId": "3cfde785-7cc5-4a31-cd0c-c9ba68acfb3d"
      },
      "execution_count": null,
      "outputs": [
        {
          "output_type": "stream",
          "name": "stdout",
          "text": [
            "0 : apple\n",
            "1 : banana\n",
            "2 : cherry\n",
            "==================================================\n",
            "0 : apple\n",
            "1 : banana\n",
            "2 : cherry\n"
          ]
        }
      ]
    },
    {
      "cell_type": "code",
      "source": [
        "fruits = ['apple', 'banana', 'cherry']\n",
        "\n",
        "# 1부터 시작\n",
        "for i, fruit in enumerate(fruits, start=1): # 시작 인덱스 변경 가능 1부터\n",
        "    print(f\"{i}. {fruit}\")\n"
      ],
      "metadata": {
        "colab": {
          "base_uri": "https://localhost:8080/"
        },
        "id": "bzlUu98Aj2Vn",
        "outputId": "8eae4acd-2c6d-42cd-8d8a-a9a183089d4d"
      },
      "execution_count": null,
      "outputs": [
        {
          "output_type": "stream",
          "name": "stdout",
          "text": [
            "1. apple\n",
            "2. banana\n",
            "3. cherry\n"
          ]
        }
      ]
    },
    {
      "cell_type": "code",
      "source": [
        "fruits = ['apple', 'banana', 'cherry']\n",
        "\n",
        "# 인덱스와 값을 튜플로\n",
        "indexed = [(i, fruit) for i, fruit in enumerate(fruits)]\n",
        "\n",
        "print(indexed)"
      ],
      "metadata": {
        "colab": {
          "base_uri": "https://localhost:8080/"
        },
        "id": "AcaZl1TckqWM",
        "outputId": "f2b9bb42-4121-422d-9560-c85b175e5f2d"
      },
      "execution_count": null,
      "outputs": [
        {
          "output_type": "stream",
          "name": "stdout",
          "text": [
            "[(0, 'apple'), (1, 'banana'), (2, 'cherry')]\n"
          ]
        }
      ]
    },
    {
      "cell_type": "code",
      "source": [
        "# 짝수 인덱스만 선택\n",
        "evens = [fruit for i, fruit in enumerate(fruits) if i % 2 == 0]\n",
        "print(evens)"
      ],
      "metadata": {
        "colab": {
          "base_uri": "https://localhost:8080/"
        },
        "id": "kTdr4pfTlJKR",
        "outputId": "0ca99bc3-9985-41cf-c909-b7146a2a030b"
      },
      "execution_count": null,
      "outputs": [
        {
          "output_type": "stream",
          "name": "stdout",
          "text": [
            "['apple', 'cherry']\n"
          ]
        }
      ]
    },
    {
      "cell_type": "code",
      "source": [
        "# 순위 매기기\n",
        "scores = [95, 87, 92, 88]\n",
        "\n",
        "for rank, score in enumerate(scores, start=1):\n",
        "  print(f'{rank}등 : {score}')"
      ],
      "metadata": {
        "colab": {
          "base_uri": "https://localhost:8080/"
        },
        "id": "BReMtHYvlXM9",
        "outputId": "c541eebd-b354-4a54-e4b2-30d1f6602424"
      },
      "execution_count": null,
      "outputs": [
        {
          "output_type": "stream",
          "name": "stdout",
          "text": [
            "1등 : 95\n",
            "2등 : 87\n",
            "3등 : 92\n",
            "4등 : 88\n"
          ]
        }
      ]
    },
    {
      "cell_type": "code",
      "source": [
        "# 원본 리스트 수정할 때\n",
        "numbers = [10, 20, 30, 40]\n",
        "for i, num in enumerate(numbers):\n",
        "  numbers[i] = num*2\n",
        "\n",
        "print(numbers)"
      ],
      "metadata": {
        "colab": {
          "base_uri": "https://localhost:8080/"
        },
        "id": "nwfh_SSAlr3X",
        "outputId": "b4bfc365-68c9-4939-8a4c-faaa1c6857c7"
      },
      "execution_count": null,
      "outputs": [
        {
          "output_type": "stream",
          "name": "stdout",
          "text": [
            "[20, 40, 60, 80]\n"
          ]
        }
      ]
    },
    {
      "cell_type": "code",
      "source": [
        "# 특정 위치의 값 찾기\n",
        "fruits = ['apple', 'banana', 'cherry', 'banana']\n",
        "banana_positions = [i for i, fruit in enumerate(fruits) if fruit == 'banana']\n",
        "print(banana_positions)"
      ],
      "metadata": {
        "colab": {
          "base_uri": "https://localhost:8080/"
        },
        "id": "Q6TJuxFfl6or",
        "outputId": "f3c323fa-4099-4b10-bff1-b93f44a2ee76"
      },
      "execution_count": null,
      "outputs": [
        {
          "output_type": "stream",
          "name": "stdout",
          "text": [
            "[1, 3]\n"
          ]
        }
      ]
    },
    {
      "cell_type": "code",
      "source": [
        "n = int(input())\n",
        "nums = list(map(int, input().split()))\n",
        "\n",
        "max_val = -1\n",
        "max_ind = -1\n",
        "\n",
        "for i, v in enumerate(nums) :\n",
        "  if v > max_val :\n",
        "    max_val = v\n",
        "    max_ind = i\n",
        "print(max_ind, max_val)"
      ],
      "metadata": {
        "colab": {
          "base_uri": "https://localhost:8080/"
        },
        "id": "0aiw-CKOmQdE",
        "outputId": "3e18fe76-9d5a-4479-d288-b26fda40c27d"
      },
      "execution_count": null,
      "outputs": [
        {
          "output_type": "stream",
          "name": "stdout",
          "text": [
            "5\n",
            "1 6 3 2 9\n",
            "4 9\n"
          ]
        }
      ]
    },
    {
      "cell_type": "code",
      "source": [
        "a_data = input().split()\n",
        "b_data = input().split()\n",
        "\n",
        "a_name, a_score = a_data[0], list(map(int, a_data[1:]))\n",
        "b_name, b_score = b_data[0], list(map(int, b_data[1:]))\n",
        "\n",
        "for a,b in zip(a_score, b_score) :\n",
        "  print(a_name if a>b else b_name)"
      ],
      "metadata": {
        "colab": {
          "base_uri": "https://localhost:8080/"
        },
        "id": "Cdw-xdHvnMS_",
        "outputId": "110caa61-faf4-46bf-998a-e59f766e47cf"
      },
      "execution_count": null,
      "outputs": [
        {
          "output_type": "stream",
          "name": "stdout",
          "text": [
            "영희 80 60 90\n",
            "영미 90 50 70\n",
            "영미\n",
            "영희\n",
            "영희\n"
          ]
        }
      ]
    },
    {
      "cell_type": "code",
      "source": [
        "# zip은 여러 개의 리스트(또는 iterable)를 나란히 묶어주는 함수\n",
        "\n",
        "names = ['철수', '영희', '민수']\n",
        "ages = [25, 30, 28]\n",
        "\n",
        "for name, age in zip(names, ages) :\n",
        "  print(f'{name} : {age}\\n')"
      ],
      "metadata": {
        "colab": {
          "base_uri": "https://localhost:8080/"
        },
        "id": "p9G4cVHBqBsH",
        "outputId": "97f620f5-a47a-4e56-a054-787d0f22e949"
      },
      "execution_count": null,
      "outputs": [
        {
          "output_type": "stream",
          "name": "stdout",
          "text": [
            "철수 : 25\n",
            "\n",
            "영희 : 30\n",
            "\n",
            "민수 : 28\n",
            "\n"
          ]
        }
      ]
    },
    {
      "cell_type": "code",
      "source": [
        "names = ['철수', '영희']\n",
        "ages = [25, 30]\n",
        "\n",
        "result = list(zip(names, ages))\n",
        "print(result)"
      ],
      "metadata": {
        "colab": {
          "base_uri": "https://localhost:8080/"
        },
        "id": "UXHa6CSDqV-f",
        "outputId": "b9f02228-be5a-466a-9815-869f573ba1a4"
      },
      "execution_count": null,
      "outputs": [
        {
          "output_type": "stream",
          "name": "stdout",
          "text": [
            "[('철수', 25), ('영희', 30)]\n"
          ]
        }
      ]
    },
    {
      "cell_type": "code",
      "source": [
        "names = ['철수', '영희', '민수']\n",
        "ages = [25, 30, 28]\n",
        "cities = ['서울', '부산', '대구']\n",
        "\n",
        "for name, age, city in zip(names, ages, cities):\n",
        "  print(f'{name}님은 {age}살이고, {city}에 살아요')"
      ],
      "metadata": {
        "colab": {
          "base_uri": "https://localhost:8080/"
        },
        "id": "-Zyqrw5UqpCW",
        "outputId": "feaba984-1fd4-4a8e-863b-7b8afed266db"
      },
      "execution_count": null,
      "outputs": [
        {
          "output_type": "stream",
          "name": "stdout",
          "text": [
            "철수님은 25살이고, 서울에 살아요\n",
            "영희님은 30살이고, 부산에 살아요\n",
            "민수님은 28살이고, 대구에 살아요\n"
          ]
        }
      ]
    },
    {
      "cell_type": "code",
      "source": [
        "# 길이가 다르면 ?\n",
        "\n",
        "list1 = [1, 2, 3, 4, 5]\n",
        "list2 = ['a', 'b', 'c']\n",
        "\n",
        "result = list(zip(list1, list2))\n",
        "print(result)\n",
        "# 짧은 쪽에 맞춰짐! (4, 5는 버려짐)"
      ],
      "metadata": {
        "colab": {
          "base_uri": "https://localhost:8080/"
        },
        "id": "c5T655Wjq5h3",
        "outputId": "f4e6bb9f-0b8d-4fdd-d43d-6a3c0ab69dbd"
      },
      "execution_count": null,
      "outputs": [
        {
          "output_type": "stream",
          "name": "stdout",
          "text": [
            "[(1, 'a'), (2, 'b'), (3, 'c')]\n"
          ]
        }
      ]
    },
    {
      "cell_type": "code",
      "source": [
        "keys = ['이름', '나이', '도시']\n",
        "values = ['철수', 25, '서울']\n",
        "\n",
        "info = dict(zip(keys, values))\n",
        "print(info)"
      ],
      "metadata": {
        "colab": {
          "base_uri": "https://localhost:8080/"
        },
        "id": "XWPAYk9prFbf",
        "outputId": "78c1d234-e6ac-489e-c8b5-e752805f1ebe"
      },
      "execution_count": null,
      "outputs": [
        {
          "output_type": "stream",
          "name": "stdout",
          "text": [
            "{'이름': '철수', '나이': 25, '도시': '서울'}\n"
          ]
        }
      ]
    },
    {
      "cell_type": "code",
      "source": [
        "numbers1 = [1, 2, 3, 4]\n",
        "numbers2 = [10, 20, 30, 40]\n",
        "\n",
        "# 두 리스트의 합\n",
        "sums = [a + b for a,b in zip(numbers1, numbers2)]\n",
        "print(sums)"
      ],
      "metadata": {
        "colab": {
          "base_uri": "https://localhost:8080/"
        },
        "id": "OxplXIZwrM2W",
        "outputId": "26b43aaf-48d0-4604-c568-350dd89bca71"
      },
      "execution_count": null,
      "outputs": [
        {
          "output_type": "stream",
          "name": "stdout",
          "text": [
            "[11, 22, 33, 44]\n"
          ]
        }
      ]
    },
    {
      "cell_type": "code",
      "source": [
        "pairs = [(1, 'a'), (2, 'b'), (3, 'c')]\n",
        "\n",
        "nums, letters = zip(*pairs)\n",
        "print(nums)\n",
        "print(letters)"
      ],
      "metadata": {
        "colab": {
          "base_uri": "https://localhost:8080/"
        },
        "id": "SD2MWjzesCau",
        "outputId": "8031da1b-af51-49f3-de73-4fd09514cd69"
      },
      "execution_count": null,
      "outputs": [
        {
          "output_type": "stream",
          "name": "stdout",
          "text": [
            "(1, 2, 3)\n",
            "('a', 'b', 'c')\n"
          ]
        }
      ]
    },
    {
      "cell_type": "code",
      "source": [
        "# 학생 성적 처리\n",
        "students = ['철수', '영희', '민수']\n",
        "korean = [90, 85, 88]\n",
        "math = [85, 92, 90]\n",
        "english = [88, 90, 85]\n",
        "\n",
        "print(\"이름\\t국어\\t수학\\t영어\\t평균\")\n",
        "for name, kor, math, eng in zip(students, korean, math, english) :\n",
        "  avg = (kor+math+eng) / 3\n",
        "  print(f\"{name}\\t{kor}\\t{math}\\t{eng}\\t{avg:.1f}\")"
      ],
      "metadata": {
        "colab": {
          "base_uri": "https://localhost:8080/"
        },
        "id": "1XFpEWRxs2ax",
        "outputId": "ce0e4feb-88ad-438b-f0e4-04aa3cf9c485"
      },
      "execution_count": null,
      "outputs": [
        {
          "output_type": "stream",
          "name": "stdout",
          "text": [
            "이름\t국어\t수학\t영어\t평균\n",
            "철수\t90\t85\t88\t87.7\n",
            "영희\t85\t92\t90\t89.0\n",
            "민수\t88\t90\t85\t87.7\n"
          ]
        }
      ]
    },
    {
      "cell_type": "code",
      "source": [
        "n = int(input())\n",
        "arr = []\n",
        "\n",
        "for _ in range(n) :\n",
        "  command = input().split()\n",
        "  if command[0] == 'append':\n",
        "    arr.append(int(command[1]))\n",
        "  elif command[0] == 'pop':\n",
        "    arr.pop()\n",
        "  elif command[0] == 'print':\n",
        "    print(arr)"
      ],
      "metadata": {
        "colab": {
          "base_uri": "https://localhost:8080/"
        },
        "id": "YMrXNbuPtJ2a",
        "outputId": "3a8304e1-cc19-474a-c55e-4263a85fe70e"
      },
      "execution_count": null,
      "outputs": [
        {
          "output_type": "stream",
          "name": "stdout",
          "text": [
            "3\n",
            "append 1\n",
            "append 2\n",
            "print\n",
            "[1, 2]\n"
          ]
        }
      ]
    },
    {
      "cell_type": "code",
      "source": [
        "s = set([1,2,3])\n",
        "s.add(4)\n",
        "s.remove(2)\n",
        "print(s)\n",
        "print(2 in s)"
      ],
      "metadata": {
        "colab": {
          "base_uri": "https://localhost:8080/"
        },
        "id": "RJWbs0_4vZse",
        "outputId": "dda4b1c2-775e-4b6f-d391-9fad429d471f"
      },
      "execution_count": null,
      "outputs": [
        {
          "output_type": "stream",
          "name": "stdout",
          "text": [
            "{1, 3, 4}\n",
            "False\n"
          ]
        }
      ]
    },
    {
      "cell_type": "code",
      "source": [
        "n = int(input())\n",
        "words = set()\n",
        "\n",
        "for i in range(n) :\n",
        "  word = input()\n",
        "  words.add(word)\n",
        "\n",
        "print(words)\n"
      ],
      "metadata": {
        "colab": {
          "base_uri": "https://localhost:8080/"
        },
        "id": "RnUNx0Fpvw7O",
        "outputId": "34035f69-bf5a-4f2e-b06c-1f8f806df422"
      },
      "execution_count": null,
      "outputs": [
        {
          "output_type": "stream",
          "name": "stdout",
          "text": [
            "3\n",
            "apple\n",
            "apple\n",
            "tomato\n",
            "{'apple', 'tomato'}\n"
          ]
        }
      ]
    },
    {
      "cell_type": "code",
      "source": [
        "d = {'a':1, 'b':2}\n",
        "d['c'] = 3\n",
        "\n",
        "for k,v in d.items():\n",
        "  print(k, v)"
      ],
      "metadata": {
        "colab": {
          "base_uri": "https://localhost:8080/"
        },
        "id": "n7LBMgk9wqJv",
        "outputId": "dbc80b86-eb44-4ab5-9bdf-eabf077f577d"
      },
      "execution_count": null,
      "outputs": [
        {
          "output_type": "stream",
          "name": "stdout",
          "text": [
            "a 1\n",
            "b 2\n",
            "c 3\n"
          ]
        }
      ]
    },
    {
      "cell_type": "code",
      "source": [
        "n = int(input())\n",
        "\n",
        "words = set(input().strip() for _ in range(n))\n",
        "for w in sorted(words):\n",
        "  print(w)"
      ],
      "metadata": {
        "colab": {
          "base_uri": "https://localhost:8080/"
        },
        "id": "FBAXMUH1w_pN",
        "outputId": "b329cddc-f18a-4f51-846d-9f483b84732d"
      },
      "execution_count": null,
      "outputs": [
        {
          "output_type": "stream",
          "name": "stdout",
          "text": [
            "3\n",
            "banana\n",
            "banana\n",
            "apple\n",
            "apple\n",
            "banana\n"
          ]
        }
      ]
    },
    {
      "cell_type": "code",
      "source": [
        "n = int(input())\n",
        "d = {}\n",
        "\n",
        "for _ in range(n):\n",
        "  word = input().strip()\n",
        "  d[word] = d.get(word,0) + 1 # dict.get(default) -> 키 없을 때 기본값 반환\n",
        "\n",
        "for k,v in d.items():\n",
        "  print(k,v)"
      ],
      "metadata": {
        "colab": {
          "base_uri": "https://localhost:8080/"
        },
        "id": "aIoMDxzZ4hXl",
        "outputId": "7ea7c1c0-b5b4-446c-e93f-8a2673a83fbc"
      },
      "execution_count": null,
      "outputs": [
        {
          "output_type": "stream",
          "name": "stdout",
          "text": [
            "5\n",
            "apple\n",
            "apple\n",
            "kiwi\n",
            "banana\n",
            "banana\n",
            "apple 2\n",
            "kiwi 1\n",
            "banana 2\n"
          ]
        }
      ]
    },
    {
      "cell_type": "code",
      "source": [
        "from collections import deque\n",
        "\n",
        "dq = deque([1,2,3])\n",
        "print(dq)\n",
        "\n",
        "dq.append(4)\n",
        "print(dq)\n",
        "\n",
        "dq.appendleft(0)\n",
        "print(dq)\n",
        "\n",
        "dq.pop()\n",
        "print(dq)"
      ],
      "metadata": {
        "colab": {
          "base_uri": "https://localhost:8080/"
        },
        "id": "ETVyfZ1H6tFW",
        "outputId": "25c1456f-96ef-4242-fc77-9e951848920b"
      },
      "execution_count": null,
      "outputs": [
        {
          "output_type": "stream",
          "name": "stdout",
          "text": [
            "deque([1, 2, 3])\n",
            "deque([1, 2, 3, 4])\n",
            "deque([0, 1, 2, 3, 4])\n",
            "deque([0, 1, 2, 3])\n"
          ]
        }
      ]
    },
    {
      "cell_type": "code",
      "source": [
        "from collections import deque\n",
        "\n",
        "n = int(input())\n",
        "q = deque()\n",
        "\n",
        "for _ in range(n) :\n",
        "  command = input().split()\n",
        "  if command[0] == 'push':\n",
        "    q.append(int(command[1]))\n",
        "  elif command[0] == 'pop':\n",
        "    print(q.popleft())"
      ],
      "metadata": {
        "colab": {
          "base_uri": "https://localhost:8080/"
        },
        "id": "Pn0d32vE_11F",
        "outputId": "5edf5b04-8f4c-43c1-cf77-ae1ac13d5e0a"
      },
      "execution_count": null,
      "outputs": [
        {
          "output_type": "stream",
          "name": "stdout",
          "text": [
            "5\n",
            "push 1\n",
            "push 2\n",
            "push 3\n",
            "pop\n",
            "1\n",
            "pop\n",
            "2\n"
          ]
        }
      ]
    },
    {
      "cell_type": "code",
      "source": [
        "from collections import Counter\n",
        "\n",
        "c = Counter(['a','b','a','c','a'])\n",
        "print(c)\n",
        "print(c.most_common(1))\n",
        "# most_common(n) → 가장 많이 나온 항목 n개를 (요소, 횟수) 형태의 리스트로 반환"
      ],
      "metadata": {
        "colab": {
          "base_uri": "https://localhost:8080/"
        },
        "id": "uV4cZ4RvAzwn",
        "outputId": "5c3c5a29-1789-4b20-8f03-4220d58b569b"
      },
      "execution_count": null,
      "outputs": [
        {
          "output_type": "stream",
          "name": "stdout",
          "text": [
            "Counter({'a': 3, 'b': 1, 'c': 1})\n",
            "[('a', 3)]\n"
          ]
        }
      ]
    },
    {
      "cell_type": "code",
      "source": [
        "from collections import Counter\n",
        "\n",
        "n = int(input())\n",
        "nums = list(map(int,input().split()))\n",
        "\n",
        "counter = Counter(nums)\n",
        "\n",
        "print(counter.most_common(1)[0][0])"
      ],
      "metadata": {
        "colab": {
          "base_uri": "https://localhost:8080/"
        },
        "id": "Eew0dT92BL7S",
        "outputId": "4f76b775-a327-4391-8bcc-c5887e79a37e"
      },
      "execution_count": null,
      "outputs": [
        {
          "output_type": "stream",
          "name": "stdout",
          "text": [
            "7\n",
            "1 3 2 3 2 3 1\n",
            "3\n"
          ]
        }
      ]
    },
    {
      "cell_type": "code",
      "source": [
        "arr = [3,1,2]\n",
        "arr.sort()\n",
        "print(arr)\n",
        "\n",
        "arr.sort(reverse=True)\n",
        "print(arr)"
      ],
      "metadata": {
        "colab": {
          "base_uri": "https://localhost:8080/"
        },
        "id": "hXPgkyRPD_LV",
        "outputId": "148fcf83-926f-493c-bf6c-51953daeeff8"
      },
      "execution_count": null,
      "outputs": [
        {
          "output_type": "stream",
          "name": "stdout",
          "text": [
            "[1, 2, 3]\n",
            "[3, 2, 1]\n"
          ]
        }
      ]
    },
    {
      "cell_type": "code",
      "source": [
        "arr = ['apple','kiwi','banana']\n",
        "arr.sort()\n",
        "print(arr)\n",
        "\n",
        "arr.sort(key=len)\n",
        "print(arr)"
      ],
      "metadata": {
        "colab": {
          "base_uri": "https://localhost:8080/"
        },
        "id": "nAoPcKN-EKAV",
        "outputId": "ffcf7897-5f0b-4e66-d6ad-459bd0bb8da2"
      },
      "execution_count": null,
      "outputs": [
        {
          "output_type": "stream",
          "name": "stdout",
          "text": [
            "['apple', 'banana', 'kiwi']\n",
            "['kiwi', 'apple', 'banana']\n"
          ]
        }
      ]
    },
    {
      "cell_type": "code",
      "source": [
        "n = int(input())\n",
        "students = []\n",
        "\n",
        "for i in range(n) :\n",
        "  name, score = input().split()\n",
        "  students.append((name, int(score))) # 튜플로 만들어서 리스트에 추가\n",
        "\n",
        "students.sort(key=lambda x : x[1]) # 각 튜플에서 두 번째 값(즉, score)을 기준으로 정렬하겠다\n",
        "\n",
        "for name, score in students :\n",
        "  print(name, score)"
      ],
      "metadata": {
        "colab": {
          "base_uri": "https://localhost:8080/"
        },
        "id": "YF-ThvVhEVYm",
        "outputId": "299b8248-60b1-4460-86f5-1c4136fbd76e"
      },
      "execution_count": null,
      "outputs": [
        {
          "output_type": "stream",
          "name": "stdout",
          "text": [
            "3\n",
            "Tom 50\n",
            "Jerry 50\n",
            "Anna 80\n",
            "Tom 50\n",
            "Jerry 50\n",
            "Anna 80\n"
          ]
        }
      ]
    },
    {
      "cell_type": "code",
      "source": [
        "n = int(input())\n",
        "data = []\n",
        "\n",
        "for _ in range(n) :\n",
        "  name, k, e, m = input().split()\n",
        "  data.append((name,int(k),int(e),int(m)))\n",
        "\n",
        "data.sort(key = lambda x: (-x[1], x[2], -x[3], x[0]))\n",
        "\n",
        "for d in data :\n",
        "  print(d[0])"
      ],
      "metadata": {
        "colab": {
          "base_uri": "https://localhost:8080/"
        },
        "id": "YTZOnPa_E8zF",
        "outputId": "87758bfc-84a7-4c4f-bec6-6ca3f9354c27"
      },
      "execution_count": null,
      "outputs": [
        {
          "output_type": "stream",
          "name": "stdout",
          "text": [
            "4\n",
            "민지 50 60 100\n",
            "웅이 80 60 50\n",
            "혁수 80 70 100\n",
            "미주 50 60 90\n",
            "웅이\n",
            "혁수\n",
            "민지\n",
            "미주\n"
          ]
        }
      ]
    },
    {
      "cell_type": "code",
      "source": [
        "n = int(input())\n",
        "words = [input().strip() for _ in range(n)]  # 그냥 문자열로 입력받기\n",
        "\n",
        "words = list(set(words))  # 중복 제거\n",
        "words.sort()              # 먼저 사전순 정렬\n",
        "words.sort(key=len)       # 그 다음 길이순 정렬\n",
        "\n",
        "for w in words:\n",
        "    print(w)"
      ],
      "metadata": {
        "colab": {
          "base_uri": "https://localhost:8080/"
        },
        "id": "F5aFSjQ-Hkp3",
        "outputId": "04492a28-61d6-464f-bc54-60bbfdbf31bc"
      },
      "execution_count": null,
      "outputs": [
        {
          "output_type": "stream",
          "name": "stdout",
          "text": [
            "5\n",
            "but\n",
            "i\n",
            "wont\n",
            "hesitate\n",
            "no\n",
            "i\n",
            "no\n",
            "but\n",
            "wont\n",
            "hesitate\n"
          ]
        }
      ]
    },
    {
      "cell_type": "code",
      "source": [],
      "metadata": {
        "id": "vhgKirfnIAWi"
      },
      "execution_count": null,
      "outputs": []
    }
  ]
}
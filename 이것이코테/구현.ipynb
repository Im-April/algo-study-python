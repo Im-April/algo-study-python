{
  "nbformat": 4,
  "nbformat_minor": 0,
  "metadata": {
    "colab": {
      "provenance": []
    },
    "kernelspec": {
      "name": "python3",
      "display_name": "Python 3"
    },
    "language_info": {
      "name": "python"
    }
  },
  "cells": [
    {
      "cell_type": "markdown",
      "source": [
        "# 구현\n",
        ": 시뮬레이션과 완전 탐색\n",
        "\n",
        "- 머릿속에 있는 **알고리즘을 소스코드로 바꾸는 과정**입니다.\n",
        "\n",
        "**problem** 😥 - **thinking** 💡 - **solution** ✅  \n",
        "\n",
        "## 구현 유형의 문제란 ?\n",
        "- 풀이를 떠올리는 것은 쉽지만 소스코드로 옮기기 어려운 문제를 지칭\n",
        "\n",
        "#### 예시\n",
        "- 알고리즘은 간단한데 코드가 지나칠 만큼 길어지는 문제\n",
        "- 실수 연산을 다루고, 특정 소수점 자리까지 출력해야하는 문제\n",
        "- 적절한 라이브러리를 찾아서 사용해야 하는 문제\n",
        "- 알고리즘 문제에서의 2차원 공간은 **행렬(Matrix)** 의 의미로 사용"
      ],
      "metadata": {
        "id": "V6q4kmD4F35B"
      }
    },
    {
      "cell_type": "code",
      "execution_count": 2,
      "metadata": {
        "colab": {
          "base_uri": "https://localhost:8080/"
        },
        "id": "88WD3hk7F2ow",
        "outputId": "0a90883e-ad98-4f5d-858c-05a4fe317cd8"
      },
      "outputs": [
        {
          "output_type": "stream",
          "name": "stdout",
          "text": [
            "(0 , 0) (0 , 1) (0 , 2) (0 , 3) (0 , 4) \n",
            "(1 , 0) (1 , 1) (1 , 2) (1 , 3) (1 , 4) \n",
            "(2 , 0) (2 , 1) (2 , 2) (2 , 3) (2 , 4) \n",
            "(3 , 0) (3 , 1) (3 , 2) (3 , 3) (3 , 4) \n",
            "(4 , 0) (4 , 1) (4 , 2) (4 , 3) (4 , 4) \n"
          ]
        }
      ],
      "source": [
        "for i in range(5) :\n",
        "  for j in range(5) :\n",
        "    print(f'({i} , {j})', end = ' ')\n",
        "  print()"
      ]
    },
    {
      "cell_type": "code",
      "source": [
        "# 시뮬레이션 및 완전 탐색 문제에서는 2차원 공간에서의 **방향 벡터** 가 자주 활용\n",
        "\n",
        "# 동, 북, 서, 남\n",
        "dx = [0, -1, 0, 1]\n",
        "dy = [1, 0, -1, 0]\n",
        "\n",
        "# 현재 위치\n",
        "x,y = 2,2\n",
        "\n",
        "for i in range(4) :\n",
        "  # 다음 위치\n",
        "  nx = x + dx[i]\n",
        "  ny = y + dy[i]\n",
        "  print(nx, ny)"
      ],
      "metadata": {
        "colab": {
          "base_uri": "https://localhost:8080/"
        },
        "id": "S0z1_NIvH1Pn",
        "outputId": "aa221a7d-63b1-4a70-d579-906fde0a73c7"
      },
      "execution_count": 3,
      "outputs": [
        {
          "output_type": "stream",
          "name": "stdout",
          "text": [
            "2 3\n",
            "1 2\n",
            "2 1\n",
            "3 2\n"
          ]
        }
      ]
    },
    {
      "cell_type": "markdown",
      "source": [
        "# 문제 📖\n",
        "- 여행가 A는 N x N 크기의정사각형 공간 위에 서 있습니다 1 x 1 크기의 정사각형으로 나누어져 있습니다. 가장 위쪽 위 자표는 (1,1)이며, 가장 오른쪽 아래 좌표는 (N,N)에 해당합니다. 여행가 A는 상,하,좌,우 방향으로 이동할 수 있으며, 시작 좌표는 항상 (1,1)입니다. 우리 앞에는 여행가 A가 이동할 계획이 적힌 계획서가 놓여 있습니다.\n",
        "- 계획서는 하나의 줄에 띄어쓰기 기준으로 하여 L,R,U,D 중 하나의 문자가 반복적으로 적혀 있습니다 각 문자의 의미는 다음과 같습니다.\n",
        "  - L : 왼쪽으로 한 칸 이동\n",
        "  - R : 오른쪽으로 한 칸 이동\n",
        "  - U : 위쪽으로 한 칸 이동\n",
        "  - D : 아래로 한 칸 이동"
      ],
      "metadata": {
        "id": "KBze1EZXdbhN"
      }
    },
    {
      "cell_type": "code",
      "source": [
        "# n 입력 받기\n",
        "n = int(input())\n",
        "x, y = 1, 1\n",
        "plans = input().split()\n",
        "\n",
        "# L,R,U,D 입력에 따른 이동 방향\n",
        "dx = [0,0,-1,1]\n",
        "dy = [-1,1,0,0]\n",
        "move_types = ['L','R','U','D']\n",
        "\n",
        "for plan in plans:\n",
        "  # 이동 후 좌표 구하기\n",
        "  for i in range(len(move_types)):\n",
        "    if plan == move_types[i] :\n",
        "      nx = x + dx[i]\n",
        "      ny = y + dy[i]\n",
        "  # 공간을 벗어나는 경우 무시\n",
        "  if nx < 1 or ny < 1 or nx > n or ny > n :\n",
        "    continue\n",
        "  # 이동 수행\n",
        "  x, y = nx, ny\n",
        "\n",
        "\n",
        "print(x, y)"
      ],
      "metadata": {
        "colab": {
          "base_uri": "https://localhost:8080/"
        },
        "id": "bzJhOfBWeLwC",
        "outputId": "4a4e3a8f-8d04-42a3-9683-0de24edfab5d"
      },
      "execution_count": 6,
      "outputs": [
        {
          "output_type": "stream",
          "name": "stdout",
          "text": [
            "5\n",
            "R R R U D D\n",
            "3 4\n"
          ]
        }
      ]
    },
    {
      "cell_type": "markdown",
      "source": [
        "# 문제 📖\n",
        "- 정수 N이 입력되면 00시 00분 00초부터 N시 59분 59초까지의 모든 시각 중에서 3이 하나라도 포함되는 모든 경우의 수를 구하는 프로그램을 작성하세요. 예를 들어 1을 입력했을 때 다음은 3이 하나라도 포함되어 있으므로 세어야 하는 시각 입니다.\n",
        "  - 00시 00분 03초\n",
        "  - 00시 13분 30초\n",
        "\n",
        "- 반면에 다음은 3이 하나도 포함되어 있지 않으므로 세면 안되는 시각 입니다.\n",
        "  - 00시 02분 55초\n",
        "  - 01시 27분 45초"
      ],
      "metadata": {
        "id": "pH3x-UEZx7on"
      }
    },
    {
      "cell_type": "code",
      "source": [
        "# 하루는 86400초이므로 00시 00분 00초부터 23시 59분 59초까지의 모든 경우\n",
        "# 24 * 60 * 60 = 86,400 (초)\n",
        "# 완전탐색문제\n",
        "\n",
        "h = int(input('0 ~ 23 사이 >>>'))\n",
        "\n",
        "count = 0\n",
        "\n",
        "for i in range(h+1) :\n",
        "  for j in range(60) :\n",
        "    for k in range(60) :\n",
        "      # 매 시각 안에 '3'이 포함되어 있다면 카운트\n",
        "      if '3' in str(i) + str(j) + str(k):\n",
        "        count += 1\n",
        "\n",
        "print(count)"
      ],
      "metadata": {
        "colab": {
          "base_uri": "https://localhost:8080/"
        },
        "id": "xQqXoAZLyapK",
        "outputId": "3ec94654-6463-4837-c4fe-611f652c85e8"
      },
      "execution_count": 7,
      "outputs": [
        {
          "output_type": "stream",
          "name": "stdout",
          "text": [
            "0 ~ 23 사이 >>>3\n",
            "8325\n"
          ]
        }
      ]
    },
    {
      "cell_type": "markdown",
      "source": [
        "# 문제 📖\n",
        "\n",
        "- 행복 왕국의 왕실 정원은 체스판 같은 8 x 8 좌표 평면입니다. 왕실 정원이 특정한 한 칸에 나이트가 서 있습니다. 나이트는 매우 충성스러운 신하로서 매일 무슬을 연마합니다.\n",
        "- 나이트는 말을 타고 있기 때문에 이동할 때는 L자 형태로만 이동할 수 있으며 정원 밖으로는 나갈 수 없습니다.\n",
        "- 나이트는 특정 위치에서 다음과 같은 2가지 경우로 이동할 수 있습니다.\n",
        "  1. 수평으로 두 칸 이동한 뒤 수직으로 한 칸 이동하기\n",
        "  2. 수직으로 두 칸 이동한 뒤에 수평으로 한 칸 이동하기"
      ],
      "metadata": {
        "id": "sx2ZI8Uc1GaM"
      }
    },
    {
      "cell_type": "code",
      "source": [
        "# 행의 위치는 1부터 8\n",
        "# 열의 위치는 a부터 h\n",
        "\n",
        "# 현재 나이트의 위치 입력받기\n",
        "input_data = input()\n",
        "row = int(input_data[1])\n",
        "colunm = int(ord(input_data[0])) - int(ord('a')) + 1\n",
        "\n",
        "# 나이트가 이동할 수 있는 8가지 방향 정의\n",
        "steps = [(-2,-1), (-1,-2), (1,-2), (2,-1), (2,1), (1,2), (-1,2), (-2,1)]\n",
        "\n",
        "# 8가지 방향에 대하여 각 위치로 이동이 가능한 지 확인\n",
        "result = 0\n",
        "for step in steps :\n",
        "  # 이동하고자 하는 위치 확인\n",
        "  next_row = row + step[0]\n",
        "  next_colunm = colunm + step[1]\n",
        "  # 해당 위치로 이동이 가능하다면 카툰트 증가\n",
        "  if next_row >= 1 and next_row <= 8 and next_colunm >= 1 and next_colunm <= 8:\n",
        "    result += 1\n",
        "\n",
        "print(result)"
      ],
      "metadata": {
        "colab": {
          "base_uri": "https://localhost:8080/"
        },
        "id": "EF2aJ-YC1pqR",
        "outputId": "eadcd228-5925-4698-fd6b-7be76ff6be50"
      },
      "execution_count": 13,
      "outputs": [
        {
          "output_type": "stream",
          "name": "stdout",
          "text": [
            "c2\n",
            "6\n"
          ]
        }
      ]
    }
  ]
}
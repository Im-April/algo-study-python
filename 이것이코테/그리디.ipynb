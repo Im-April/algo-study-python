{
  "cells": [
    {
      "cell_type": "markdown",
      "metadata": {
        "id": "e_XowsXOG-Ps"
      },
      "source": [
        "## 💻 그리디(Greedy) 알고리즘\n",
        "- 탐욕법\n",
        "- 현재 상황에서 지금 당장 좋은 것만 고르는 방법\n"
      ]
    },
    {
      "cell_type": "code",
      "execution_count": 1,
      "metadata": {
        "colab": {
          "base_uri": "https://localhost:8080/"
        },
        "id": "iy9VGHZh9aUu",
        "outputId": "be521175-c5d5-4693-80a1-e0c67a59049b"
      },
      "outputs": [
        {
          "name": "stdout",
          "output_type": "stream",
          "text": [
            "6\n"
          ]
        }
      ],
      "source": [
        "# 거스름돈 문제\n",
        "\n",
        "n = 1260\n",
        "count = 0\n",
        "\n",
        "# 큰 단위의 화폐부터 차례대로 확인\n",
        "list = [500,100,50,10]\n",
        "\n",
        "for coin in list:\n",
        "  count += n // coin # 해당 화폐로 거슬러 줄 수 있는 동전의 개수 세기\n",
        "  n %= coin\n",
        "\n",
        "\n",
        "print(count)"
      ]
    },
    {
      "cell_type": "markdown",
      "metadata": {
        "id": "PRTwGR7NCXL_"
      },
      "source": [
        "- 화폐의 종류가 K라고 할 때, 시간 복잡도는 **O(K)**\n",
        "- 이 알고리즘의 시간 복잡도는 거슬러줘야 하는 금액과 무관, 동전의 총 종류에만 영향을 받는다"
      ]
    },
    {
      "cell_type": "markdown",
      "metadata": {
        "id": "8pNsAEQKDKAi"
      },
      "source": [
        "# 문제 📖\n",
        "- 어떠한 수 N이 1이 될 때까지 다음의 두 과정 중 하나를 반복적으로 선택하여 수행하려 합니다. 단, 두 번째 연산은 N이 K로 나누어 떨어질 때만 선택할 수 있습니다.\n",
        "  - 1. N에서 1을 뺍니다.\n",
        "  - 2. N을 K로 나눕니다.\n",
        "\n",
        "- 예를들어 N이 17, K가 4라고 가정하면 이때 1번의 과정을 한 번 수행하면 N은 16이 됩니다. 이후에 2번의 과정을 두 번 수행하면 N은 1이 됩니다. 결과적으로 전체 과정을 수행한 횟수는 3이 됩니다. 이는 N을 1로 만드는 최소 횟수 입니다.\n",
        "- N과 K가 주어질 때 N이 될 때까지 1번 혹은 2번의 과**정을 수행해야 하는 최소 횟수**를 구하는 프로그램을 작성하시오.\n"
      ]
    },
    {
      "cell_type": "code",
      "execution_count": 2,
      "metadata": {
        "colab": {
          "base_uri": "https://localhost:8080/"
        },
        "id": "Ly_0nZMBD66f",
        "outputId": "edbdbfe1-afbc-43db-de21-ec5746b9386e"
      },
      "outputs": [
        {
          "name": "stdout",
          "output_type": "stream",
          "text": [
            "숫자를 입력하세요 >>> 17\n",
            "숫자를 입력하세요 >>> 4\n",
            "3\n"
          ]
        }
      ],
      "source": [
        "n = int(input('숫자를 입력하세요 >>> '))\n",
        "k = int(input('숫자를 입력하세요 >>> '))\n",
        "count = 0\n",
        "\n",
        "while True :\n",
        "  if n == 1:\n",
        "    break\n",
        "  if n % k == 0:\n",
        "    n = n // k\n",
        "    count += 1\n",
        "  else :\n",
        "    n -= 1\n",
        "    count += 1\n",
        "\n",
        "print(count)"
      ]
    },
    {
      "cell_type": "code",
      "execution_count": 4,
      "metadata": {
        "colab": {
          "base_uri": "https://localhost:8080/"
        },
        "id": "3tUhJbsnavwC",
        "outputId": "9b4b5b46-e8e2-4860-9612-a5b99e866dba"
      },
      "outputs": [
        {
          "name": "stdout",
          "output_type": "stream",
          "text": [
            "17 4\n",
            "3\n"
          ]
        }
      ],
      "source": [
        "n,k = map(int,input().split())\n",
        "result = 0\n",
        "\n",
        "while True :\n",
        "  # n이 k로 나누어 떨어지는 수가 될 때까지 빼기\n",
        "  target = (n//k)*k\n",
        "  result += (n-target)\n",
        "  n = target\n",
        "\n",
        "  # n이 k보다 작을 때 (더 이상 나눌 수 없을 때) 반복문 탈출\n",
        "  if n < k :\n",
        "    break\n",
        "  # k로 나누기\n",
        "  result += 1\n",
        "  n //= k\n",
        "\n",
        "# 마지막으로 남은 수에 대하여 1씩 빼기\n",
        "result += (n-1)\n",
        "print(result)"
      ]
    },
    {
      "cell_type": "markdown",
      "metadata": {
        "id": "qCX4YRP0BV6l"
      },
      "source": [
        "# 문제 📖\n",
        "\n",
        "- 각 자리가 숫자(0부터 9)로만 이루어진 문자열 S가 주어졌을 때, 왼쪽부터 오른쪽으로 하나씩 모든숫자를 확인하며 숫자 사이에 'x' 혹은 '+' 연산자를 넣어 결과적으로 ***만들어질 수 있는 가장 큰 수를 구하는 프로그램***을 작성하세요.\n",
        "- 단, + 보다 x를 번저 계산하는 일반적인 방식과는 달리, **모든 연산은 왼쪽부터 순서대로 이루어진다**고 가정하니다.\n",
        "- 예를 들어 *02984* 라는 문자열로 만들 수 있는 가장 큰 수는 `((((0 + 2) x 9) x 8) x 4) = 576` 입니다. 또한 만들어질 수 있는 가장 큰 수는 항상 20억 이하의 정수가 입력이 주어집니다."
      ]
    },
    {
      "cell_type": "code",
      "execution_count": 2,
      "metadata": {
        "colab": {
          "base_uri": "https://localhost:8080/"
        },
        "id": "0Xl4O7QQCh6U",
        "outputId": "2be712e6-bffd-406f-e480-2f2fae0bc494"
      },
      "outputs": [
        {
          "name": "stdout",
          "output_type": "stream",
          "text": [
            "02984\n",
            "576\n"
          ]
        }
      ],
      "source": [
        "# 대부분의 경우 '+'보다 'x'가 더 값을 크게 만든다\n",
        "# 다만 두 수중에서 하나라도 '0' 혹은 '1'인 경우, 곱하기보다는 더하기를 수행하는 것이 효율족\n",
        "# 두 수에 대하여 연산을 수행할 때, 두 수 중에서 하나라도 1이하인 경우에는 더하며,\n",
        "# 두 수가 모두 2이상인 경우에는 곱하는 것이 정답\n",
        "\n",
        "\n",
        "data = input()\n",
        "\n",
        "# 첫 번째 문자를 숫자로 변경하여 대입\n",
        "result = int(data[0])\n",
        "\n",
        "for i in range(1, len(data)):\n",
        "  # 두 수 중에서 하나라도 1 이하인 경우 곱하기 보다는 더하기 수행\n",
        "  num = int(data[i])\n",
        "  if num <= 1 or result <= 1:\n",
        "    result += num\n",
        "  else :\n",
        "    result *= num\n",
        "\n",
        "print(result)"
      ]
    },
    {
      "cell_type": "markdown",
      "metadata": {
        "id": "Ehxxx7N7Fyrw"
      },
      "source": [
        "# 문제 📖\n",
        "- 한 마을에 모험가가 N명 있습니다. 모험가 길드에서는 N명의 모험가를 대상으로 '공포도'를 측정했는데, '공포도'가 높은 모험가는 쉽게 공포를 느껴 위험 상황에서 제대로 대처할 능력이 떨어집니다.\n",
        "- 모험가 길드장인 동빈이는 모험가 그룹을 안전하게 구성하고 ***공포도가 X인 모험가는 반드시 X명 이상으로 구성한 모험가와 그룹에 참여***해야 여행을 떠날 수 있도록 규정했습니다.\n",
        "- 동빈이는 최대 몇 개의 모험가 그룹을 만들 수 있을지 궁금합니다. N명의 모험가에 대한 정보가 주어졌을 때, 여행을 떠날 수 있는 그룹의 최댓값을 구하는 프로그램을 작성하세요."
      ]
    },
    {
      "cell_type": "code",
      "execution_count": null,
      "metadata": {
        "colab": {
          "base_uri": "https://localhost:8080/"
        },
        "id": "9iuYKVYgGYef",
        "outputId": "7851c1af-3e6c-4abb-d5e8-5420ca821243"
      },
      "outputs": [
        {
          "name": "stdout",
          "output_type": "stream",
          "text": [
            "모험가 수 : 5\n",
            "2 1 2 2 3\n",
            "2\n"
          ]
        }
      ],
      "source": [
        "# 몇 명의 모험가는 마을에 그대로 남아 있어도 된다. 모든 모험가를 특정한 그룹에 넣을 필요는 없다\n",
        "\n",
        "n = int(input('모험가 수 : '))\n",
        "# 각 공포도\n",
        "data = list(map(int, input().split()))\n",
        "\n",
        "# 총 그룹의 수\n",
        "result = 0\n",
        "\n",
        "# 현재 그룹에 포함된 모험가의 수\n",
        "count = 0\n",
        "\n",
        "# 오름차순 정렬\n",
        "# 공포도가 가장 낮은 모험가부터 하나씩 확인\n",
        "data.sort()\n",
        "\n",
        "# 앞에서부터 공포도를 하나씩 확인하며\n",
        "# '현재 그룹에 포함된 모험가의 수'가 현재 확인하고 있는 공포도 보다 크거나 같다면 이를 그룹으로 설정\n",
        "\n",
        "for i in data : # 공포도를 낮은 것부터 하나씩 확인하며\n",
        "  count += 1 # 현재 그룹에 해당 모험가를 포함시키기\n",
        "  if count >= i : # 현재 그룹에 포함된 모함가 수의 현재 공포도 이상이라면, 그룹 결성\n",
        "    result += 1 # 총 그룹의 수 증가하기\n",
        "    count = 0 # 현재 그룹에 포함된 모험가의 수 초기화\n",
        "\n",
        "print(result)"
      ]
    },
    {
      "cell_type": "code",
      "execution_count": null,
      "metadata": {
        "id": "O3RsQsvTCICK"
      },
      "outputs": [],
      "source": [
        "# 큰 수의 법칙\n",
        "\n",
        "# n = 배열의 크기\n",
        "# m = 숫자가 더해지는 횟수\n",
        "# k = k번 초과하면 더해질 수 없음\n",
        "\n",
        "n,m,k = map(int, input().split())"
      ]
    }
  ],
  "metadata": {
    "colab": {
      "provenance": []
    },
    "kernelspec": {
      "display_name": "Python 3",
      "name": "python3"
    },
    "language_info": {
      "name": "python"
    }
  },
  "nbformat": 4,
  "nbformat_minor": 0
}

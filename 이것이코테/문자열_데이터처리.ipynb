{
  "nbformat": 4,
  "nbformat_minor": 0,
  "metadata": {
    "colab": {
      "provenance": []
    },
    "kernelspec": {
      "name": "python3",
      "display_name": "Python 3"
    },
    "language_info": {
      "name": "python"
    }
  },
  "cells": [
    {
      "cell_type": "markdown",
      "source": [
        "## 1. 문자열 기본 연산\n",
        "1. 문자열 슬라이싱\n",
        "2. 대소문자 변환\n",
        "3. 공백 제거\n"
      ],
      "metadata": {
        "id": "FRDX71NOSvEI"
      }
    },
    {
      "cell_type": "code",
      "execution_count": 1,
      "metadata": {
        "colab": {
          "base_uri": "https://localhost:8080/"
        },
        "id": "HvAHcVhPSnYo",
        "outputId": "544a0c2a-aab2-48cb-88e6-d698bed55f13"
      },
      "outputs": [
        {
          "output_type": "stream",
          "name": "stdout",
          "text": [
            "Hello\n",
            "World\n",
            "World\n",
            "dlroW olleH\n",
            "HloWrd\n"
          ]
        }
      ],
      "source": [
        "# 문자열 슬라이싱\n",
        "s = 'Hello World'\n",
        "\n",
        "print(s[:5]) # Hello\n",
        "print(s[6:]) # World\n",
        "print(s[-5:]) # World\n",
        "print(s[::-1]) # dlroW olleH (역순)\n",
        "print(s[::2]) # HloWrd"
      ]
    },
    {
      "cell_type": "code",
      "source": [
        "# 대소문자 변환\n",
        "\n",
        "s = 'Hello World'\n",
        "\n",
        "# 문자열 s의 모든 문자를 대문자로 변환\n",
        "print(s.upper())\n",
        "\n",
        "# 문자열 s의 모든 문자를 소문자로 변환\n",
        "print(s.lower())\n",
        "\n",
        "# 문자열 s의 대문자는 소문자로, 소문자는 대문자로 바꿔서 출력\n",
        "print(s.swapcase())\n",
        "\n",
        "# 문자열 s의 첫 글자만 대문자로, 나머지는 소문자로 변환\n",
        "print(s.capitalize())\n",
        "\n",
        "# 문자열 s의 각 단어의 첫 글자를 대문자로, 나머지는 소문자로 변환\n",
        "print(s.title())\n"
      ],
      "metadata": {
        "colab": {
          "base_uri": "https://localhost:8080/"
        },
        "id": "i7j4jnofWkeO",
        "outputId": "f81c4bb1-bd55-424c-dbec-0110ebad1a7c"
      },
      "execution_count": 3,
      "outputs": [
        {
          "output_type": "stream",
          "name": "stdout",
          "text": [
            "HELLO WORLD\n",
            "hello world\n",
            "hELLO wORLD\n",
            "Hello world\n",
            "Hello World\n"
          ]
        }
      ]
    },
    {
      "cell_type": "code",
      "source": [
        "# 공백 제거\n",
        "\n",
        "s = '   hello   '\n",
        "\n",
        "# 문자열 양쪽 끝의 공백(스페이스, 탭, 줄바꿈 등)을 제거\n",
        "print(s.strip())\n",
        "\n",
        "# 문자열 왼쪽(앞쪽)의 공백만 제거\n",
        "print(s.lstrip())\n",
        "\n",
        "# 문자열 오른쪽(뒤쪽)의 공백만 제거\n",
        "print(s.rstrip())\n",
        "\n",
        "# 문자열 안의 모든 공백(\" \")을 빈 문자열(\"\")로 바꿔서 제거\n",
        "print(s.replace(\" \", \"\"))"
      ],
      "metadata": {
        "colab": {
          "base_uri": "https://localhost:8080/"
        },
        "id": "DAImhb96XJSD",
        "outputId": "7886d092-6059-4c53-9180-729db7e7a1b9"
      },
      "execution_count": 5,
      "outputs": [
        {
          "output_type": "stream",
          "name": "stdout",
          "text": [
            "hello\n",
            "hello   \n",
            "   hello\n",
            "hello\n"
          ]
        }
      ]
    },
    {
      "cell_type": "markdown",
      "source": [
        "## 2. 문자열 검색 & 카운팅\n",
        "1. 문자 찾기\n",
        "2. 문자별 카운팅"
      ],
      "metadata": {
        "id": "wNQluQ74XltX"
      }
    },
    {
      "cell_type": "code",
      "source": [
        "# 문자 찾기\n",
        "\n",
        "s = 'banana'\n",
        "\n",
        "# 'na'가 처음 나타나는 위치(인덱스)를 반환 — 없으면 -1을 반환\n",
        "print(s.find('na'))       # 결과: 2\n",
        "\n",
        "# 'na'가 처음 나타나는 위치(인덱스)를 반환 — 없으면 오류(ValueError) 발생\n",
        "print(s.index('na'))      # 결과: 2\n",
        "\n",
        "# 문자열 안에 'na'가 몇 번 등장하는지 개수를 셈\n",
        "print(s.count('na'))      # 결과: 2\n",
        "\n",
        "# 'na'라는 부분 문자열이 s 안에 포함되어 있는지 확인 (True/False 반환)\n",
        "print('na' in s)          # 결과: True\n",
        "\n",
        "# 문자열이 'ba'로 시작하는지 확인 (True/False 반환)\n",
        "print(s.startswith('ba')) # 결과: True\n",
        "\n",
        "# 문자열이 'na'로 끝나는지 확인 (True/False 반환)\n",
        "print(s.endswith('na'))   # 결과: True"
      ],
      "metadata": {
        "colab": {
          "base_uri": "https://localhost:8080/"
        },
        "id": "-ldlFUR9XyOa",
        "outputId": "0be7b0f2-75c6-4963-f51a-9530bf9d6335"
      },
      "execution_count": 6,
      "outputs": [
        {
          "output_type": "stream",
          "name": "stdout",
          "text": [
            "2\n",
            "2\n",
            "2\n",
            "True\n",
            "True\n",
            "True\n"
          ]
        }
      ]
    },
    {
      "cell_type": "code",
      "source": [
        "# 문자별 등장 횟수를 세기 위한 Counter 클래스 불러오기\n",
        "from collections import Counter\n",
        "\n",
        "s = 'banana'\n",
        "\n",
        "# Counter 객체를 사용해 각 문자의 등장 횟수를 자동으로 세어줌\n",
        "counter = Counter(s)\n",
        "\n",
        "# 등장 횟수가 많은 순으로 2개만 출력 (문자, 개수) 형태의 리스트 반환\n",
        "print(counter.most_common(2))   # 결과: [('a', 3), ('n', 2)]\n",
        "\n",
        "# ----------------------------------------------------\n",
        "# Counter를 직접 구현한 버전\n",
        "\n",
        "freq = {}  # 문자별 빈도수를 저장할 빈 딕셔너리 생성\n",
        "\n",
        "# 문자열의 각 문자(char)에 대해 반복\n",
        "for char in s:\n",
        "    # 해당 문자가 이미 있으면 +1, 없으면 기본값 0에서 +1\n",
        "    freq[char] = freq.get(char, 0) + 1\n",
        "\n",
        "print(freq)  # 결과: {'b': 1, 'a': 3, 'n': 2}\n"
      ],
      "metadata": {
        "colab": {
          "base_uri": "https://localhost:8080/"
        },
        "id": "zbzQb3ReYX0b",
        "outputId": "e49bdecd-3860-4e7e-b4e1-50af239ca646"
      },
      "execution_count": 11,
      "outputs": [
        {
          "output_type": "stream",
          "name": "stdout",
          "text": [
            "[('a', 3), ('n', 2)]\n",
            "{'b': 1, 'a': 3, 'n': 2}\n"
          ]
        }
      ]
    },
    {
      "cell_type": "markdown",
      "source": [
        "## 3. 문자열 분할 & 결합\n",
        "1. split & join\n",
        "2. 리스트를 문자열"
      ],
      "metadata": {
        "id": "6sTRLh63asXs"
      }
    },
    {
      "cell_type": "code",
      "source": [
        "# split & join\n",
        "\n",
        "s = \"apple,banana,cherry\"\n",
        "arr = s.split(',')\n",
        "print(arr)\n",
        "print(\",\".join(arr))\n",
        "\n",
        "# 공백 기준으로 분할\n",
        "s = \"hello world python\"\n",
        "print(s.split())\n",
        "\n",
        "# 최대 분할 횟수 지정\n",
        "print('a-b-c-d'.split('-', 2))"
      ],
      "metadata": {
        "colab": {
          "base_uri": "https://localhost:8080/"
        },
        "id": "X_ALTSv_aKKV",
        "outputId": "3c710188-4317-48a4-9b42-c81851328a5c"
      },
      "execution_count": 16,
      "outputs": [
        {
          "output_type": "stream",
          "name": "stdout",
          "text": [
            "['apple', 'banana', 'cherry']\n",
            "apple,banana,cherry\n",
            "['hello', 'world', 'python']\n",
            "['a', 'b', 'c-d']\n"
          ]
        }
      ]
    },
    {
      "cell_type": "code",
      "source": [
        "# 리스트를 문자열로\n",
        "arr = ['H', 'e', 'l', 'l', 'o']\n",
        "print(\"\".join(arr)) # (빈 문자열)은 붙일 때 구분자(separator) 역할\n",
        "\n",
        "nums = [1,2,3]\n",
        "result = \"\".join(map(str, nums))\n",
        "print(result)"
      ],
      "metadata": {
        "colab": {
          "base_uri": "https://localhost:8080/"
        },
        "id": "x_2niHZlbuvX",
        "outputId": "0149f9ee-b34a-4093-e0aa-96485ba3069a"
      },
      "execution_count": 23,
      "outputs": [
        {
          "output_type": "stream",
          "name": "stdout",
          "text": [
            "Hello\n",
            "123\n"
          ]
        }
      ]
    },
    {
      "cell_type": "markdown",
      "source": [
        "## 4. 문자열 변환\n",
        "1. 문자 <--> 아스키코드\n",
        "2. 정렬\n"
      ],
      "metadata": {
        "id": "dqhtxyWGc6U1"
      }
    },
    {
      "cell_type": "code",
      "source": [
        "# 문자 <--> 아스키코드\n",
        "\n",
        "print(ord('A'))    # 65\n",
        "print(ord('a'))    # 97\n",
        "print(chr(65))     # 'A'\n",
        "print(ord('C'))  # 67\n",
        "\n",
        "# 알파벳 순서 (0-based)\n",
        "# 문자를 알파벳 순서(0부터 시작)로 바꾸는 방법\n",
        "print(ord('A') - ord('A'))\n",
        "print(ord('C') - ord('A')) # 67 - 65 = 2"
      ],
      "metadata": {
        "colab": {
          "base_uri": "https://localhost:8080/"
        },
        "id": "UfZ2acdic-0l",
        "outputId": "939faa49-01cf-48b2-ee3f-f37ede7fb3a1"
      },
      "execution_count": 30,
      "outputs": [
        {
          "output_type": "stream",
          "name": "stdout",
          "text": [
            "65\n",
            "97\n",
            "A\n",
            "67\n",
            "0\n",
            "2\n"
          ]
        }
      ]
    },
    {
      "cell_type": "code",
      "source": [
        "# 정렬\n",
        "s = \"dcba\"\n",
        "print(sorted(s))\n",
        "print(\"\".join(sorted(s)))\n",
        "\n",
        "# 내림차순\n",
        "print(\"\".join(sorted(s, reverse=True)))\n",
        "\n",
        "# 커스텀 정렬\n",
        "print(sorted(s, key=lambda x : (x.lower(), x)))  # 대소문자 구분 없이"
      ],
      "metadata": {
        "colab": {
          "base_uri": "https://localhost:8080/"
        },
        "id": "j_iv5wYBc5c5",
        "outputId": "dbba6ec5-5a0d-460a-e0bc-8094210e005a"
      },
      "execution_count": 34,
      "outputs": [
        {
          "output_type": "stream",
          "name": "stdout",
          "text": [
            "['a', 'b', 'c', 'd']\n",
            "abcd\n",
            "dcba\n",
            "['a', 'b', 'c', 'd']\n"
          ]
        }
      ]
    },
    {
      "cell_type": "markdown",
      "source": [
        "### 문법 공부\n",
        "`lambda x: (x.lower(), x)` 의미\n",
        "- lambda는 익명 **함수를 만드는 문법**\n",
        "```python\n",
        "lambda x: <표현식>\n",
        "```\n",
        "- 위의 코드에서는\n",
        "```python\n",
        "lambda x: (x.lower(), x)\n",
        "```\n",
        "- 각 문자를 **튜플** (x.lower(), x)로 바꿔서 정렬 기준으로 사용\n",
        "\n",
        "### lambda 예시\n",
        "```python\n",
        "# 일반 함수\n",
        "def add(x, y):\n",
        "    return x + y\n",
        "\n",
        "print(add(2, 3))  # 5\n",
        "```\n",
        "---\n",
        "```python\n",
        "# lambda 버전\n",
        "add = lambda x, y: x + y\n",
        "print(add(2, 3))  # 5\n",
        "```\n",
        "- `lambda x, y: x + y`\n",
        "  - “입력값 x와 y를 받아서 x + y를 반환하는 함수”\n",
        "\n",
        "```python\n",
        "print((lambda x, y: x + y)(2, 3))  # 5\n",
        "```\n",
        "- 함수 이름 없이 바로 호출 가능\n",
        "---"
      ],
      "metadata": {
        "id": "oOyqYySQeuN5"
      }
    },
    {
      "cell_type": "markdown",
      "source": [
        "## 5. 문자열 체크\n",
        "1. 타입 확인"
      ],
      "metadata": {
        "id": "VXpLblQvjxoK"
      }
    },
    {
      "cell_type": "code",
      "source": [
        "s = \"Hello123\"\n",
        "\n",
        "print(s.isalpha())   # False (알파벳만)\n",
        "print(s.isdigit())  # False (숫자만)\n",
        "print(s.isalnum())  # True (알파벳+숫자)\n",
        "print(s.isspace())   # False (공백만)\n",
        "print(s.islower())   # False (소문자만)\n",
        "print(s.isupper())   # False (대문자만)\n",
        "print()\n",
        "\n",
        "print(\"123\".isdigit())\n",
        "print(\"abc\".isalpha())"
      ],
      "metadata": {
        "colab": {
          "base_uri": "https://localhost:8080/"
        },
        "id": "0o-clAcVj1va",
        "outputId": "59c7f5c9-2edc-4d9e-8c5a-ca65c4e44d24"
      },
      "execution_count": 37,
      "outputs": [
        {
          "output_type": "stream",
          "name": "stdout",
          "text": [
            "False\n",
            "False\n",
            "True\n",
            "False\n",
            "False\n",
            "False\n",
            "\n",
            "True\n",
            "True\n"
          ]
        }
      ]
    },
    {
      "cell_type": "markdown",
      "source": [
        "## 6. 자주 나오는 패턴\n",
        "1. 애너그램 체크\n",
        "2. 팰린드롬 체크\n",
        "3. 중복 문자 제거\n",
        "4. 가장 긴 반복 문자"
      ],
      "metadata": {
        "id": "Ix4id3PAkm3-"
      }
    },
    {
      "cell_type": "code",
      "source": [
        "# 애너그램 체크\n",
        "\n",
        "def is_anagram(s1, s2):\n",
        "    return sorted(s1) == sorted(s2) #글자 정렬 후 비교\n",
        "    # 또는\n",
        "    #return Counter(s1) == Counter(s2)\n",
        "\n",
        "is_anagram(\"abc\",'bac')"
      ],
      "metadata": {
        "colab": {
          "base_uri": "https://localhost:8080/"
        },
        "id": "JVlR445Qkvrq",
        "outputId": "7cb53ccd-370a-4451-d069-4a790ee93bef"
      },
      "execution_count": 42,
      "outputs": [
        {
          "output_type": "execute_result",
          "data": {
            "text/plain": [
              "True"
            ]
          },
          "metadata": {},
          "execution_count": 42
        }
      ]
    },
    {
      "cell_type": "code",
      "source": [
        "def is_anagram(s1, s2):\n",
        "    # 또는\n",
        "    return Counter(s1) == Counter(s2) # 글자 등장 횟수 비교\n",
        "is_anagram(\"abc\",'daf')"
      ],
      "metadata": {
        "colab": {
          "base_uri": "https://localhost:8080/"
        },
        "id": "RCeTVWhkkRQx",
        "outputId": "8dd389b2-78a7-4c9e-bb4b-5ab2aa892a4e"
      },
      "execution_count": 40,
      "outputs": [
        {
          "output_type": "execute_result",
          "data": {
            "text/plain": [
              "False"
            ]
          },
          "metadata": {},
          "execution_count": 40
        }
      ]
    },
    {
      "cell_type": "code",
      "source": [
        "# 팰린드롬 체크\n",
        "\n",
        "def is_palindrome(s):\n",
        "  return s == s[::-1] # 문자열 뒤집기\n",
        "\n",
        "print(is_palindrome(\"abc\"))\n",
        "print(is_palindrome(\"Level\"))\n",
        "print(is_palindrome(\"level\"))"
      ],
      "metadata": {
        "colab": {
          "base_uri": "https://localhost:8080/"
        },
        "id": "o7KL2YQ3l4A2",
        "outputId": "94dbfcc7-4b94-4d18-989a-369900a78f0e"
      },
      "execution_count": 48,
      "outputs": [
        {
          "output_type": "stream",
          "name": "stdout",
          "text": [
            "False\n",
            "False\n",
            "True\n"
          ]
        }
      ]
    },
    {
      "cell_type": "code",
      "source": [
        "# 대소문자·공백 무시\n",
        "\n",
        "def is_palindrome_v2(s):\n",
        "  # 1. 모두 소문자로 변환\n",
        "  # 2. 문자열 안의 공백 제거\n",
        "  s = s.lower().replace(\" \",\"\")\n",
        "  return s == s[::-1]\n",
        "\n",
        "is_palindrome_v2(\"Leve l\")"
      ],
      "metadata": {
        "colab": {
          "base_uri": "https://localhost:8080/"
        },
        "id": "ghVfvpP4mXFd",
        "outputId": "7b727545-80cc-4059-ec02-ba2ad6e5a450"
      },
      "execution_count": 50,
      "outputs": [
        {
          "output_type": "execute_result",
          "data": {
            "text/plain": [
              "True"
            ]
          },
          "metadata": {},
          "execution_count": 50
        }
      ]
    },
    {
      "cell_type": "code",
      "source": [
        "# 중복 문자 제거 (순서 유지)\n",
        "\n",
        "def remove_duplicates(s):\n",
        "    seen = set() # 이미 나온 문자를 저장할 집합\n",
        "    result = [] # 중복 제거된 문자를 순서대로 저장할 리스트\n",
        "    for char in s:\n",
        "        if char not in seen: # 아직 나온 적 없는 문자면\n",
        "            seen.add(char) # 집합에 추가\n",
        "            result.append(char)  # 결과 리스트에도 추가\n",
        "    return \"\".join(result)  # 리스트를 문자열로 합쳐서 반환\n",
        "\n",
        "s = \"banana\"\n",
        "\n",
        "# 또는 dict 사용 (Python 3.7+)\n",
        "\"\".join(dict.fromkeys(s))"
      ],
      "metadata": {
        "colab": {
          "base_uri": "https://localhost:8080/",
          "height": 35
        },
        "id": "mwuJKW1Umj5H",
        "outputId": "fa1823b9-2a0a-436c-9e0b-c7ce415198c6"
      },
      "execution_count": 52,
      "outputs": [
        {
          "output_type": "execute_result",
          "data": {
            "text/plain": [
              "'ban'"
            ],
            "application/vnd.google.colaboratory.intrinsic+json": {
              "type": "string"
            }
          },
          "metadata": {},
          "execution_count": 52
        }
      ]
    },
    {
      "cell_type": "markdown",
      "source": [
        "- `set()` → 빠른 중복 체크\n",
        "\n",
        "- `result.append(char)` → 원래 순서 유지\n",
        "\n",
        "- `\"\".join(result)` → 리스트를 문자열로 변환"
      ],
      "metadata": {
        "id": "CAHCOvPGocwC"
      }
    },
    {
      "cell_type": "code",
      "source": [
        " # 가장 긴 반복 문자\n",
        " # 문자열에서 같은 문자가 연속으로 반복되는 최대 길이\n",
        "\n",
        "def longest_repeat(s):\n",
        "    if not s: return 0 # 문자열이 비어있으면 반복되는 문자가 없으므로 0 반환\n",
        "\n",
        "    # 최소 반복 길이는 1\n",
        "    max_len = 1\n",
        "    curr_len = 1\n",
        "\n",
        "    # 문자 비교\n",
        "    for i in range(1, len(s)):\n",
        "        if s[i] == s[i-1]:\n",
        "            curr_len += 1\n",
        "            max_len = max(max_len, curr_len)\n",
        "        else:\n",
        "            curr_len = 1\n",
        "    return max_len\n",
        "\n",
        "longest_repeat(\"aaabbcaaaa\")  # 4"
      ],
      "metadata": {
        "colab": {
          "base_uri": "https://localhost:8080/"
        },
        "id": "8v4gaq08pfnV",
        "outputId": "7772996a-1dea-4844-e5d8-d0262209c06f"
      },
      "execution_count": 53,
      "outputs": [
        {
          "output_type": "execute_result",
          "data": {
            "text/plain": [
              "4"
            ]
          },
          "metadata": {},
          "execution_count": 53
        }
      ]
    },
    {
      "cell_type": "markdown",
      "source": [
        "### 문자 비교 - 부분\n",
        "\n",
        "```python\n",
        "for i in range(1, len(s)):\n",
        "    if s[i] == s[i-1]:\n",
        "        curr_len += 1\n",
        "        max_len = max(max_len, curr_len)\n",
        "    else:\n",
        "        curr_len = 1\n",
        "```\n",
        "- 현재 문자(`s[i]`)가 이전 문자(`s[i-1]`)와 같으면 연속 길이 증가\n",
        "- 다르면 연속이 끊겼으므로 현재 길이 1로 초기화\n",
        "- `max_len`을 계속 갱신하며 최대 연속 길이를 저장"
      ],
      "metadata": {
        "id": "_u_y9cjKqjIB"
      }
    },
    {
      "cell_type": "markdown",
      "source": [
        "## 7. 데이터 처리\n",
        "1. 2차원 배열\n",
        "2. 배열 평탄화\n",
        "3. 라스트 정렬 (다중 키)"
      ],
      "metadata": {
        "id": "Wi6CrzckrgiH"
      }
    },
    {
      "cell_type": "code",
      "source": [
        "matrix = [[1,2,3], [4,5,6], [7,8,9]]\n",
        "\n",
        "# 90도 시계방향 회전\n",
        "rotated = [list(row) for row in zip(*matrix[::-1])]\n",
        "print(rotated)\n",
        "\n",
        "# 90도 반시계방향 회전\n",
        "rotated = [list(row) for row in zip(*matrix)][::-1]\n",
        "print(rotated)\n",
        "\n",
        "# 전치 (transpose)\n",
        "transposed = [list(row) for row in zip(*matrix)]\n",
        "print(rotated)"
      ],
      "metadata": {
        "colab": {
          "base_uri": "https://localhost:8080/"
        },
        "id": "-SdWFhyrrplJ",
        "outputId": "c5e1872b-8422-41f3-d976-f01c9450d23d"
      },
      "execution_count": 58,
      "outputs": [
        {
          "output_type": "stream",
          "name": "stdout",
          "text": [
            "[[7, 4, 1], [8, 5, 2], [9, 6, 3]]\n",
            "[[3, 6, 9], [2, 5, 8], [1, 4, 7]]\n",
            "[[3, 6, 9], [2, 5, 8], [1, 4, 7]]\n"
          ]
        }
      ]
    },
    {
      "cell_type": "markdown",
      "source": [
        "```python\n",
        "# 예제 행렬\n",
        "\n",
        "matrix = [\n",
        "    [1, 2, 3],\n",
        "    [4, 5, 6],\n",
        "    [7, 8, 9]\n",
        "]\n",
        "```\n",
        "위 행렬을 시각적으로 보면 ...\n",
        "```text\n",
        "1 2 3\n",
        "4 5 6\n",
        "7 8 9\n",
        "```\n",
        "#### 1️⃣ zip()과 * 연산자\n",
        "- `*matrix` → 리스트를 풀어서 각각의 행을 인자로 zip에 전달\n",
        "- `zip()` → 여러 iterable을 같은 인덱스끼리 묶어서 **튜플**로 반환\n",
        "\n",
        "##### 예시\n",
        "```python\n",
        "matrix = [\n",
        "    [1, 2, 3],\n",
        "    [4, 5, 6],\n",
        "    [7, 8, 9]\n",
        "]\n",
        "\n",
        "list(zip(*matrix))\n",
        "```\n",
        "결과 : `[(1,4,7), (2,5,8), (3,6,9)]`\n",
        "\n",
        "---\n",
        "\n",
        "#### 2️⃣ 90도 시계방향 회전\n",
        "```python\n",
        "matrix = [\n",
        "    [1, 2, 3],\n",
        "    [4, 5, 6],\n",
        "    [7, 8, 9]\n",
        "]\n",
        "\n",
        "rotated = [list(row) for row in zip(*matrix[::-1])]\n",
        "\n",
        "print(rotated)\n",
        "```\n",
        "- `matrix[::-1]` → 행 순서를 뒤집음\n",
        "- `*matrix[::-1]` → 각 행을 zip으로 풀어줌\n",
        "- `zip(*matrix[::-1])` → 열끼리 묶어서 새로운 행 생성\n",
        "- 결과 : `[[7, 4, 1], [8, 5, 2], [9, 6, 3]]`\n",
        "\n",
        "---\n",
        "#### 3️⃣ 90도 반시계방향 회전\n",
        "\n",
        "\n"
      ],
      "metadata": {
        "id": "Hls5gzDAsEiO"
      }
    },
    {
      "cell_type": "code",
      "source": [],
      "metadata": {
        "id": "0kWutQGarsqs"
      },
      "execution_count": null,
      "outputs": []
    }
  ]
}
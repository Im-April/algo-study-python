{
  "nbformat": 4,
  "nbformat_minor": 0,
  "metadata": {
    "colab": {
      "provenance": []
    },
    "kernelspec": {
      "name": "python3",
      "display_name": "Python 3"
    },
    "language_info": {
      "name": "python"
    }
  },
  "cells": [
    {
      "cell_type": "code",
      "execution_count": null,
      "metadata": {
        "colab": {
          "base_uri": "https://localhost:8080/"
        },
        "id": "JV3AWZgQJ3fY",
        "outputId": "cc2d5f79-e3ee-40f6-8b6b-471b1edf95a4"
      },
      "outputs": [
        {
          "output_type": "stream",
          "name": "stdout",
          "text": [
            "6\n"
          ]
        }
      ],
      "source": [
        "n = 1260\n",
        "result = 0\n",
        "\n",
        "coins = [500,100,50,10]\n",
        "\n",
        "for coin in coins :\n",
        "  result += n // coin\n",
        "  n %= coin\n",
        "\n",
        "print(result)"
      ]
    },
    {
      "cell_type": "code",
      "source": [
        "n,k,m = map(int,input().split())\n",
        "data = list(map(int,input().split()))\n",
        "\n",
        "# 오름차순\n",
        "data.sort()\n",
        "\n",
        "first = data[-1]\n",
        "second = data[-2]\n",
        "\n",
        "print(first)\n",
        "print(second)\n",
        "\n",
        "result = 0\n",
        "\n",
        "while True :\n",
        "  for i in range(k) :  # 가장 큰 수 k번 더하기\n",
        "    if m == 0 :\n",
        "      break\n",
        "    result += first\n",
        "    m -= 1\n",
        "  if m == 0 :\n",
        "    break\n",
        "  result += second\n",
        "  m -= 1\n",
        "\n",
        "print(result)"
      ],
      "metadata": {
        "colab": {
          "base_uri": "https://localhost:8080/"
        },
        "id": "YDMw0DHOStOy",
        "outputId": "5480b8ca-5400-4a71-94fa-95ff387cc978"
      },
      "execution_count": null,
      "outputs": [
        {
          "output_type": "stream",
          "name": "stdout",
          "text": [
            "5 3 6\n",
            "2 4 5 4 6\n",
            "6\n",
            "5\n",
            "35\n"
          ]
        }
      ]
    },
    {
      "cell_type": "code",
      "source": [
        "n,k,m = map(int,input().split())\n",
        "data = list(map(int,input().split()))\n",
        "\n",
        "# 오름차순\n",
        "data.sort()\n",
        "\n",
        "first = data[-1]\n",
        "second = data[-2]\n",
        "\n",
        "# 가장 큰 수가 더해지는 횟수 계산\n",
        "count = int(m / (k+1)) * k\n",
        "count = m % (k+1)\n",
        "\n",
        "result = 0\n",
        "result += (count) * first # 가장 큰 수 더하기\n",
        "result += (m - count) * second # 두 번째로 큰 수 더하기\n",
        "\n",
        "print(result)"
      ],
      "metadata": {
        "colab": {
          "base_uri": "https://localhost:8080/"
        },
        "id": "Jc4x6-6SWl6E",
        "outputId": "3e6cd299-722d-4591-c01f-f3fc5149b711"
      },
      "execution_count": null,
      "outputs": [
        {
          "output_type": "stream",
          "name": "stdout",
          "text": [
            "5 3 6\n",
            "2 4 5 4 6\n",
            "32\n"
          ]
        }
      ]
    },
    {
      "cell_type": "code",
      "source": [
        "n, m = map(int, input().split())\n",
        "result = 0  # 초기화 필수!\n",
        "\n",
        "for i in range(n):\n",
        "    data = list(map(int, input().split()))\n",
        "    min_value = min(data)\n",
        "    result = max(result, min_value)\n",
        "\n",
        "print(result)"
      ],
      "metadata": {
        "colab": {
          "base_uri": "https://localhost:8080/"
        },
        "id": "Jrknr3QZaUZ_",
        "outputId": "9f72b6e4-2845-42fe-959f-503fb915aedf"
      },
      "execution_count": null,
      "outputs": [
        {
          "output_type": "stream",
          "name": "stdout",
          "text": [
            "3 3\n",
            "1 3 4\n",
            "2 3 5\n",
            "6 2 1\n",
            "2\n"
          ]
        }
      ]
    },
    {
      "cell_type": "code",
      "source": [
        "n, m = map(int, input().split())\n",
        "result = 0  # 초기화 필수!\n",
        "\n",
        "for i in range(n) :\n",
        "  data = list(map(int,input().split()))\n",
        "  # 현재 줄에서 가장 작은 수\n",
        "  min_value = 1001\n",
        "  for a in data :\n",
        "    min_value = min(min_value, a)\n",
        "    # '가장 작은 수'들 중에서 가장 큰 수 찾기\n",
        "    result = max(result, min_value)\n",
        "\n",
        "print(result)"
      ],
      "metadata": {
        "colab": {
          "base_uri": "https://localhost:8080/"
        },
        "id": "QXJbR1KHdi7T",
        "outputId": "e8657f20-d271-4ba4-baf2-c15f1996399f"
      },
      "execution_count": null,
      "outputs": [
        {
          "output_type": "stream",
          "name": "stdout",
          "text": [
            "3 3\n",
            "1 3 4\n",
            "2 3 5\n",
            "6 1 2\n",
            "6\n"
          ]
        }
      ]
    },
    {
      "cell_type": "code",
      "source": [
        "n,k = map(int, input().split())\n",
        "result = 0\n",
        "\n",
        "# n이 k 이상이라면 k로 계속 나누기\n",
        "while n >= k :\n",
        "  # n이 k로 나누어 떨어지지 않는다면 n에서 1씩 빼기\n",
        "  while n % k != 0 :\n",
        "    n -= 1\n",
        "    result += 1\n",
        "  # k로 나누기\n",
        "  n //= k\n",
        "  result += 1\n",
        "\n",
        "# 마지막으로 남은 수에 대하여 1씩 빼기\n",
        "while n > 1 :\n",
        "  n -= 1\n",
        "  result += 1\n",
        "\n",
        "print(result)"
      ],
      "metadata": {
        "colab": {
          "base_uri": "https://localhost:8080/"
        },
        "id": "vbTbUTzLeIPu",
        "outputId": "617a9577-66d0-4840-8672-7f337e84264a"
      },
      "execution_count": null,
      "outputs": [
        {
          "output_type": "stream",
          "name": "stdout",
          "text": [
            "25 3\n",
            "6\n"
          ]
        }
      ]
    },
    {
      "cell_type": "code",
      "source": [
        "n,k = map(int, input().split())\n",
        "result = 0\n",
        "\n",
        "while True :\n",
        "  target = (n // k) * k\n",
        "  result += n - (target)\n",
        "  n = target\n",
        "  # n이 k보다 작을 때 반복문 탈출\n",
        "  if n < k :\n",
        "    break\n",
        "  # k로 나누기\n",
        "  result += 1\n",
        "  n //= k\n",
        "\n",
        "# 마지막으로 남은 수에 대해 1씩 빼기\n",
        "result += (n-1)\n",
        "print(result)"
      ],
      "metadata": {
        "colab": {
          "base_uri": "https://localhost:8080/"
        },
        "id": "1a7JS46tgubE",
        "outputId": "278fa70e-a86d-4a44-a9f5-1f0b6475cd80"
      },
      "execution_count": null,
      "outputs": [
        {
          "output_type": "stream",
          "name": "stdout",
          "text": [
            "25 3\n",
            "6\n"
          ]
        }
      ]
    },
    {
      "cell_type": "code",
      "source": [
        "n = int(input())\n",
        "plans = input().split()\n",
        "x,y = 1,1\n",
        "\n",
        "dx = [0,0,-1,1]\n",
        "dy = [-1,1,0,0]\n",
        "move_type = ['L','R','U','D']\n",
        "\n",
        "for plan in plans :\n",
        "  for i in range(len(move_type)) :\n",
        "    if plan == move_type[i] :\n",
        "      nx = x + dx[i]\n",
        "      ny = y + dy[i]\n",
        "\n",
        "  # 공간을 벗어나는 경우 무시\n",
        "  if nx < 1 or ny < 1 or nx > n or ny > n :\n",
        "    continue\n",
        "  # 이동 수행\n",
        "  x, y = nx, ny\n",
        "\n",
        "print(x, y)"
      ],
      "metadata": {
        "colab": {
          "base_uri": "https://localhost:8080/"
        },
        "id": "gVajNmPNiJCZ",
        "outputId": "645044f0-ec57-44eb-8cdd-c72330f4c8e0"
      },
      "execution_count": null,
      "outputs": [
        {
          "output_type": "stream",
          "name": "stdout",
          "text": [
            "5\n",
            "R R R U D D\n",
            "3 4\n"
          ]
        }
      ]
    },
    {
      "cell_type": "code",
      "source": [
        "h = int(input())\n",
        "\n",
        "count = 0\n",
        "for i in range(h+1) :\n",
        "  for j in range(60):\n",
        "    for k in range(60) :\n",
        "      if '3' in str(i) + str(j) + str(k) :\n",
        "        count += 1\n",
        "\n",
        "print(count)"
      ],
      "metadata": {
        "colab": {
          "base_uri": "https://localhost:8080/"
        },
        "id": "FhWkfpz3nkG0",
        "outputId": "d7b40828-49a1-490b-eb01-0146121dcf64"
      },
      "execution_count": null,
      "outputs": [
        {
          "output_type": "stream",
          "name": "stdout",
          "text": [
            "5\n",
            "11475\n"
          ]
        }
      ]
    },
    {
      "cell_type": "code",
      "source": [
        "# 현재 나이트의 위치\n",
        "input_data = input()\n",
        "row = int(input_data[1])\n",
        "col = int(ord(input_data[0])) - int(ord('a')) + 1\n",
        "\n",
        "# 8가지 방향에 대하여 각 위치로 이동이 가능한지 확인\n",
        "steps = [(-2,-1), (-1,-2), (1,-2), (2,-1), (2,1), (1,2), (-1,2), (-2,1)]\n",
        "\n",
        "# 8가지 방향에 대하여 각 위치로 이동이 가능한지 확인\n",
        "result = 0\n",
        "for step in steps :\n",
        "  # 이동하고자 하는 위치\n",
        "  next_row = row + step[0]\n",
        "  next_col = col + step[1]\n",
        "  # 해당 위치로 이동이 가능하다면 카운트 증가\n",
        "  if next_row >= 1 and next_row <= 8 and next_col >= 1 and next_col <= 8 :\n",
        "    result += 1\n",
        "\n",
        "print(result)"
      ],
      "metadata": {
        "colab": {
          "base_uri": "https://localhost:8080/"
        },
        "id": "4DAQZ7qouP-x",
        "outputId": "faf29ac2-2c99-48da-e945-edd4cedb4754"
      },
      "execution_count": null,
      "outputs": [
        {
          "output_type": "stream",
          "name": "stdout",
          "text": [
            "c2\n",
            "6\n"
          ]
        }
      ]
    },
    {
      "cell_type": "code",
      "source": [
        "n,m = map(int,input().split())\n",
        "\n",
        "d = [[0]*m for _ in range(n)]\n",
        "\n",
        "# 현재 캐릭터의 x 좌표 y 좌표 방향 입력 받기\n",
        "x, y, direction = map(int, input().split())\n",
        "d[x][y] = 1\n",
        "\n",
        "# 전체 맵 정보 입력받기\n",
        "array = []\n",
        "for i in range(n):\n",
        "  array.append(list(map(int, input().split())))\n",
        "\n",
        "# 북, 동, 서, 남\n",
        "dx = [-1,0,1,0]\n",
        "dy = [0,1,0,-1]\n",
        "\n",
        "# 왼쪽으로 회전\n",
        "def left() :\n",
        "  global direction\n",
        "  direction -= 1\n",
        "  if direction == -1 :\n",
        "    direction = 3\n",
        "\n",
        "# 시뮬레이션 시작\n",
        "count = 1\n",
        "turn_time = 0\n",
        "\n",
        "while True :\n",
        "  # 왼쪽으로 회전\n",
        "  left()\n",
        "  nx = x + dx[direction]\n",
        "  ny = x + dy[direction]\n",
        "  # 회전한 이후 정면에 가보지 않은 칸이 존재하는 경우 이동\n",
        "  if d[nx][dx] == 0 and array[nx][ny] == 0 :\n",
        "    d[nx][ny] = 1\n",
        "    x = nx\n",
        "    y = ny\n",
        "    count += 1\n",
        "    turn_time = 0\n",
        "    continue\n",
        "  # 회전한 이후 정면에 가보지 않은 칸이 있거나 바다인 경우\n",
        "  else :\n",
        "    turn_time += 1\n",
        "  # 네 방향 모두 갈 수 없는 경우\n",
        "  if turn_time == 4 :\n",
        "    nx = x - dx[direction]\n",
        "    ny = y - dy[direction]\n",
        "    # 뒤로 갈 수 있다면 이동하기\n",
        "    if array[nx][ny] == 0:\n",
        "      x = nx\n",
        "      y = ny\n",
        "    # 뒤가 바다로 막혀있는 경우\n",
        "    else :\n",
        "      break\n",
        "    turn_time = 0\n",
        "\n",
        "print(count)"
      ],
      "metadata": {
        "id": "NvM4PRHKxDdI"
      },
      "execution_count": null,
      "outputs": []
    }
  ]
}